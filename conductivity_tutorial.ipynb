{
 "cells": [
  {
   "cell_type": "markdown",
   "metadata": {
    "jp-MarkdownHeadingCollapsed": true,
    "tags": []
   },
   "source": [
    "![puma logo](https://github.com/nasa/puma/raw/main/doc/source/puma_logo.png)\n",
    "# PuMA problem set - Problem 1 starter code"
   ]
  },
  {
   "cell_type": "markdown",
   "metadata": {},
   "source": [
    "The purpose of this tutorial is to introduce the user to the thermal conductivity module of the PuMA software"
   ]
  },
  {
   "cell_type": "markdown",
   "metadata": {
    "pycharm": {
     "name": "#%% md\n"
    }
   },
   "source": [
    "# Installation setup and imports"
   ]
  },
  {
   "cell_type": "markdown",
   "metadata": {},
   "source": [
    "If you are running this jupyter notebook locally on your machine, then you don't need to run any setup, granted that you installed PuMA using the installer.sh script. \n",
    "\n",
    "If you are running this notebook online on Google Colab and you only need to run the python tutorials (except for the one about Weaves), the following command is enough to setup the environment. \n",
    "\n",
    "Note that the first time this runs, it may take a couple of minutes."
   ]
  },
  {
   "cell_type": "code",
   "execution_count": null,
   "metadata": {},
   "outputs": [],
   "source": [
    "if 'google.colab' in str(get_ipython()):\n",
    "    !pip install 'git+https://github.com/nasa/puma'\n",
    "    !pip install -q piglet pyvirtualdisplay\n",
    "    !apt-get -qq install xvfb"
   ]
  },
  {
   "cell_type": "markdown",
   "metadata": {},
   "source": [
    "# Importing pumapy\n"
   ]
  },
  {
   "cell_type": "code",
   "execution_count": null,
   "metadata": {},
   "outputs": [],
   "source": [
    "import numpy as np\n",
    "import pumapy as puma\n",
    "import pyvista as pv\n",
    "import scipy.ndimage as nd\n",
    "import os\n",
    "import sys\n",
    "if 'google.colab' in str(get_ipython()):\n",
    "    from pyvirtualdisplay import Display\n",
    "    display = Display(visible=0, size=(600, 400))\n",
    "    display.start()  # necessary for pyvista interactive plots\n",
    "    \n",
    "else:  # NORMAL JUPYTER NOTEBOOK\n",
    "    # for interactive slicer (only static allowed on Colab)\n",
    "    %matplotlib widget"
   ]
  },
  {
   "cell_type": "markdown",
   "metadata": {},
   "source": [
    "### Calculation of Thermal Conductivity"
   ]
  },
  {
   "cell_type": "markdown",
   "metadata": {},
   "source": [
    "This section is designed to produce a simple working example that you can modify for Problem #1 part b"
   ]
  },
  {
   "cell_type": "code",
   "execution_count": null,
   "metadata": {},
   "outputs": [],
   "source": [
    "# Create a workspace from a shape. The workspace is now a 100x10x1 array\n",
    "workspace = puma.Workspace.from_shape((100,10,10))\n",
    "workspace.voxel_length = 0.01\n",
    "\n",
    "# By default, the from_shape function assigns a value of 0 to all cells. \n",
    "# We will assign half of the domain to have a value of 1 by modifying the underlying numpy array.\n",
    "# Note: If you are unfamiliar with how to modify numpy array values, look here: https://numpy.org/devdocs/user/quickstart.html\n",
    "workspace.matrix[50:,:,:] = 1\n",
    "\n",
    "# We can see our values by using the plot_slices function\n",
    "slices = puma.plot_slices(workspace)\n",
    "\n",
    "# The first step of running a thermal conductivity calculation is assigning conductivity values to each workspace value. \n",
    "# We do this using a conductivity map, which maps material ID ranges to thermal conductivity values\n",
    "\n",
    "# Generating a conductivity map. This stores the conductivity values for each phase of the material\n",
    "cond_map = puma.IsotropicConductivityMap()\n",
    "# First, we set the conductivity of the left side to be 1\n",
    "cond_map.add_material((0, 0), 1)\n",
    "# Next we set the conductivity of the right side to be 10\n",
    "cond_map.add_material((1, 1), 10)\n",
    "\n",
    "# The thermal conductivity calculation can be run for each of the three simulation directions. \n",
    "# For each simulation, a temperature gradient is forced in the simulation direction, and converged to steady state\n",
    "\n",
    "# Simulation inputs: \n",
    "#.  1. workspace - the computational domain for the simulation, containing your material microstructure\n",
    "#.  2. cond_map - the conductivity values for each material phase\n",
    "#.  3. direction - the simulation direction, 'x', 'y', or 'z'\n",
    "#.  4. side_bc - boundary condition in the non-simulation direction. Can be 'p' - periodic, 's' - symmetric, 'd' - dirichlet\n",
    "#.  5. tolerance - accuracy of the numerical solver, defaults to 1e-4. \n",
    "#.  6. maxiter - maximum number of iterations, defaults to 10,000\n",
    "#.  7. solver_type - the iterative solver used. Can be 'bicgstab', 'cg', 'gmres', or 'direct'. Defaults to 'bicgstab'\n",
    "\n",
    "k_eff_x, T_x, q_x = puma.compute_thermal_conductivity(workspace, cond_map, 'x', 's', tolerance=1e-4, solver_type='cg')\n",
    "k_eff_y, T_y, q_y = puma.compute_thermal_conductivity(workspace, cond_map, 'y', 's', tolerance=1e-4, solver_type='cg')\n",
    "k_eff_z, T_z, q_z = puma.compute_thermal_conductivity(workspace, cond_map, 'z', 's', tolerance=1e-4, solver_type='cg')\n",
    "\n",
    "\n",
    "print(\"Effective thermal conductivity tensor:\")\n",
    "print(k_eff_x)\n",
    "print(k_eff_y)\n",
    "print(k_eff_z)"
   ]
  },
  {
   "cell_type": "markdown",
   "metadata": {},
   "source": [
    "\n",
    "### Calculation of Thermal Conductivity on real materials\n",
    "Below is an example of calculating the thermal conductivity of a real material, to be used in Problem 1 part c. The sample size is much smaller than would be used in a production case, but it serves as a demonstration\n"
   ]
  },
  {
   "cell_type": "code",
   "execution_count": null,
   "metadata": {},
   "outputs": [],
   "source": [
    "# Generating a small fibrous structure\n",
    "workspace = puma.import_3Dtiff(puma.path_to_example_file(\"200_fiberform.tif\"), 1e-6)\n",
    "\n",
    "# If you would like to see what this sample looks like, uncomment the line below and run this block. Note that this may\n",
    "puma.render_contour(workspace, (90,255), notebook=True) # Set notebook=False if running on local machine\n",
    "\n",
    "\n",
    "# Downscaling the sample a little bit so that it runs faster\n",
    "workspace.resize((100,100,100), segmented=False)\n",
    "\n",
    "# We can see our values by using the plot_slices function\n",
    "# slices = puma.plot_slices(workspace)\n",
    "\n",
    "# The first step of running a thermal conductivity calculation is assigning conductivity values to each workspace value. \n",
    "# We do this using a conductivity map, which maps material ID ranges to thermal conductivity values\n",
    "\n",
    "# Generating a conductivity map. This stores the conductivity values for each phase of the material\n",
    "cond_map = puma.IsotropicConductivityMap()\n",
    "# First, we set the conductivity of the void phase to be 0.0257, or that of air and STP\n",
    "cond_map.add_material((0, 89), 0.0257)\n",
    "# Next we set the conductivity of the solid phase to be 12, roughly correct for carbon fibers\n",
    "cond_map.add_material((90, 255), 12)\n",
    "\n",
    "# The thermal conductivity calculation can be run for each of the three simulation directions. \n",
    "# For each simulation, a temperature gradient is forced in the simulation direction, and converged to steady state\n",
    "\n",
    "# Simulation inputs: \n",
    "#.  1. workspace - the computational domain for the simulation, containing your material microstructure\n",
    "#.  2. cond_map - the conductivity values for each material phase\n",
    "#.  3. direction - the simulation direction, 'x', 'y', or 'z'\n",
    "#.  4. side_bc - boundary condition in the non-simulation direction. Can be 'p' - periodic, 's' - symmetric, 'd' - dirichlet\n",
    "#.  5. tolerance - accuracy of the numerical solver, defaults to 1e-4. \n",
    "#.  6. maxiter - maximum number of iterations, defaults to 10,000\n",
    "#.  7. solver_type - the iterative solver used. Can be 'bicgstab', 'cg', 'gmres', or 'direct'. Defaults to 'bicgstab'\n",
    "\n",
    "k_eff_x, T_x, q_x = puma.compute_thermal_conductivity(workspace, cond_map, 'x', 's', tolerance=1e-4, solver_type='cg')\n",
    "# k_eff_y, T_y, q_y = puma.compute_thermal_conductivity(workspace, cond_map, 'y', 's', tolerance=1e-4, solver_type='cg')\n",
    "# k_eff_z, T_z, q_z = puma.compute_thermal_conductivity(workspace, cond_map, 'z', 's', tolerance=1e-4, solver_type='cg')\n",
    "\n",
    "\n",
    "print(\"Effective thermal conductivity tensor:\")\n",
    "print(k_eff_x)\n",
    "# print(k_eff_y)\n",
    "# print(k_eff_z)"
   ]
  },
  {
   "cell_type": "code",
   "execution_count": null,
   "metadata": {},
   "outputs": [],
   "source": []
  }
 ],
 "metadata": {
  "kernelspec": {
   "display_name": "Python 3 (ipykernel)",
   "language": "python",
   "name": "python3"
  },
  "language_info": {
   "codemirror_mode": {
    "name": "ipython",
    "version": 3
   },
   "file_extension": ".py",
   "mimetype": "text/x-python",
   "name": "python",
   "nbconvert_exporter": "python",
   "pygments_lexer": "ipython3",
   "version": "3.7.4"
  },
  "toc-autonumbering": true
 },
 "nbformat": 4,
 "nbformat_minor": 4
}
