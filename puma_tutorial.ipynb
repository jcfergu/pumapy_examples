{
 "cells": [
  {
   "cell_type": "markdown",
   "metadata": {},
   "source": [
    "![puma logo](https://github.com/nasa/puma/raw/main/doc/source/puma_logo.png)\n",
    "# Welcome to the PuMA tutorial"
   ]
  },
  {
   "cell_type": "markdown",
   "metadata": {},
   "source": [
    "The objective of this notebook is to familiarize new users with the main datastructures that stand at the basis of the PuMA project, and outline the functions to compute material properties (please refer to [this paper](https://www.sciencedirect.com/science/article/pii/S235271102100090X) for more details on the software)."
   ]
  },
  {
   "cell_type": "markdown",
   "metadata": {
    "pycharm": {
     "name": "#%% md\n"
    }
   },
   "source": [
    "# Installation setup and imports"
   ]
  },
  {
   "cell_type": "markdown",
   "metadata": {},
   "source": [
    "If you are running this jupyter notebook locally on your machine, then you don't need to run any setup, granted that you installed PuMA using the installer.sh script. \n",
    "\n",
    "If you are running this notebook online on Google Colab and you only need to run the python tutorials (except for the one about Weaves), the following command is enough to setup the environment:"
   ]
  },
  {
   "cell_type": "code",
   "execution_count": null,
   "metadata": {},
   "outputs": [],
   "source": [
    "if 'google.colab' in str(get_ipython()):\n",
    "    !pip install 'git+https://github.com/nasa/puma'\n",
    "    !pip install -q piglet pyvirtualdisplay\n",
    "    !apt-get -qq install xvfb"
   ]
  },
  {
   "cell_type": "markdown",
   "metadata": {},
   "source": [
    "Finally, if you instead need to either run the C++ PuMA code or the Weaves TexGen tutorial on Colab, then you need to run the following cell, which will take about 10-15 mins:"
   ]
  },
  {
   "cell_type": "code",
   "execution_count": null,
   "metadata": {},
   "outputs": [],
   "source": [
    "import os\n",
    "if 'google.colab' in str(get_ipython()):\n",
    "    !pip install -q condacolab\n",
    "    import condacolab\n",
    "    condacolab.install()\n",
    "    !pip install -q piglet pyvirtualdisplay\n",
    "    !apt-get -qq install xvfb\n",
    "    !if [[ $(conda list puma) != *\"puma\"* ]]; then conda install -c conda-forge puma; fi\n",
    "    os.environ['CONDA_PREFIX'] = \"/usr/local/\"  # necessary for C++ CMakeLists\n",
    "    try:\n",
    "        import pumapy as puma\n",
    "    except:  # Colab needs to restart kernel the first time puma is installed\n",
    "        import os; os.kill(os.getpid(), 9)  # intentionally crash kernel to force restart"
   ]
  },
  {
   "cell_type": "markdown",
   "metadata": {},
   "source": [
    "# Python tutorials\n",
    "\n",
    "In this section, we introduce how to use the pumapy python package. We start by importing the necessary packages:"
   ]
  },
  {
   "cell_type": "code",
   "execution_count": null,
   "metadata": {},
   "outputs": [],
   "source": [
    "import numpy as np\n",
    "import pumapy as puma\n",
    "import pyvista as pv\n",
    "import scipy.ndimage as nd\n",
    "import os\n",
    "import sys\n",
    "if 'google.colab' in str(get_ipython()):\n",
    "    from pyvirtualdisplay import Display\n",
    "    display = Display(visible=0, size=(600, 400))\n",
    "    display.start()  # necessary for pyvista interactive plots\n",
    "    \n",
    "else:  # NORMAL JUPYTER NOTEBOOK\n",
    "    # for interactive slicer (only static allowed on Colab)\n",
    "    %matplotlib widget"
   ]
  },
  {
   "cell_type": "markdown",
   "metadata": {},
   "source": [
    "## Tutorial: Workspace Manipulations\n",
    "In this tutorial we demonstrate how to create a workspace and perform basic operations on it, including cropping, rotation, thresholding."
   ]
  },
  {
   "cell_type": "markdown",
   "metadata": {},
   "source": [
    "A workspace is the datastructure at the basis of both PuMA and pumapy and it is basically a container for the material sample that is being analyzed. A workspace is made of little cubes, or voxels (i.e. 3D pixels), holding a value. This simple element definition (formally called Cartesian grid) allows for very fast operations. Inside a workspace object, two different arrays are defined: one called \"matrix\" and the other called \"orientation\". Both of these are nothing but a 3D Numpy array for the matrix (X,Y,Z dimensions of the domain) and a 4D Numpy array for the orientation (dimensions of X,Y,Z,3 for vectors throughout the domain). \n",
    "\n",
    "Next we show the different ways we have implemented to define a workspace class. You can check how to use the methods by running the following commands:"
   ]
  },
  {
   "cell_type": "code",
   "execution_count": null,
   "metadata": {},
   "outputs": [],
   "source": [
    "help(puma.Workspace)  # all class methods"
   ]
  },
  {
   "cell_type": "code",
   "execution_count": null,
   "metadata": {},
   "outputs": [],
   "source": [
    "help(puma.Workspace.rescale)  # specific class method"
   ]
  },
  {
   "cell_type": "code",
   "execution_count": null,
   "metadata": {},
   "outputs": [],
   "source": [
    "# defines a workspace full of zeros of shape 10x11x12\n",
    "ws = puma.Workspace.from_shape((10, 11, 12))\n",
    "print(f\"Shape of workspace: {ws.matrix.shape}\")\n",
    "print(f\"Unique values in matrix: {ws.unique_values()}\")"
   ]
  },
  {
   "cell_type": "code",
   "execution_count": null,
   "metadata": {},
   "outputs": [],
   "source": [
    "# defines a workspace of shape 20x31x212, full of a custom value (in this case ones)\n",
    "ws = puma.Workspace.from_shape_value((20, 31, 212), 1)\n",
    "print(f\"Shape of workspace: {ws.matrix.shape}\")\n",
    "print(f\"Unique values in matrix: {ws.unique_values()}\")"
   ]
  },
  {
   "cell_type": "code",
   "execution_count": null,
   "metadata": {},
   "outputs": [],
   "source": [
    "# defines a workspace of shape 5x6x2, full of a custom value (in this case ones) for the matrix array\n",
    "# and vectors for the orientation array\n",
    "ws_with_orientation = puma.Workspace.from_shape_value_vector((5, 6, 2), 1, (0.4, 2, 5))\n",
    "print(f\"Matrix shape of workspace: {ws_with_orientation.matrix.shape}\")\n",
    "print(f\"Orientation shape of workspace: {ws_with_orientation.orientation.shape}\")\n",
    "print(\"Display Workspace matrix\")\n",
    "ws_with_orientation.show_matrix()"
   ]
  },
  {
   "cell_type": "code",
   "execution_count": null,
   "metadata": {},
   "outputs": [],
   "source": [
    "print(\"Display Workspace orientation\")\n",
    "ws_with_orientation.show_orientation()"
   ]
  },
  {
   "cell_type": "code",
   "execution_count": null,
   "metadata": {},
   "outputs": [],
   "source": [
    "# we can also convert a Numpy array into a Workspace directly by running:\n",
    "array = np.random.randint(5, size=(10, 10, 10))\n",
    "ws = puma.Workspace.from_array(array)\n",
    "print(f\"Matrix shape of workspace: {ws.get_shape()}\")"
   ]
  },
  {
   "cell_type": "code",
   "execution_count": null,
   "metadata": {},
   "outputs": [],
   "source": [
    "# finally, we can create an empty workspace object and assign its matrix directly (not recommended):\n",
    "ws = puma.Workspace()\n",
    "ws.matrix = np.random.randint(5, size=(10, 10, 3))\n",
    "print(\"Display Workspace\")\n",
    "ws.show_matrix()"
   ]
  },
  {
   "cell_type": "code",
   "execution_count": null,
   "metadata": {},
   "outputs": [],
   "source": [
    "# N.B. the following commands are equivalent\n",
    "print(\"Different ways to index the matrix array:\")\n",
    "print(ws[0, 0, 0])\n",
    "print(ws.matrix[0, 0, 0])"
   ]
  },
  {
   "cell_type": "markdown",
   "metadata": {},
   "source": [
    "It is important to keep the first three dimensions (X,Y,Z) of the matrix and orientation class variables the same. This is automatically enforced by using the class methods, but it is not when assigning them directly as in the last example. "
   ]
  },
  {
   "cell_type": "markdown",
   "metadata": {},
   "source": [
    "Let's now import a tomography image directly into a workspace (PuMA comes with some example files that can be imported using the path_to_example_file function as shown below): "
   ]
  },
  {
   "cell_type": "code",
   "execution_count": null,
   "metadata": {
    "pycharm": {
     "name": "#%%\n"
    }
   },
   "outputs": [],
   "source": [
    "ws_raw = puma.import_3Dtiff(puma.path_to_example_file(\"200_fiberform.tif\"), 1.3e-6)\n",
    "print(f\"Shape of workspace: {ws_raw.matrix.shape}\")"
   ]
  },
  {
   "cell_type": "markdown",
   "metadata": {},
   "source": [
    "This specific tiff stack is 8 bit, so the grayscale values will range from 0 to 255. PuMA can also import 16bit images, which allow a much larger range from 0 to 65535 (i.e. 2^16)."
   ]
  },
  {
   "cell_type": "markdown",
   "metadata": {},
   "source": [
    "The voxel length (in meters) of the workspace can either be set during import of a 3D tiff, or manually afterwards, as shown below: "
   ]
  },
  {
   "cell_type": "code",
   "execution_count": null,
   "metadata": {},
   "outputs": [],
   "source": [
    "ws_raw.voxel_length = 1.3e-6"
   ]
  },
  {
   "cell_type": "markdown",
   "metadata": {},
   "source": [
    "We can visualize its slices by running the command below. By scrolling on top of the plot, you can slice through the material along the z axis. You can also use the left/right arrows on the keyboard to skip +/-10 slices or the up/down arrows to skip +/-100 slices (if this does not work automatically, try clicking on the plot first). In addition, on the bottom of the plot, the (x,y) coordinates are shown along with the corresponding grayscale value. \n",
    "\n",
    "Note that in Colab only static plots are allowed, so an index can be specified to indicate the slice to show."
   ]
  },
  {
   "cell_type": "code",
   "execution_count": null,
   "metadata": {},
   "outputs": [],
   "source": [
    "slices = puma.plot_slices(ws_raw, slice_direction='z', crange=None, cmap='gray', index=1)"
   ]
  },
  {
   "cell_type": "markdown",
   "metadata": {},
   "source": [
    "Otherwise, we can also 3D render it as (see the visualization tutorial for more tips on this):"
   ]
  },
  {
   "cell_type": "code",
   "execution_count": null,
   "metadata": {},
   "outputs": [],
   "source": [
    "puma.render_volume(ws_raw, notebook=True)"
   ]
  },
  {
   "cell_type": "markdown",
   "metadata": {},
   "source": [
    "Next, we show how to manipulate the domain, e.g. crop, rescale, resize and rotate it. \n",
    "\n",
    "An approach to crop a domain is the following:"
   ]
  },
  {
   "cell_type": "code",
   "execution_count": null,
   "metadata": {},
   "outputs": [],
   "source": [
    "ws_copy = ws_raw.copy()  # make a copy of the domain first\n",
    "ws_copy.matrix = ws_copy[10:40, 35:, -20:]  # crop the domain by selecting ranges\n",
    "print(f\"Shape of original workspace: {ws_raw.get_shape()}\")\n",
    "print(f\"Shape of cropped workspace: {ws_copy.get_shape()}\")"
   ]
  },
  {
   "cell_type": "markdown",
   "metadata": {},
   "source": [
    "However, it is important to not fall in the trap of referencing the same Numpy array. Here is an example of how you SHOULD NOT perform cropping:"
   ]
  },
  {
   "cell_type": "code",
   "execution_count": null,
   "metadata": {},
   "outputs": [],
   "source": [
    "ws_bad = puma.Workspace()\n",
    "ws_bad.matrix = ws_raw[10:40, 35:, -20:]  # WRONG: always make a copy first!\n",
    "ws_bad[0, 0, 0] = np.random.randint(0, 255)  # otherwise, this line also changes ws_raw\n",
    "print(ws_raw[10, 35, -20])\n",
    "print(ws_bad[0, 0, 0])"
   ]
  },
  {
   "cell_type": "markdown",
   "metadata": {},
   "source": [
    "As you can see from the output, both the original Workspace and the newly created one share the same Numpy array for the matrix class variable (the second one is only a section of it, also called a Numpy view). This way, when one is changed, the other one will be changed as well. It is important to make a copy of a domain if the original workspace needs to be kept.\n",
    "\n",
    "Next, we show how we can rescale a domain by a factor or resize it to a specified size. "
   ]
  },
  {
   "cell_type": "code",
   "execution_count": null,
   "metadata": {},
   "outputs": [],
   "source": [
    "ws_copy = ws_raw.copy()\n",
    "ws_copy.rescale(scale=0.5, segmented=False)\n",
    "\n",
    "# Notice that now the axis have different limits\n",
    "puma.compare_slices(ws_raw, ws_copy, index=50)"
   ]
  },
  {
   "cell_type": "markdown",
   "metadata": {
    "pycharm": {
     "name": "#%% md\n"
    }
   },
   "source": [
    "## Tutorial: import and export\n",
    "\n",
    "In this tutorial we demonstrate how to input and output a computational domain in PuMA"
   ]
  },
  {
   "cell_type": "markdown",
   "metadata": {},
   "source": [
    "### Explanation of data structures\n",
    "First, we give a brief explanation of the PuMA data structures. For a more detailed description, refer to the tutorial on Workspace Manipulations.\n",
    "\n",
    "Microstructures in PuMA are stored in a data structure called a \"workspace\". The workspace class includes all of the data about the material microstructure, including a 3D matrix of grayscale values, which can be either raw data from tomographic images, or segmented values. \n",
    "\n",
    "Note that in Colab only static plots are allowed, so an index can be specified to indicate the slice to show.\n",
    "\n",
    "Examples of unsegmented and segmented workspaces are demonstrated below: "
   ]
  },
  {
   "cell_type": "code",
   "execution_count": null,
   "metadata": {
    "pycharm": {
     "name": "#%%\n"
    }
   },
   "outputs": [],
   "source": [
    "ws_unsegmented = puma.import_3Dtiff(puma.path_to_example_file(\"200_fiberform.tif\"), 1.3e-6)\n",
    "ws_segmented = ws_unsegmented.copy()\n",
    "ws_segmented.binarize(90)\n",
    "\n",
    "puma.compare_slices(ws_unsegmented, ws_segmented,'z', index=1)"
   ]
  },
  {
   "cell_type": "markdown",
   "metadata": {},
   "source": [
    "The PuMA workspace class also contains other important information about the workspace. This includes the voxel length, which is the physical length (in meters) of each voxel of the image. Typical tomography data ranges from 1e-4 to 1e-7 meters in voxel length. If no value is provided to PuMA, the workspace class defaults to 1e-6 meters, i.e. one micron, as a voxel length. This value can either be set during input-output or it can be set directly for the workspace class. \n",
    "\n",
    "An example is shown below, where the voxel length of a workspace class is manually changed"
   ]
  },
  {
   "cell_type": "code",
   "execution_count": null,
   "metadata": {},
   "outputs": [],
   "source": [
    "ws_unsegmented.voxel_length = 1.5e-6"
   ]
  },
  {
   "cell_type": "markdown",
   "metadata": {},
   "source": [
    "The workspace class can also store the material orientation for each voxel in the domain. This data can either be imported, or can be computed using \"compute_orientation_st\" function, which applies the structure-tensor method to estimate the material orientation. "
   ]
  },
  {
   "cell_type": "markdown",
   "metadata": {},
   "source": [
    "### Workspace import and export\n",
    "Now we will give examples of input and output for the workspace class. \n",
    "\n",
    "PuMA import and export uses three different file types: 3D tiff, vti, and binary (extension is .pumapy)\n",
    "\n",
    "The 3D tiff images only include the 3D matrix data for the grayscale values. vti and binary, however, includes all data associated with the puma workspace class, including the matrix data, the orientation data (if used) and the voxel length. \n",
    "\n",
    "3D tiff images are often the exported data format for tomography imaging, so they are included in PuMA. If you have a tomographic image that uses a different file format, it is recommended to use an external image processing software (FIJI is recommended - https://imagej.net/software/fiji/) and convert the image to a 3D tiff before importing into pumapy. If tomographic reconstruction also needs to be performed, the python package called Tomopy (https://anaconda.org/conda-forge/tomopy) is recommended.\n",
    "\n",
    "First, let's set where to export the output file:"
   ]
  },
  {
   "cell_type": "code",
   "execution_count": null,
   "metadata": {},
   "outputs": [],
   "source": [
    "# Specify a path where to export file\n",
    "export_path = 'out'  # CHANGE THIS PATH\n",
    "\n",
    "if not os.path.exists(export_path):\n",
    "    os.makedirs(export_path)"
   ]
  },
  {
   "cell_type": "markdown",
   "metadata": {},
   "source": [
    "### Loading and exporting a .vti file"
   ]
  },
  {
   "cell_type": "markdown",
   "metadata": {},
   "source": [
    "Now, we will import an example file from the example data inside the folder pumapy.data:"
   ]
  },
  {
   "cell_type": "code",
   "execution_count": null,
   "metadata": {},
   "outputs": [],
   "source": [
    "ws_vtk = puma.import_vti(puma.path_to_example_file(\"fibers_with_orientation.vti\"))\n",
    "\n",
    "print(\"Voxel Length: \", ws_vtk.voxel_length)\n",
    "print(\"Domain shape: \", ws_vtk.get_shape())"
   ]
  },
  {
   "cell_type": "markdown",
   "metadata": {},
   "source": [
    "We can now visualize both the fibrous microstructure and the fiber orientation side by side (for more visualization tips, follow the visualization tutorial):"
   ]
  },
  {
   "cell_type": "code",
   "execution_count": null,
   "metadata": {},
   "outputs": [],
   "source": [
    "p = pv.Plotter(shape=(1, 2), notebook=True)\n",
    "p.subplot(0, 0)\n",
    "p.add_text(\"Microstructure\")\n",
    "puma.render_contour(ws_vtk, (128, 255), notebook=True, add_to_plot=p, plot_directly=False)\n",
    "p.subplot(0, 1)\n",
    "p.add_text(\"Fiber orientation\")\n",
    "puma.render_orientation(ws_vtk, notebook=True, add_to_plot=p, plot_directly=False)\n",
    "p.show()"
   ]
  },
  {
   "cell_type": "markdown",
   "metadata": {},
   "source": [
    "Finally, we will export it again to our specified directory:"
   ]
  },
  {
   "cell_type": "code",
   "execution_count": null,
   "metadata": {},
   "outputs": [],
   "source": [
    "puma.export_vti(os.path.join(export_path, \"fibers_with_orientation.vti\"), ws_vtk)"
   ]
  },
  {
   "cell_type": "markdown",
   "metadata": {},
   "source": [
    "And that's it for exporting to vti!  Let's repeat the same steps for .pumapy and 3D tiffs."
   ]
  },
  {
   "cell_type": "markdown",
   "metadata": {},
   "source": [
    "### Loading and exporting a .pumapy binary file"
   ]
  },
  {
   "cell_type": "code",
   "execution_count": null,
   "metadata": {},
   "outputs": [],
   "source": [
    "ws_binary = puma.import_bin(puma.path_to_example_file(\"fibers_with_orientation.pumapy\"))\n",
    "\n",
    "print(\"Voxel Length: \", ws_binary.voxel_length)\n",
    "print(\"Domain shape: \", ws_binary.get_shape())"
   ]
  },
  {
   "cell_type": "code",
   "execution_count": null,
   "metadata": {},
   "outputs": [],
   "source": [
    "p = pv.Plotter(shape=(1, 2), notebook=True)\n",
    "p.subplot(0, 0)\n",
    "p.add_text(\"Microstructure\")\n",
    "puma.render_contour(ws_binary, (128, 255), notebook=True, add_to_plot=p, plot_directly=False)\n",
    "p.subplot(0, 1)\n",
    "p.add_text(\"Fiber orientation\")\n",
    "puma.render_orientation(ws_binary, notebook=True, add_to_plot=p, plot_directly=False)\n",
    "p.show()"
   ]
  },
  {
   "cell_type": "code",
   "execution_count": null,
   "metadata": {},
   "outputs": [],
   "source": [
    "puma.export_bin(os.path.join(export_path, \"fibers_with_orientation.vti\"), ws_binary)"
   ]
  },
  {
   "cell_type": "markdown",
   "metadata": {},
   "source": [
    "### Loading and exporting a .tif stack"
   ]
  },
  {
   "cell_type": "code",
   "execution_count": null,
   "metadata": {},
   "outputs": [],
   "source": [
    "ws_tiff = puma.import_3Dtiff(puma.path_to_example_file(\"50_artfibers.tif\"))\n",
    "\n",
    "print(\"Voxel Length: \", ws_tiff.voxel_length)\n",
    "print(\"Domain shape: \", ws_vtk.get_shape())\n",
    "\n",
    "puma.render_contour(ws_tiff, (128,255), notebook=True)\n",
    "\n",
    "puma.export_3Dtiff(os.path.join(export_path, \"50_artfibers.tif\"), ws_tiff)"
   ]
  },
  {
   "cell_type": "markdown",
   "metadata": {},
   "source": [
    "As you can see, with the 3D tiff import, the voxel length of the original workspace and the orientation is not preserved. The voxel length can be set by either adding it as an option to the 3D tiff import call, or by setting it directly: "
   ]
  },
  {
   "cell_type": "code",
   "execution_count": null,
   "metadata": {},
   "outputs": [],
   "source": [
    "ws_tiff = puma.import_3Dtiff(puma.path_to_example_file(\"50_artfibers.tif\"), 1.3e-6)\n",
    "print(\"Voxel Length - passed to input function: \", ws_tiff.voxel_length)\n",
    "\n",
    "ws_tiff = puma.import_3Dtiff(puma.path_to_example_file(\"50_artfibers.tif\"))\n",
    "print(\"Voxel Length - no input set: \", ws_tiff.voxel_length)\n",
    "ws_tiff.voxel_length = 1.3e-6\n",
    "print(\"Voxel Length - manually changed: \", ws_tiff.voxel_length)"
   ]
  },
  {
   "cell_type": "markdown",
   "metadata": {
    "pycharm": {
     "name": "#%% md\n"
    }
   },
   "source": [
    "## Tutorial: 3D Visualization\n",
    "In this tutorial we demonstrate the use of the 3D Visualization capabilities in pumapy. The 3D visualization is based on a coupling with Pyvista. Visualization can be performed on either raw tomography samples (each material phase is composed of a range of grayscale values) or segmented images (each material phase is a single grayscale value). Pumapy can currently produce volume, contour and orientation renderings. Examples of each visualization are shown below. "
   ]
  },
  {
   "cell_type": "markdown",
   "metadata": {},
   "source": [
    "Next we must either import or generate a material to visualize. Computational domains are stored in the workspace class. Below we show an example of both importing and computationally generating a material:"
   ]
  },
  {
   "cell_type": "code",
   "execution_count": null,
   "metadata": {
    "pycharm": {
     "name": "#%%\n"
    }
   },
   "outputs": [],
   "source": [
    "# Generating a workspace of randomly placed, intersecting spheres: with the inputs:\n",
    "#  - size of domain in voxels: (200,200,200)\n",
    "#  - diameter of each sphere in voxels: 20\n",
    "#  - porosity of generated material: 0.7\n",
    "ws_generated = puma.generate_random_spheres((200,200,200), 20, 0.7, segmented=False)\n",
    "\n",
    "# The voxel length (in meters) of the workspace defaults to 1 micron (1e-6 m).\n",
    "# To change the voxel length, modify the parameter directly: \n",
    "ws_generated.voxel_length = 1.3e-6\n",
    "\n",
    "# Next we will import an example tomography file of size 200^3 and voxel length 1.3e-6\n",
    "ws_imported = puma.import_3Dtiff(puma.path_to_example_file(\"200_fiberform.tif\"), 1.3e-6)"
   ]
  },
  {
   "cell_type": "markdown",
   "metadata": {},
   "source": [
    "The workspaces above have not been segmented yet. In the case of generated workspace, the generated material has been stored for a grayscale [128,255] and the void phase is stored between [0,127]. The appropriate grayscale cutoff for the imported tomography sample is 90, such that [90,255] is material and [0,89] is the air/void. These values will be different for each tomography image. \n",
    "\n",
    "First, we will generate both volume and contour renderings of the two materials without segmentation. Since we are running the rendering from a jupyter notebook, we need to specify it."
   ]
  },
  {
   "cell_type": "code",
   "execution_count": null,
   "metadata": {},
   "outputs": [],
   "source": [
    "# Generating contour (i.e. isosurface) rendering of the computationally generated material\n",
    "# The grayscale range of the material to be rendered is specified as (128,255) and is inclusive\n",
    "puma.render_contour(ws_generated, cutoff=(128, 255), notebook=True)"
   ]
  },
  {
   "cell_type": "code",
   "execution_count": null,
   "metadata": {},
   "outputs": [],
   "source": [
    "# Generating volume (i.e. voxel) rendering of the computationally generated material\n",
    "puma.render_volume(ws_generated, cutoff=(128, 255), notebook=True)"
   ]
  },
  {
   "cell_type": "code",
   "execution_count": null,
   "metadata": {},
   "outputs": [],
   "source": [
    "# by choosing the \"edges\" style, we can visualize the triangulated surface\n",
    "puma.render_contour(ws_imported, cutoff=(90, 255), notebook=True, style=\"edges\")"
   ]
  },
  {
   "cell_type": "code",
   "execution_count": null,
   "metadata": {},
   "outputs": [],
   "source": [
    "puma.render_volume(ws_imported, cutoff=(90, 255), notebook=True)"
   ]
  },
  {
   "cell_type": "markdown",
   "metadata": {},
   "source": [
    "Next, we will segment the workspaces, such that all void voxels contain an ID of 0 and all solid voxels contain an ID of 1. This could be expanded for multi-phase domains. "
   ]
  },
  {
   "cell_type": "code",
   "execution_count": null,
   "metadata": {},
   "outputs": [],
   "source": [
    "# Setting all grayscale values between 0 and 127, inclusive, to 0\n",
    "ws_generated.set_material_id((0, 127), 0)\n",
    "# Setting all grayscale values between 128 and 255, inclusive, to 1\n",
    "ws_generated.set_material_id((128, 255),1)\n",
    "# The above could also be achieved as: ws_generated.binarize_range((128, 255))\n",
    "\n",
    "# Now on the tomography, we can binarize it using a single threshold as:\n",
    "ws_imported.binarize(89)  # everything above 89 will be set 1, below to 0"
   ]
  },
  {
   "cell_type": "markdown",
   "metadata": {},
   "source": [
    "Now we will generate contour and volume renderings of the segmented files. Note that the grayscale values have changed."
   ]
  },
  {
   "cell_type": "code",
   "execution_count": null,
   "metadata": {},
   "outputs": [],
   "source": [
    "p = pv.Plotter(shape=(1, 2), notebook=True)\n",
    "p.subplot(0, 0)\n",
    "p.add_text(\"Surface\")\n",
    "puma.render_contour(ws_generated, cutoff=(1, 1), notebook=True, add_to_plot=p, plot_directly=False)\n",
    "p.subplot(0, 1)\n",
    "p.add_text(\"Voxels\")\n",
    "puma.render_volume(ws_generated, cutoff=(1, 1), notebook=True, add_to_plot=p, plot_directly=False)\n",
    "p.show()"
   ]
  },
  {
   "cell_type": "code",
   "execution_count": null,
   "metadata": {},
   "outputs": [],
   "source": [
    "p = pv.Plotter(shape=(1, 2), notebook=True)\n",
    "p.subplot(0, 0)\n",
    "p.add_text(\"Surface\")\n",
    "puma.render_contour(ws_imported, cutoff=(1, 1), notebook=True, add_to_plot=p, plot_directly=False)\n",
    "p.subplot(0, 1)\n",
    "p.add_text(\"Voxels\")\n",
    "puma.render_volume(ws_imported, cutoff=(1, 1), notebook=True, add_to_plot=p, plot_directly=False)\n",
    "p.show()"
   ]
  },
  {
   "cell_type": "markdown",
   "metadata": {},
   "source": [
    "Note that the contour renders for the segmented images are significantly less smooth than for the non-segmented images. This is because the triangulation algorithms have significantly less degrees of freedom when assigning triangle angles for segmented images, resulting in a rougher surface than for non-segmented images. "
   ]
  },
  {
   "cell_type": "markdown",
   "metadata": {
    "pycharm": {
     "name": "#%% md\n"
    }
   },
   "source": [
    "## Tutorial: Generating Random Fiber Structures\n",
    "In this tutorial we demonstrate how to generate a microstructure of random intersecting fibers"
   ]
  },
  {
   "cell_type": "markdown",
   "metadata": {},
   "source": [
    "We generate the fiber structure and store it into the PuMA workspace class. "
   ]
  },
  {
   "cell_type": "code",
   "execution_count": null,
   "metadata": {
    "pycharm": {
     "name": "#%%\n"
    }
   },
   "outputs": [],
   "source": [
    "size = (200, 200, 200)  # size of the domain, in voxels. \n",
    "radius = 8  # radius of the fibers to be generated, in voxels\n",
    "nFibers = None  # Can specify either the number of fibers or the porosity\n",
    "porosity = 0.8  # porosity of the overall structure\n",
    "phi = 90    # A value between 0 and 90 that controls the amount that the fibers lie *out of* the XY plane,\n",
    "            # with 0 meaning all fibers lie in the XY plane, and 90 meaning that cylinders are randomly oriented out of the\n",
    "            # plane by as much as +/- 90 degrees.\n",
    "theta = 90  # A value between 0 and 90 that controls the amount of rotation *in the* XY plane,\n",
    "            # with 0 meaning all fibers point in the X-direction, and 90 meaning they are randomly rotated about the\n",
    "            # Z axis by as much as +/- 90 degrees.\n",
    "length = 200 # Length of the fibers to be generated\n",
    "max_iter = 3  # optional (default=3), iterations to refine the porosity\n",
    "allow_intersect = True  # optional (default=True), allow intersection betweem the fibers: if equal to False, the function runs considerably more slowly because    \n",
    "                        # randomly proposed fibers are rejected if they intersect any other fiber - use with relatively high porosity for reasonable runtimes \n",
    "segmented = True  # assign unique IDs to each fiber (if set to False, range will be from 0-255)\n",
    "\n",
    "ws_fibers = puma.generate_random_fibers(size, radius, nFibers, porosity, phi, theta, length, allow_intersect=allow_intersect, segmented=segmented)"
   ]
  },
  {
   "cell_type": "markdown",
   "metadata": {},
   "source": [
    "The material is now stored in the puma workspace, ws_fibers. By default, the grayscale value of 0 is assigned to the void space and a grayscale value of 1 is assigned to the material. \n",
    "\n",
    "Next we will visualize the domain: "
   ]
  },
  {
   "cell_type": "code",
   "execution_count": null,
   "metadata": {},
   "outputs": [],
   "source": [
    "# visualizing the solid domain\n",
    "puma.render_volume(ws_fibers, cutoff=(1, ws_fibers.max()), solid_color=None, cmap='jet', notebook=True)"
   ]
  },
  {
   "cell_type": "markdown",
   "metadata": {},
   "source": [
    "If you would like to visualize the individual slices, this can be done using the plot_slices function"
   ]
  },
  {
   "cell_type": "code",
   "execution_count": null,
   "metadata": {},
   "outputs": [],
   "source": [
    "puma.plot_slices(ws_fibers)"
   ]
  },
  {
   "cell_type": "markdown",
   "metadata": {
    "pycharm": {
     "name": "#%% md\n"
    }
   },
   "source": [
    "## Tutorial: Generating Random Sphere Structures\n",
    "In this tutorial we demonstrate how to generate a microstructure of random intersecting spheres"
   ]
  },
  {
   "cell_type": "markdown",
   "metadata": {},
   "source": [
    "We generate the sphere structure and store it into the PuMA workspace class. "
   ]
  },
  {
   "cell_type": "code",
   "execution_count": null,
   "metadata": {
    "pycharm": {
     "name": "#%%\n"
    }
   },
   "outputs": [],
   "source": [
    "size = (400, 400, 400)  # size of the domain, in voxels. \n",
    "diameter = 20  # diameter of the spheres to be generated, in voxels\n",
    "porosity = 0.8  # porosity of the overall structure\n",
    "allow_intersections = True # flag on whether to allow intersections between spheres. \n",
    "segmented = True  # assign unique IDs to each sphere (if set to False, range will be from 0-255)\n",
    "# Note: If allow_intersections is set to false, it will be significantly slower to generate,\n",
    "#       and will usually require a fairly high porosity value to be generated\n",
    "\n",
    "ws_spheres = puma.generate_random_spheres(size, diameter, porosity, allow_intersections, segmented=segmented)"
   ]
  },
  {
   "cell_type": "markdown",
   "metadata": {},
   "source": [
    "The material is now stored in the puma workspace, ws_spheres. By default, the grayscale range of [0,127] corresponds to the void space, and [128,255] contains the material. \n",
    "\n",
    "Next we will visualize the domain: "
   ]
  },
  {
   "cell_type": "code",
   "execution_count": null,
   "metadata": {},
   "outputs": [],
   "source": [
    "# visualizing the solid domain, contained in [128,255] grayscale range. \n",
    "puma.render_volume(ws_spheres, cutoff=(1, ws_spheres.max()), cmap='jet', notebook=True)"
   ]
  },
  {
   "cell_type": "markdown",
   "metadata": {
    "pycharm": {
     "name": "#%% md\n"
    }
   },
   "source": [
    "## Tutorial: Generating Triply Periodic Minimal Surfaces\n",
    "In this tutorial we demonstrate how to generate a TPMS microstructure "
   ]
  },
  {
   "cell_type": "markdown",
   "metadata": {},
   "source": [
    "We generate the TPMS structure. There are three different equations that can be used in the TPMS generator: \n",
    "\n",
    "Equation 0: grayscale value = q + sin(wx)*sin(wy)*sin(wz) + sin(wx)*cos(wy)*cos(wz) + cos(wx)*sin(wy)*cos(wz) + cos(wx)*cos(wy)*sin(wz)\n",
    "\n",
    "Equation 1: grayscale value = q + cos(wx)*sin(wy) + cos(wy)*sin(wz) + cos(wi)*cos(wz)\n",
    "\n",
    "Equation 2: grayscale value = q + cos(wx) + cos(wy) + cos(wz)\n",
    "\n",
    "The values of w and q can either be provided as single values, or as a tuple. If a tuple is used, then the first and second values will be the minimum and maximum values for q and w, and the value will vary linearly between the two along the z-axis.\n",
    "\n",
    "The value of w controls the pore diameter and the value of q controls the porosity"
   ]
  },
  {
   "cell_type": "code",
   "execution_count": null,
   "metadata": {
    "pycharm": {
     "name": "#%%\n"
    }
   },
   "outputs": [],
   "source": [
    "size = (400, 400, 400)  # size of the domain, in voxels. \n",
    "w = 0.08  # value of w in the equations above\n",
    "q = 0.2  # value of q in the equations above\n",
    "\n",
    "ws_eq0 = puma.generate_tpms(size, w, q, equation=0, segmented=False)\n",
    "ws_eq1 = puma.generate_tpms(size, w, q, equation=1, segmented=False)\n",
    "ws_eq2 = puma.generate_tpms(size, w, q, equation=2, segmented=False)"
   ]
  },
  {
   "cell_type": "markdown",
   "metadata": {},
   "source": [
    "The material is now stored in the puma workspace. By default, the grayscale range of [0,127] corresponds to the void space, and [128,255] contains the material. \n",
    "\n",
    "Next we will visualize slices of the domains: "
   ]
  },
  {
   "cell_type": "code",
   "execution_count": null,
   "metadata": {},
   "outputs": [],
   "source": [
    "puma.plot_slices(ws_eq0)"
   ]
  },
  {
   "cell_type": "code",
   "execution_count": null,
   "metadata": {},
   "outputs": [],
   "source": [
    "puma.plot_slices(ws_eq1)"
   ]
  },
  {
   "cell_type": "code",
   "execution_count": null,
   "metadata": {},
   "outputs": [],
   "source": [
    "puma.plot_slices(ws_eq2)"
   ]
  },
  {
   "cell_type": "markdown",
   "metadata": {},
   "source": [
    "Next, we will visualize the 3D domains. To render the domain, the grayscale range corresponding to the material must be specified. In this case, the range of [128,255] corresponds to the material. "
   ]
  },
  {
   "cell_type": "code",
   "execution_count": null,
   "metadata": {},
   "outputs": [],
   "source": [
    "puma.render_contour(ws_eq0, cutoff=(128, 255), notebook=True)"
   ]
  },
  {
   "cell_type": "code",
   "execution_count": null,
   "metadata": {},
   "outputs": [],
   "source": [
    "puma.render_contour(ws_eq1, cutoff=(128, 255), notebook=True)"
   ]
  },
  {
   "cell_type": "code",
   "execution_count": null,
   "metadata": {},
   "outputs": [],
   "source": [
    "puma.render_contour(ws_eq2, cutoff=(128, 255), notebook=True)"
   ]
  },
  {
   "cell_type": "markdown",
   "metadata": {},
   "source": [
    "If you would like to segment the domain, that can be done using the binarize function, or the set_material_id function. "
   ]
  },
  {
   "cell_type": "code",
   "execution_count": null,
   "metadata": {},
   "outputs": [],
   "source": [
    "# binarize(128) sets all grayscale values below 128 to 0, and all grayscale values above and equal to 128 to 1\n",
    "ws_eq0.binarize(128)\n",
    "ws_eq1.binarize(128)\n",
    "ws_eq2.binarize(128)"
   ]
  },
  {
   "cell_type": "code",
   "execution_count": null,
   "metadata": {},
   "outputs": [],
   "source": [
    "puma.plot_slices(ws_eq0)"
   ]
  },
  {
   "cell_type": "code",
   "execution_count": null,
   "metadata": {},
   "outputs": [],
   "source": [
    "puma.plot_slices(ws_eq1)"
   ]
  },
  {
   "cell_type": "code",
   "execution_count": null,
   "metadata": {},
   "outputs": [],
   "source": [
    "puma.plot_slices(ws_eq2)"
   ]
  },
  {
   "cell_type": "markdown",
   "metadata": {},
   "source": [
    "## Tutorial: Weaves\n",
    "\n",
    "In order to run this tutorial on Colab, make sure to setup the environment correctly, as explained in the \"Installation setup and imports\" section.\n",
    "\n",
    "In this tutorial we demonstrate the creation of weaves using TexGen and how to import them into pumapy.\n",
    "TexGen python scrips can be simply obtained by either following TexGen tutorials https://github.com/louisepb/TexGenScriptingGuide or by recording the actions in the TexGen GUI (of which there are already\n",
    "bundled executables for Windows at https://sourceforge.net/projects/texgen/files/). \n",
    "\n",
    "Let's start by creating a simple LayerToLayer weave using a TexGen python script. "
   ]
  },
  {
   "cell_type": "code",
   "execution_count": null,
   "metadata": {},
   "outputs": [],
   "source": [
    "from TexGen.Core import *\n",
    "\n",
    "NumBinderLayers = 2 \n",
    "NumXYarns = 3 \n",
    "NumYYarns = 4 \n",
    "XSpacing = 1.0\n",
    "YSpacing = 1.0 \n",
    "XHeight = 0.2 \n",
    "YHeight = 0.2 \n",
    "weave = CTextileLayerToLayer(NumXYarns, NumYYarns, XSpacing, YSpacing, XHeight, YHeight, NumBinderLayers)\n",
    "\n",
    "#set number of binder / warp yarns\n",
    "NumBinderYarns = 2\n",
    "NumWarpYarns = NumXYarns - NumBinderYarns\n",
    "weave.SetWarpRatio(NumWarpYarns)\n",
    "weave.SetBinderRatio(NumBinderYarns)\n",
    "\n",
    "#setup layers: 3 warp, 4 weft\n",
    "weave.SetupLayers( 3, 4, NumBinderLayers)\n",
    "\n",
    "#set yarn dimensions: widths / heights\n",
    "weave.SetYYarnWidths(0.8)\n",
    "weave.SetYYarnWidths(0.8)\n",
    "weave.SetBinderYarnWidths(0.4)\n",
    "weave.SetBinderYarnHeights(0.1)\n",
    "\n",
    "#define offsets for the two binder yarns\n",
    "P = [[0, 1, 3, 0],[3, 0, 0, 3]]\n",
    "\n",
    "#assign the z-positions to the binder yarns\n",
    "for y in range(NumWarpYarns,NumXYarns): #loop through number of binder yarns\n",
    "\toffset = 0 \n",
    "\tfor x in range(NumYYarns): #loop through the node positions\t\n",
    "\t\tweave.SetBinderPosition(x, y, P[y-NumWarpYarns][offset])\n",
    "\t\toffset += 1"
   ]
  },
  {
   "cell_type": "markdown",
   "metadata": {},
   "source": [
    "Next we create the domain, i.e. the lengths of the box containing the weave. In this case we will let TexGen figure it out automatically using the AssignDefaultDomain function:"
   ]
  },
  {
   "cell_type": "code",
   "execution_count": null,
   "metadata": {},
   "outputs": [],
   "source": [
    "weave.AssignDefaultDomain()\n",
    "domain = weave.GetDefaultDomain()"
   ]
  },
  {
   "cell_type": "markdown",
   "metadata": {},
   "source": [
    "Now we need to specify a folder to export our TexGen weave"
   ]
  },
  {
   "cell_type": "code",
   "execution_count": null,
   "metadata": {},
   "outputs": [],
   "source": [
    "export_path = \"out\"  # CHANGE THIS PATH\n",
    "\n",
    "if not os.path.exists(export_path):\n",
    "    os.makedirs(export_path)"
   ]
  },
  {
   "cell_type": "markdown",
   "metadata": {},
   "source": [
    "Then, we pass the weave and the domain to the PuMApy exporter, which creates the voxel grid and exports it to the specified directory (expensive step ~1.5-2 mins):"
   ]
  },
  {
   "cell_type": "code",
   "execution_count": null,
   "metadata": {},
   "outputs": [],
   "source": [
    "puma.export_weave_vtu(os.path.join(export_path, \"weavetest\"), weave, domain, 200)"
   ]
  },
  {
   "cell_type": "markdown",
   "metadata": {},
   "source": [
    "This can be then read back into a pumapy.Workspace:"
   ]
  },
  {
   "cell_type": "code",
   "execution_count": null,
   "metadata": {},
   "outputs": [],
   "source": [
    "ws = puma.import_weave_vtu(os.path.join(export_path, \"weavetest_200\"))"
   ]
  },
  {
   "cell_type": "markdown",
   "metadata": {},
   "source": [
    "And we can volume render it:"
   ]
  },
  {
   "cell_type": "code",
   "execution_count": null,
   "metadata": {
    "scrolled": true
   },
   "outputs": [],
   "source": [
    "puma.render_volume(ws, cutoff=(1, ws.matrix.max()), solid_color=None, notebook=True, cmap='jet')"
   ]
  },
  {
   "cell_type": "markdown",
   "metadata": {},
   "source": [
    "## Tutorial: Image filters\n",
    "\n",
    "In this tutorial we show the use of the image filters implemented in pumapy. Let's start by importing an image:"
   ]
  },
  {
   "cell_type": "code",
   "execution_count": null,
   "metadata": {},
   "outputs": [],
   "source": [
    "ws = puma.import_3Dtiff(puma.path_to_example_file(\"100_fiberform.tif\"), 1.3e-6)"
   ]
  },
  {
   "cell_type": "markdown",
   "metadata": {},
   "source": [
    "In succession, we can now run run the different image filters and show their output:\n",
    "\n",
    "3D Median filter (edge preserving):"
   ]
  },
  {
   "cell_type": "code",
   "execution_count": null,
   "metadata": {},
   "outputs": [],
   "source": [
    "ws_median = ws.copy()\n",
    "\n",
    "# the size refers to the side of the cubical kernel to be applied\n",
    "puma.filter_median(ws_median, size=10)\n",
    "\n",
    "puma.compare_slices(ws, ws_median, 'z', index=1)"
   ]
  },
  {
   "cell_type": "markdown",
   "metadata": {},
   "source": [
    "3D Gaussian filter:"
   ]
  },
  {
   "cell_type": "code",
   "execution_count": null,
   "metadata": {},
   "outputs": [],
   "source": [
    "ws_gaussian = ws.copy()\n",
    "\n",
    "puma.filter_gaussian(ws_gaussian, sigma=2, apply_on_orientation=False)\n",
    "\n",
    "puma.compare_slices(ws, ws_gaussian, 'z', index=1)"
   ]
  },
  {
   "cell_type": "markdown",
   "metadata": {},
   "source": [
    "3D Exact euclidean distance transform:"
   ]
  },
  {
   "cell_type": "code",
   "execution_count": null,
   "metadata": {},
   "outputs": [],
   "source": [
    "ws_edt = ws.copy()\n",
    "\n",
    "puma.filter_edt(ws_edt, cutoff=(90, 255))\n",
    "\n",
    "puma.compare_slices(ws, ws_edt, 'z', index=1)"
   ]
  },
  {
   "cell_type": "markdown",
   "metadata": {},
   "source": [
    "3D Mean filter:"
   ]
  },
  {
   "cell_type": "code",
   "execution_count": null,
   "metadata": {},
   "outputs": [],
   "source": [
    "ws_mean = ws.copy()\n",
    "\n",
    "# the size refers to the side of the cubical kernel to be applied\n",
    "puma.filter_mean(ws_mean, size=10)\n",
    "\n",
    "puma.compare_slices(ws, ws_mean, 'z', index=1)"
   ]
  },
  {
   "cell_type": "markdown",
   "metadata": {},
   "source": [
    "3D morphological erosion filter:"
   ]
  },
  {
   "cell_type": "code",
   "execution_count": null,
   "metadata": {},
   "outputs": [],
   "source": [
    "ws_erode = ws.copy()\n",
    "\n",
    "# the size refers to the side of the spherical kernel to be applied\n",
    "puma.filter_erode(ws_erode, cutoff=(90, 255), size=3)\n",
    "\n",
    "ws_binary = ws.copy()\n",
    "ws_binary.binarize_range((90, 255))\n",
    "\n",
    "puma.compare_slices(ws_binary, ws_erode, 'z', index=1)"
   ]
  },
  {
   "cell_type": "markdown",
   "metadata": {},
   "source": [
    "3D morphological dilation filter:"
   ]
  },
  {
   "cell_type": "code",
   "execution_count": null,
   "metadata": {},
   "outputs": [],
   "source": [
    "ws_dilate = ws.copy()\n",
    "\n",
    "# the size refers to the side of the spherical kernel to be applied\n",
    "puma.filter_dilate(ws_dilate, cutoff=(90, 255), size=3)\n",
    "\n",
    "ws_binary = ws.copy()\n",
    "ws_binary.binarize_range((90, 255))\n",
    "\n",
    "puma.compare_slices(ws_binary, ws_dilate, 'z', index=1)"
   ]
  },
  {
   "cell_type": "markdown",
   "metadata": {},
   "source": [
    "3D morphological opening filter (i.e. dilation first and then erosion):"
   ]
  },
  {
   "cell_type": "code",
   "execution_count": null,
   "metadata": {},
   "outputs": [],
   "source": [
    "ws_opening = ws.copy()\n",
    "\n",
    "# the size refers to the side of the spherical kernel to be applied\n",
    "puma.filter_opening(ws_opening, cutoff=(90, 255), size=3)\n",
    "\n",
    "ws_binary = ws.copy()\n",
    "ws_binary.binarize_range((90, 255))\n",
    "\n",
    "puma.compare_slices(ws_binary, ws_opening, 'z', index=1)"
   ]
  },
  {
   "cell_type": "markdown",
   "metadata": {},
   "source": [
    "3D morphological closing filter (i.e. erosion first and then dilation)"
   ]
  },
  {
   "cell_type": "code",
   "execution_count": null,
   "metadata": {},
   "outputs": [],
   "source": [
    "ws_closing = ws.copy()\n",
    "\n",
    "# the size refers to the side of the spherical kernel to be applied\n",
    "puma.filter_closing(ws_closing, cutoff=(90, 255), size=3)\n",
    "\n",
    "ws_binary = ws.copy()\n",
    "ws_binary.binarize_range((90, 255))\n",
    "\n",
    "puma.compare_slices(ws_binary, ws_closing, 'z', index=1)"
   ]
  },
  {
   "cell_type": "markdown",
   "metadata": {
    "pycharm": {
     "name": "#%% md\n"
    }
   },
   "source": [
    "## Tutorial: STL generation and output\n",
    "\n",
    "In this tutorial, we will generate a water-tight STL file, visualize the STL, and output to file\n",
    "\n",
    "The pumapy STL generation uses the Lewiner marching cubes implementation from scikit-image. The C++ version of PuMA also includes an implementation of the original and Lewiner marching cubes. \n",
    "\n",
    "The Lewiner marching cubes method is used to generate STLs because the surface is guaranteed to be topologically correct (i.e watertight). The original marching cubes is suitable for visualization purposes, but had ambiguities that resulted in small holes in the surface mesh."
   ]
  },
  {
   "cell_type": "markdown",
   "metadata": {},
   "source": [
    "We must either import or generate a material. Here we will import a material. If you prefer to generate a material instead, refer to the material generation tutorials. "
   ]
  },
  {
   "cell_type": "code",
   "execution_count": null,
   "metadata": {
    "pycharm": {
     "name": "#%%\n"
    }
   },
   "outputs": [],
   "source": [
    "# Next we will import an example tomography file of size 200^3 and voxel length 1.3e-6\n",
    "ws_imported = puma.import_3Dtiff(puma.path_to_example_file(\"200_fiberform.tif\"), 1.3e-6)"
   ]
  },
  {
   "cell_type": "markdown",
   "metadata": {},
   "source": [
    "The workspace above has not been segmented yet. In the case of generated workspaces, the generated material is typically stored for a grayscale [128,255] and the void phase is stored between [0,127]. \n",
    "\n",
    "In this case, the appropriate grayscale cutoff for the imported tomography sample is 90, such that [90,255] is material and [0,89] is the void. These values will be different for each tomography image. \n",
    "\n",
    "It is usually better to generate an STL based on a non-segmented material. This is because the segmentation process removes most of the information defining the surface from the tomography data. As an illustration, the code below will visualize the segmented and non-segmented versions of the imported tomography file."
   ]
  },
  {
   "cell_type": "code",
   "execution_count": null,
   "metadata": {},
   "outputs": [],
   "source": [
    "ws_segmented = ws_imported.copy()\n",
    "ws_segmented.binarize(90)"
   ]
  },
  {
   "cell_type": "code",
   "execution_count": null,
   "metadata": {},
   "outputs": [],
   "source": [
    "p = pv.Plotter(shape=(1, 2), notebook=True)\n",
    "p.subplot(0, 0)\n",
    "p.add_text(\"Raw grayscales\")\n",
    "puma.render_volume(ws_imported, notebook=True, add_to_plot=p, plot_directly=False)\n",
    "p.subplot(0, 1)\n",
    "p.add_text(\"Segmented\")\n",
    "puma.render_volume(ws_segmented, notebook=True, add_to_plot=p, plot_directly=False)\n",
    "p.update_scalar_bar_range(1)\n",
    "p.show()"
   ]
  },
  {
   "cell_type": "code",
   "execution_count": null,
   "metadata": {},
   "outputs": [],
   "source": [
    "p = pv.Plotter(shape=(1, 2), notebook=True)\n",
    "p.subplot(0, 0)\n",
    "p.add_text(\"Raw grayscales\")\n",
    "puma.render_contour(ws_imported, cutoff=(90, 255), notebook=True, add_to_plot=p, plot_directly=False)\n",
    "p.subplot(0, 1)\n",
    "p.add_text(\"Segmented\")\n",
    "puma.render_contour(ws_segmented, cutoff=(1, 1), notebook=True, add_to_plot=p, plot_directly=False)\n",
    "p.show()"
   ]
  },
  {
   "cell_type": "markdown",
   "metadata": {},
   "source": [
    "As you can see, the non-segmented image provides a far superior surface representation. Because of this, we will use the non-segmented material for the STL generation. \n",
    "\n",
    "In order to output an STL, one must simply call the puma.export_stl function, as shown below:"
   ]
  },
  {
   "cell_type": "markdown",
   "metadata": {},
   "source": [
    "Let's now export the STL. We need to first specify a path:"
   ]
  },
  {
   "cell_type": "code",
   "execution_count": null,
   "metadata": {},
   "outputs": [],
   "source": [
    "export_path = \"out\"  # CHANGE THIS PATH\n",
    "\n",
    "if not os.path.exists(export_path):\n",
    "    os.makedirs(export_path)"
   ]
  },
  {
   "cell_type": "code",
   "execution_count": null,
   "metadata": {},
   "outputs": [],
   "source": [
    "filename = \"FiberForm-nonsegmented.stl\"\n",
    "cutoff = (90,255)  # tuple containing the grayscale range of the material to be exported\n",
    "flag_closed_edges = True  # flag for whether to cap the regions of the material that intersect with the domain boundary\n",
    "\n",
    "puma.export_stl(os.path.join(export_path, filename), ws_imported, cutoff, flag_closed_edges)"
   ]
  },
  {
   "cell_type": "markdown",
   "metadata": {},
   "source": [
    "If you have no choice but to use a segmented image to export an stl, the flag_gauissian option can be set to True, which will apply a Gaussian blur to the image prior to running the marching cubes algorithm. This will make the surface appear more smooth, but will also blur out any sharp features that may be present in the actual microstructure. "
   ]
  },
  {
   "cell_type": "code",
   "execution_count": null,
   "metadata": {},
   "outputs": [],
   "source": [
    "filename = \"FiberForm-segmented.stl\"\n",
    "cutoff = (1,1)  # tuple containing the grayscale range of the material to be exported\n",
    "flag_closed_edges = True  # flag for whether to cap the regions of the material that intersect with the domain boundary\n",
    "\n",
    "puma.export_stl(os.path.join(export_path, filename), ws_segmented, cutoff, flag_closed_edges, flag_gaussian=False)\n",
    "\n",
    "filename = \"FiberForm-segmented-gaussian.stl\"\n",
    "puma.export_stl(os.path.join(export_path, filename), ws_segmented, cutoff, flag_closed_edges, flag_gaussian=True)"
   ]
  },
  {
   "cell_type": "markdown",
   "metadata": {},
   "source": [
    "The STLs can be imported into other software for simulation or visualization purposes"
   ]
  },
  {
   "cell_type": "markdown",
   "metadata": {
    "pycharm": {
     "name": "#%% md\n"
    }
   },
   "source": [
    "## Tutorial: Calculating Surface Area\n",
    "In this tutorial we demonstrate how to calculate the surface area of a microstructure"
   ]
  },
  {
   "cell_type": "markdown",
   "metadata": {},
   "source": [
    "We import or generate the microstructure"
   ]
  },
  {
   "cell_type": "code",
   "execution_count": null,
   "metadata": {
    "pycharm": {
     "name": "#%%\n"
    }
   },
   "outputs": [],
   "source": [
    "ws_fiberform = puma.import_3Dtiff(puma.path_to_example_file(\"200_fiberform.tif\"), 1.3e-6)"
   ]
  },
  {
   "cell_type": "markdown",
   "metadata": {},
   "source": [
    "The calculation of the surface area requires the value for the voxel length to be set. The voxel length can be set during import, as shown above. The voxel length can also be set for the workspace directly, as shown below: "
   ]
  },
  {
   "cell_type": "code",
   "execution_count": null,
   "metadata": {},
   "outputs": [],
   "source": [
    "ws_fiberform.voxel_length = 1.3e-6  # setting the voxel length in meters"
   ]
  },
  {
   "cell_type": "markdown",
   "metadata": {},
   "source": [
    "For an accurate calculation of the surface area, it is recommended to use an unsegmented domain. In a segmented domain, each phase is defined by a single grayscale value (i.e. 0 for void and 1 for solid). In an unsegmented domain, the material phases are specified by a range of grayscale value. In the case of the imported tomography, the void range is [0,89] and the solid range is [90,255], as shown by the plotted slice below: "
   ]
  },
  {
   "cell_type": "code",
   "execution_count": null,
   "metadata": {},
   "outputs": [],
   "source": [
    "puma.plot_slices(ws_fiberform)"
   ]
  },
  {
   "cell_type": "markdown",
   "metadata": {},
   "source": [
    "An unsegmented domain is recommended because the surface area relies on the marching cubes triangulation of the isosurface, which is much more accurate for an unsegmented domain than a segmented domain.\n",
    "\n",
    "To calculate the surface area, we use the puma.compute_surface_area function: The function returns both the raw area and the specific surface area. The specific surface area is the more often used quantity, and defines the surface area divided by the volume of the domain, with units of 1/m. "
   ]
  },
  {
   "cell_type": "code",
   "execution_count": null,
   "metadata": {},
   "outputs": [],
   "source": [
    "cutoff = (90, 255)  # specifying the grayscale range of the phase of interest\n",
    "\n",
    "area_us, specific_area_us = puma.compute_surface_area(ws_fiberform, cutoff)\n",
    "print(\"Unsegmented:\",area_us,specific_area_us)"
   ]
  },
  {
   "cell_type": "markdown",
   "metadata": {},
   "source": [
    "If a segmented image must be used, a Gaussian blur can be utilized to help smooth out the triangulation for the surface area calculation. Note, however, that this blurring would smear any sharp features present in the microstrucutre. It is more appropriate for segmented images of microstrucutres with smooth features. As an example, the above domain is segmented and the surface area calculated with and without the Gaussian blur. "
   ]
  },
  {
   "cell_type": "code",
   "execution_count": null,
   "metadata": {},
   "outputs": [],
   "source": [
    "ws_fiberform.binarize(90)  # segmenting the domain. [0,89] --> 0 and [90,255] --> 1\n",
    "cutoff = (1, 1)  # updating the cutoff now that the domain is segmented\n",
    "\n",
    "area, specific_area = puma.compute_surface_area(ws_fiberform, cutoff, flag_gaussian=False)\n",
    "print(\"Segmented:\",area,specific_area)\n",
    "print(\"Percent Error: \", (specific_area - specific_area_us)/specific_area_us * 100.)\n",
    "\n",
    "area, specific_area = puma.compute_surface_area(ws_fiberform, cutoff, flag_gaussian=True)\n",
    "print(\"Segmented Gaussian:\",area,specific_area)\n",
    "print(\"Percent Error: \", (specific_area - specific_area_us)/specific_area_us * 100.)"
   ]
  },
  {
   "cell_type": "markdown",
   "metadata": {},
   "source": [
    "## Tutorial: Orientation detection\n",
    "\n",
    "In this section, we discuss how to automatically detect the orientation in a raw grayscale micro-CT image. In the PuMA C++ library, there are three different algorithms to detect it: the artificial flux, the ray casting approach, and the structure tensor. Each one of these methods has its pros and cons, but latter one is widely considered the state-of-the-art for detecting the local orientation directly from the raw image grayscales (please refer to [this paper](https://www.sciencedirect.com/science/article/abs/pii/S0927025620301221) for more details on the three PuMA methods). For this reason, the structure tensor method was implemented in pumapy, using Numpy's vectorized eigen value analysis routines.\n",
    "\n",
    "The structure tensor is an image processing approach that directly operates on the grayscale values of a 3D image. Effectively, what the algorithm looks for is the direction of least grayscale gradient change at each voxel throughout the domain. It does so by applying a Derivative of Gaussian (DoG) filter, followed by an extra Gaussian smoothing of the gradients. \n",
    "\n",
    "The pumapy function to compute the orientation can be used in the following way:"
   ]
  },
  {
   "cell_type": "code",
   "execution_count": null,
   "metadata": {},
   "outputs": [],
   "source": [
    "ws = puma.import_3Dtiff(puma.path_to_example_file(\"100_fiberform.tif\"), 1.3e-6)\n",
    "\n",
    "# sigma is the std of the DoG, whereas rho is the one of the second Gaussian smoothing\n",
    "# in order to obtain optimal performance, we should always have:  sigma > rho\n",
    "puma.compute_orientation_st(ws, cutoff=(90, 255), sigma=1.4, rho=0.7)"
   ]
  },
  {
   "cell_type": "markdown",
   "metadata": {},
   "source": [
    "The orientation field is automatically added to the workspace.orientation Numpy array. We can now visualize it by running: "
   ]
  },
  {
   "cell_type": "code",
   "execution_count": null,
   "metadata": {},
   "outputs": [],
   "source": [
    "p = pv.Plotter(shape=(1, 2), notebook=True)\n",
    "p.subplot(0, 0)\n",
    "p.add_text(\"Microstructure\")\n",
    "puma.render_contour(ws, (90, 255), notebook=True, add_to_plot=p, plot_directly=False)\n",
    "p.subplot(0, 1)\n",
    "p.add_text(\"Detected fiber orientation\")\n",
    "puma.render_orientation(ws, notebook=True, add_to_plot=p, plot_directly=False)\n",
    "p.show()"
   ]
  },
  {
   "cell_type": "markdown",
   "metadata": {},
   "source": [
    "The local material orientation is an important input to the functions to compute the effective conductivity and elasticity, when treating the local phases as anisotropic. "
   ]
  },
  {
   "cell_type": "markdown",
   "metadata": {
    "pycharm": {
     "name": "#%% md\n"
    }
   },
   "source": [
    "## Tutorial: Thermal Conductivity\n",
    "In this tutorial we demonstrate how to compute the effective thermal conductivity of a material based on its microstructure and constituent properties. In this example, we compute the thermal conductivity of FiberForm, a carbon fiber based material. \n",
    "\n",
    "Note: The sample size used in this example is very small, well below the size needed for a representative volume of the sample. "
   ]
  },
  {
   "cell_type": "markdown",
   "metadata": {},
   "source": [
    "### Isotropic conductivity"
   ]
  },
  {
   "cell_type": "markdown",
   "metadata": {},
   "source": [
    "We will show a thermal conductivity simulation based on a non-segmented representation of the material. In the example material used, the void phase is contained in grayscale range [0,89] and the solid phase is contained in the grayscale range of [90,255]. This range varies for each tomography sample.\n",
    "\n",
    "The outputs of the thermal conductivity simulation are the effective thermal conductivity tensor, the steady state temperature profile, and the steady state heat flux. "
   ]
  },
  {
   "cell_type": "code",
   "execution_count": null,
   "metadata": {
    "pycharm": {
     "name": "#%%\n"
    }
   },
   "outputs": [],
   "source": [
    "# Import an example tomography file of size 200^3 and voxel length 1.3e-6\n",
    "ws_fiberform = puma.import_3Dtiff(puma.path_to_example_file(\"200_fiberform.tif\"), 1.3e-6)\n",
    "\n",
    "# Cropping the 200x200x200 image into a 100x100x100 sample\n",
    "ws_fiberform.matrix = ws_fiberform.matrix[50:150, 50:150, 50:150]\n",
    "\n",
    "# Generating a conductivity map. This stores the conductivity values for each phase of the material\n",
    "cond_map = puma.IsotropicConductivityMap()\n",
    "# First, we set the conductivity of the void phase to be 0.0257 (air at STP)\n",
    "cond_map.add_material((0, 89), 0.0257)\n",
    "# Next we set the conductivity of the solid phase to be 12 (typical value for carbon fiber)\n",
    "cond_map.add_material((90, 255), 12)\n",
    "\n",
    "# The thermal conductivity calculation needs to be run for each of the three simulation directions. \n",
    "# For each simulation, a temperature gradient is forced in the simulation direction, and converged to steady state\n",
    "\n",
    "# Simulation inputs: \n",
    "#.  1. workspace - the computational domain for the simulation, containing your material microstructure\n",
    "#.  2. cond_map - the conductivity values for each material phase\n",
    "#.  3. direction - the simulation direction, 'x', 'y', or 'z'\n",
    "#.  4. side_bc - boundary condition in the non-simulation direction. Can be 'p' - periodic, 's' - symmetric, 'd' - dirichlet\n",
    "#.  5. tolerance - accuracy of the numerical solver, defaults to 1e-4. \n",
    "#.  6. maxiter - maximum number of iterations, defaults to 10,000\n",
    "#.  7. solver_type - the iterative solver used. Can be 'bicgstab', 'cg', 'gmres', or 'direct'. Defaults to 'bicgstab'\n",
    "\n",
    "k_eff_x, T_x, q_x = puma.compute_thermal_conductivity(ws_fiberform, cond_map, 'x', 's', tolerance=1e-3, solver_type='cg')\n",
    "\n",
    "print(\"Effective thermal conductivity tensor:\")\n",
    "print(k_eff_x)"
   ]
  },
  {
   "cell_type": "code",
   "execution_count": null,
   "metadata": {},
   "outputs": [],
   "source": [
    "# Visualize both the temperature field and the fibers\n",
    "p = pv.Plotter(notebook=True)\n",
    "p.add_text(\"Fibers with Temperature field for x simulation\")\n",
    "puma.render_contour(ws_fiberform, cutoff=(90, 255), notebook=True, add_to_plot=p, plot_directly=False)\n",
    "puma.render_volume(T_x[:, :2*T_x.shape[1]//3], solid_color=None, cmap='jet', notebook=True, add_to_plot=p, plot_directly=False)\n",
    "p.show()"
   ]
  },
  {
   "cell_type": "code",
   "execution_count": null,
   "metadata": {},
   "outputs": [],
   "source": [
    "# Visualizing the flux magnitude: \n",
    "puma.render_volume(np.linalg.norm(q_x, axis=3), notebook=True, cmap='jet')"
   ]
  },
  {
   "cell_type": "markdown",
   "metadata": {},
   "source": [
    "Below is an example of a thermal conductivity simulation along the y axis, but now performed on a segmented image in order to show an alternative option."
   ]
  },
  {
   "cell_type": "code",
   "execution_count": null,
   "metadata": {},
   "outputs": [],
   "source": [
    "# Segments the image. All values >= 90 are set to 1, and all values <90 are set to 0.\n",
    "ws_fiberform.binarize(90)\n",
    "\n",
    "# Generating a conductivity map. This stores the conductivity values for each phase of the material\n",
    "cond_map = puma.IsotropicConductivityMap()\n",
    "# First, we set the conductivity of the void phase to be 0.0257 (air at STP)\n",
    "cond_map.add_material((0, 0), 0.0257)\n",
    "# Next we set the conductivity of the solid phase to be 12 (typical value for carbon fiber)\n",
    "cond_map.add_material((1, 1), 12)\n",
    "# Note that the grayscale ranges have changed relative to the last example, since this image is already segmented\n",
    "\n",
    "# The thermal conductivity calculation needs to be run for each of the three simulation directions. \n",
    "# For each simulation, a temperature gradient is forced in the simulation direction, and converged to steady state\n",
    "\n",
    "# Simulation inputs: \n",
    "#.  1. workspace - the computational domain for the simulation, containing your material microstructure\n",
    "#.  2. cond_map - the conductivity values for each material phase\n",
    "#.  3. direction - the simulation direction, 'x', 'y', or 'z'\n",
    "#.  4. side_bc - boundary condition in the non-simulation direction. Can be 'p' - periodic, 's' - symmetric, 'd' - dirichlet\n",
    "#.  5. tolerance (optional) - accuracy of the numerical solver, defaults to 1e-4. \n",
    "#.  6. maxiter (optional) - maximum number of iterations, defaults to 10,000\n",
    "#.  7. solver_type (optional) - the iterative solver used. Can be 'bicgstab', 'cg', 'gmres', or 'direct'. Defaults to 'bicgstab'\n",
    "\n",
    "k_eff_y, T_y, q_y = puma.compute_thermal_conductivity(ws_fiberform, cond_map, 'y', 's', tolerance=1e-3, solver_type='cg')\n",
    "\n",
    "print(\"Effective thermal conductivity tensor:\")\n",
    "print(k_eff_y)"
   ]
  },
  {
   "cell_type": "code",
   "execution_count": null,
   "metadata": {},
   "outputs": [],
   "source": [
    "# Visualizing the temperature field: \n",
    "puma.render_volume(T_y, solid_color=None, notebook=True, cmap='jet')"
   ]
  },
  {
   "cell_type": "code",
   "execution_count": null,
   "metadata": {},
   "outputs": [],
   "source": [
    "# Visualizing the flux magnitude: \n",
    "puma.render_volume(np.linalg.norm(q_y, axis=3), notebook=True, cmap='jet')"
   ]
  },
  {
   "cell_type": "markdown",
   "metadata": {},
   "source": [
    "### Anisotropic conductivity\n",
    "Next we show how to compute the conductivity if the constituent phases are anisotropic themselves. This solver is significantly slower because of the higher complexity of the numerical scheme used, namely the Multi-Point Flux Approximation (MPFA) (please refer to [this paper](https://www.sciencedirect.com/science/article/abs/pii/S092702562030447X) for more details on the anisotropic conductivity solver in PuMA). For this reason, we scale the domain by half in order to keep the runtime reasonable."
   ]
  },
  {
   "cell_type": "code",
   "execution_count": null,
   "metadata": {},
   "outputs": [],
   "source": [
    "# Import an example tomography file of size 100^3 and voxel length 1.3e-6\n",
    "ws_fiberform = puma.import_3Dtiff(puma.path_to_example_file(\"200_fiberform.tif\"), 1.3e-6)\n",
    "ws_fiberform.rescale(0.5, False)\n",
    "\n",
    "# detect the fiber orientation using the Structure Tensor\n",
    "puma.compute_orientation_st(ws_fiberform, cutoff=(90, 255), sigma=1.4, rho=0.7)"
   ]
  },
  {
   "cell_type": "code",
   "execution_count": null,
   "metadata": {},
   "outputs": [],
   "source": [
    "# visualize the detected orientation field\n",
    "puma.render_orientation(ws_fiberform, notebook=True)"
   ]
  },
  {
   "cell_type": "code",
   "execution_count": null,
   "metadata": {},
   "outputs": [],
   "source": [
    "# Generating a conductivity map. This stores the conductivity values for each phase of the material\n",
    "cond_map = puma.AnisotropicConductivityMap()\n",
    "# First, we set the conductivity of the void phase to be 0.0257 (air at STP)\n",
    "cond_map.add_isotropic_material((0, 89), 0.0257)\n",
    "# Next we set the conductivity of the fiber phase to be 12 along the fiber and 0.7 across it\n",
    "cond_map.add_material_to_orient((90, 255), 12., 0.7)\n",
    "\n",
    "# Simulation inputs: \n",
    "#.  1. workspace - the computational domain for the simulation, containing your material microstructure\n",
    "#.  2. cond_map - the conductivity values for each material phase\n",
    "#.  3. direction - the simulation direction, 'x', 'y', or 'z'\n",
    "#.  4. side_bc - boundary condition in the non-simulation direction. Can be 'p' - periodic, 's' - symmetric, 'd' - dirichlet\n",
    "#.  5. tolerance (optional) - accuracy of the numerical solver, defaults to 1e-4. \n",
    "#.  6. maxiter (optional) - maximum number of iterations, defaults to 10,000\n",
    "#.  7. solver_type (optional) - the iterative solver used. Can be 'bicgstab', 'cg', 'gmres', or 'direct'. Defaults to 'bicgstab'\n",
    "\n",
    "# When an anisotropic conductivity is fed, the solver automatically uses the MPFA finite volume method\n",
    "k_eff_z, T_z, q_z = puma.compute_thermal_conductivity(ws_fiberform, cond_map, 'z', 's')\n",
    "\n",
    "print(\"Effective thermal conductivity tensor:\")\n",
    "print(k_eff_z)"
   ]
  },
  {
   "cell_type": "markdown",
   "metadata": {},
   "source": [
    "If the local phases are isotropic, the anisotropic solver can still be used (although it would not be convenient because it is slower). As proof that the two solvers are actually giving the same answer, we could run the following case, in which we compute the orientation and then set the same conductivity to both the conductivity components (i.e. along and across a fiber):"
   ]
  },
  {
   "cell_type": "code",
   "execution_count": null,
   "metadata": {},
   "outputs": [],
   "source": [
    "ws_fiberform = puma.import_3Dtiff(puma.path_to_example_file(\"200_fiberform.tif\"), 1.3e-6)\n",
    "ws_fiberform.rescale(0.5, segmented=False)\n",
    "\n",
    "cond_map = puma.IsotropicConductivityMap()\n",
    "cond_map.add_material((0, 89), 0.0257)\n",
    "cond_map.add_material((90, 255), 12)\n",
    "\n",
    "print(\"\\nIsotropic solver\")\n",
    "k_eff_x, T_x, q_x = puma.compute_thermal_conductivity(ws_fiberform, cond_map, 'x', 's', tolerance=1e-3)\n",
    "k_eff_y, T_y, q_y = puma.compute_thermal_conductivity(ws_fiberform, cond_map, 'y', 's', tolerance=1e-3)\n",
    "k_eff_z, T_z, q_z = puma.compute_thermal_conductivity(ws_fiberform, cond_map, 'z', 's', tolerance=1e-3)\n",
    "\n",
    "puma.compute_orientation_st(ws_fiberform, cutoff=(90, 255), sigma=1.4, rho=0.7)\n",
    "\n",
    "cond_map = puma.AnisotropicConductivityMap()\n",
    "cond_map.add_isotropic_material((0, 89), 0.0257)\n",
    "cond_map.add_material_to_orient((90, 255), 12., 12)\n",
    "\n",
    "print(\"\\nAnisotropic solver\")\n",
    "k_eff_x_ani, T_x_ani, q_x_ani = puma.compute_thermal_conductivity(ws_fiberform, cond_map, 'x', 's', tolerance=1e-3)\n",
    "k_eff_y_ani, T_y_ani, q_y_ani = puma.compute_thermal_conductivity(ws_fiberform, cond_map, 'y', 's', tolerance=1e-3)\n",
    "k_eff_z_ani, T_z_ani, q_z_ani = puma.compute_thermal_conductivity(ws_fiberform, cond_map, 'z', 's', tolerance=1e-3)\n",
    "\n",
    "print(\"\\nEffective conductivity using isotropic solver\")\n",
    "print(np.round(k_eff_x, 5))\n",
    "print(np.round(k_eff_y, 5))\n",
    "print(np.round(k_eff_z, 5))\n",
    "\n",
    "print(\"\\nEffective conductivity using anisotropic solver\")\n",
    "print(np.round(k_eff_x_ani, 5))\n",
    "print(np.round(k_eff_y_ani, 5))\n",
    "print(np.round(k_eff_z_ani, 5))"
   ]
  },
  {
   "cell_type": "markdown",
   "metadata": {},
   "source": [
    "As you can see, the tensors that have been estimated are very similar. The slight differences are coming from the high tolerance that was "
   ]
  },
  {
   "cell_type": "markdown",
   "metadata": {
    "pycharm": {
     "name": "#%% md\n"
    }
   },
   "source": [
    "## Tutorial: Continuum Tortuosity\n",
    "In this tutorial we demonstrate how to compute the continuum tortuosity factors of a material based on its microstructure and constituent properties. In this example, we compute the continuum tortuosity of FiberForm, a carbon fiber based material. \n",
    "\n",
    "Note: the rarified tortuosity factors are not available in pumapy, but are available in the PuMA C++ library.\n",
    "\n",
    "Note: the sample size used in this example is very small, well below the size needed for a representative volume of the sample. "
   ]
  },
  {
   "cell_type": "markdown",
   "metadata": {},
   "source": [
    "We will show a continuum tortuosity simulation based on a non-segmented representation of the material. In the example material used, the void phase is contained in grayscale range [0,89] and the solid phase is contained in the grayscale range of [90,255]. This range varies for each tomography sample.\n",
    "\n",
    "The outputs of the continuum tortuosity simulation are the continuum tortuosity factors, the effective diffusivity, the porosity, and the steady state concentration profile"
   ]
  },
  {
   "cell_type": "code",
   "execution_count": null,
   "metadata": {
    "pycharm": {
     "name": "#%%\n"
    }
   },
   "outputs": [],
   "source": [
    "# Import an example tomography file of size 200^3 and voxel length 1.3e-6\n",
    "ws_fiberform = puma.import_3Dtiff(puma.path_to_example_file(\"200_fiberform.tif\"), 1.3e-6)\n",
    "\n",
    "# The tortuosity calculation needs to be run for each of the three simulation directions. \n",
    "# For each simulation, a concentration gradient is forced in the simulation direction, and converged to steady state\n",
    "\n",
    "# Simulation inputs: \n",
    "#.  1. workspace - the computational domain for the simulation, containing your material microstructure\n",
    "#.  2. cutoff - the grayscale values for the void phase. [0,89] for this tomography sample\n",
    "#.  3. direction - the simulation direction, 'x', 'y', or 'z'\n",
    "#.  4. side_bc - boundary condition in the non-simulation direction. Can be 'p' - periodic, 's' - symmetric, 'd' - dirichlet\n",
    "#.  5. tolerance - accuracy of the numerical solver, defaults to 1e-4. \n",
    "#.  6. maxiter - maximum number of iterations, defaults to 10,000\n",
    "#.  7. solver_type - the iterative solver used. Can be 'bicgstab', 'cg', 'gmres', or 'direct'. Defaults to 'bicgstab'\n",
    "\n",
    "n_eff_x, Deff_x, poro, C_x = puma.compute_continuum_tortuosity(ws_fiberform, (0,89), 'x', side_bc='s', tolerance=1e-3, solver_type='cg')\n",
    "n_eff_y, Deff_y, poro, C_y = puma.compute_continuum_tortuosity(ws_fiberform, (0,89), 'y', side_bc='s', tolerance=1e-3, solver_type='cg')\n",
    "n_eff_z, Deff_z, poro, C_z = puma.compute_continuum_tortuosity(ws_fiberform, (0,89), 'z', side_bc='s', tolerance=1e-3, solver_type='cg')\n",
    "\n",
    "print(\"\\nEffective tortuosity factors:\")\n",
    "print(n_eff_x)\n",
    "print(n_eff_y)\n",
    "print(n_eff_z)\n",
    "\n",
    "print(\"Porosity of the material:\", poro)"
   ]
  },
  {
   "cell_type": "code",
   "execution_count": null,
   "metadata": {},
   "outputs": [],
   "source": [
    "# Visualizing the Concentration field: \n",
    "puma.render_volume(C_x, solid_color=None, notebook=True, cmap='jet')"
   ]
  },
  {
   "cell_type": "markdown",
   "metadata": {},
   "source": [
    "Below is an example of the exact same continuum tortuosity simulation, but now performed on a segmented image. If done correctly, both should produce identical results. "
   ]
  },
  {
   "cell_type": "code",
   "execution_count": null,
   "metadata": {},
   "outputs": [],
   "source": [
    "# Segments the image. All values >= 90 are set to 1, and all values <90 are set to 0\n",
    "ws_fiberform.binarize(90)\n",
    "\n",
    "# Simulation inputs: \n",
    "#.  1. workspace - the computational domain for the simulation, containing your material microstructure\n",
    "#.  2. cutoff - the grayscale values for the void phase. [0,89] for this tomography sample\n",
    "#.  3. direction - the simulation direction, 'x', 'y', or 'z'\n",
    "#.  4. side_bc - boundary condition in the non-simulation direction. Can be 'p' - periodic, 's' - symmetric, 'd' - dirichlet\n",
    "#.  5. tolerance - accuracy of the numerical solver, defaults to 1e-4. \n",
    "#.  6. maxiter - maximum number of iterations, defaults to 10,000\n",
    "#.  7. solver_type - the iterative solver used. Can be 'bicgstab', 'cg', 'gmres', or 'direct'. Defaults to 'bicgstab'\n",
    "\n",
    "n_eff_x, Deff_x, poro, C_x = puma.compute_continuum_tortuosity(ws_fiberform, (0,0), 'x', side_bc='s', tolerance=1e-3, solver_type='cg')\n",
    "n_eff_y, Deff_y, poro, C_y = puma.compute_continuum_tortuosity(ws_fiberform, (0,0), 'y', side_bc='s', tolerance=1e-3, solver_type='cg')\n",
    "n_eff_z, Deff_z, poro, C_z = puma.compute_continuum_tortuosity(ws_fiberform, (0,0), 'z', side_bc='s', tolerance=1e-3, solver_type='cg')\n",
    "\n",
    "print(\"\\nEffective tortuosity factors:\")\n",
    "print(n_eff_x)\n",
    "print(n_eff_y)\n",
    "print(n_eff_z)\n",
    "\n",
    "print(\"Porosity of the material:\", poro)"
   ]
  },
  {
   "cell_type": "code",
   "execution_count": null,
   "metadata": {},
   "outputs": [],
   "source": [
    "# Visualizing the Concentration field: \n",
    "puma.render_volume(C_x, solid_color=None, notebook=True, cmap='jet')"
   ]
  },
  {
   "cell_type": "markdown",
   "metadata": {},
   "source": [
    "## Tutorial: Elasticity\n",
    "In this tutorial we demonstrate the use of the compute_elasticity and compute_stress_analysis functions. These functions rely on a stress analysis solver that uses the finite volume Multi-Point Stress Approximation (MPSA) method."
   ]
  },
  {
   "cell_type": "markdown",
   "metadata": {},
   "source": [
    "We will run four different verification cases. Change the path of the file outputs:"
   ]
  },
  {
   "cell_type": "code",
   "execution_count": null,
   "metadata": {},
   "outputs": [],
   "source": [
    "export_path = \"out\"  # CHANGE THIS PATH\n",
    "\n",
    "if not os.path.exists(export_path):\n",
    "    os.makedirs(export_path)"
   ]
  },
  {
   "cell_type": "markdown",
   "metadata": {},
   "source": [
    "### Example 1: harmonic averaging, in series along x with free sides\n",
    "\n",
    "The first example that we run is for a block of material split into two phases with different properties."
   ]
  },
  {
   "cell_type": "code",
   "execution_count": null,
   "metadata": {},
   "outputs": [],
   "source": [
    "export_name = 'halfmat'\n",
    "X = 20\n",
    "Y = 20\n",
    "Z = 20\n",
    "ws = puma.Workspace.from_shape_value((X, Y, Z), 1)\n",
    "ws[int(X / 2):] = 2\n",
    "# ws.show_matrix()\n",
    "\n",
    "puma.render_volume(ws, notebook=True, style='edges', cmap='jet')"
   ]
  },
  {
   "cell_type": "markdown",
   "metadata": {},
   "source": [
    "We can now assign the elasticity of the two materials and compute the resulting overall elasticity of the two phases combined as follows:"
   ]
  },
  {
   "cell_type": "code",
   "execution_count": null,
   "metadata": {},
   "outputs": [],
   "source": [
    "elast_map = puma.ElasticityMap()\n",
    "elast_map.add_isotropic_material((1, 1), 200, 0.3)\n",
    "elast_map.add_isotropic_material((2, 2), 400, 0.1)"
   ]
  },
  {
   "cell_type": "markdown",
   "metadata": {},
   "source": [
    " In this example, we use the compute_elasticity function, which is useful specifically to compute the homogenized (or effective) elasticity of a multi-phase material. This function imposes a unit displacement along the direction specified by holding the last slice of voxels in place with dirichlet boundary conditions. The side boundary conditions can be set as either 'p'eriodic, 's'ymmetric or 'f'ree. In this case we set them as free with 'f'."
   ]
  },
  {
   "cell_type": "code",
   "execution_count": null,
   "metadata": {},
   "outputs": [],
   "source": [
    "C, u, s, t = puma.compute_elasticity(ws, elast_map, direction='x', side_bc='f', solver_type=\"direct\")\n",
    "print(C)"
   ]
  },
  {
   "cell_type": "markdown",
   "metadata": {},
   "source": [
    "Now we can visualize the displacement and stress fields as:"
   ]
  },
  {
   "cell_type": "code",
   "execution_count": null,
   "metadata": {
    "scrolled": true
   },
   "outputs": [],
   "source": [
    "results = puma.Workspace()\n",
    "results.orientation = u[:, :Y//2]  # cut domain in half to show internal stresses\n",
    "scale_factor = 10\n",
    "\n",
    "p = pv.Plotter(shape=(2, 3))\n",
    "p.subplot(0, 0)\n",
    "p.add_text(\"Colored by sigma_xx\")\n",
    "results.matrix = s[:, :Y//2, :, 0]  # assign direct stresses to matrix\n",
    "puma.render_warp(results, color_by='matrix', scale_factor=scale_factor, style='edges', notebook=True, add_to_plot=p, plot_directly=False)\n",
    "p.subplot(0, 1)\n",
    "p.add_text(\"Colored by sigma_yy\")\n",
    "results.matrix = s[:, :Y//2, :, 1]\n",
    "puma.render_warp(results, color_by='matrix', scale_factor=scale_factor, style='edges', notebook=True, add_to_plot=p, plot_directly=False)\n",
    "p.subplot(0, 2)\n",
    "p.add_text(\"Colored by sigma_zz\")\n",
    "results.matrix = s[:, :Y//2, :, 2]\n",
    "puma.render_warp(results, color_by='matrix', scale_factor=scale_factor, style='edges', notebook=True, add_to_plot=p, plot_directly=False)\n",
    "p.subplot(1, 0)\n",
    "p.add_text(\"Colored by tau_yz\")\n",
    "results.matrix = t[:, :Y//2, :, 0]  # assign shear stresses to matrix\n",
    "puma.render_warp(results, color_by='matrix', scale_factor=scale_factor, style='edges', notebook=True, add_to_plot=p, plot_directly=False)\n",
    "p.subplot(1, 1)\n",
    "p.add_text(\"Colored by tau_xz\")\n",
    "results.matrix = t[:, :Y//2, :, 1]\n",
    "puma.render_warp(results, color_by='matrix', scale_factor=scale_factor, style='edges', notebook=True, add_to_plot=p, plot_directly=False)\n",
    "p.subplot(1, 2)\n",
    "p.add_text(\"Colored by tau_yz\")\n",
    "results.matrix = t[:, :Y//2, :, 2]\n",
    "puma.render_warp(results, color_by='matrix', scale_factor=scale_factor, style='edges', notebook=True, add_to_plot=p, plot_directly=False)\n",
    "p.show()"
   ]
  },
  {
   "cell_type": "markdown",
   "metadata": {},
   "source": [
    "Finally, we can export all of this data (domain, displacement, direct stress, shear stress) in a single .vti file as: "
   ]
  },
  {
   "cell_type": "code",
   "execution_count": null,
   "metadata": {},
   "outputs": [],
   "source": [
    "puma.export_vti(os.path.join(export_path, export_name), {\"ws\": ws, \"disp\": u, \"sigma\": s, \"tau\": t})"
   ]
  },
  {
   "cell_type": "markdown",
   "metadata": {},
   "source": [
    "### Example 2: full built-in beam"
   ]
  },
  {
   "cell_type": "markdown",
   "metadata": {},
   "source": [
    "The second case is for a fully built-in homogeneous beam with a z displacement in the middle. Because of the symmetry of this case, we only model half of it."
   ]
  },
  {
   "cell_type": "code",
   "execution_count": null,
   "metadata": {},
   "outputs": [],
   "source": [
    "export_name = 'builtinbeam'\n",
    "X = 10\n",
    "Y = 50\n",
    "Z = 10\n",
    "ws = puma.Workspace.from_shape_value((X, Y, Z), 1)\n",
    "ws.voxel_length = 1\n",
    "\n",
    "puma.render_volume(ws, cutoff=(0, 255), solid_color=(1,1,1), style='edges', notebook=True)"
   ]
  },
  {
   "cell_type": "markdown",
   "metadata": {},
   "source": [
    "We then run set its elasticity as:"
   ]
  },
  {
   "cell_type": "code",
   "execution_count": null,
   "metadata": {},
   "outputs": [],
   "source": [
    "elast_map = puma.ElasticityMap()\n",
    "elast_map.add_isotropic_material((1, 1), 200, 0.3)"
   ]
  },
  {
   "cell_type": "markdown",
   "metadata": {},
   "source": [
    "Since we want to set a specific displacement, we need to have more control on the type of boundary conditions we set. This can be done by creating an ElasticityBC object as:"
   ]
  },
  {
   "cell_type": "code",
   "execution_count": null,
   "metadata": {},
   "outputs": [],
   "source": [
    "bc = puma.ElasticityBC(ws)\n",
    "bc.dirichlet[:, 0] = 0  # dirichlet displacement to zero on the y -ve face (i.e. hold in place)\n",
    "bc.dirichlet[:, -1, :, :2] = 0  # dirichlet y and z displacements on y +ve face (i.e. free slip in x)\n",
    "bc.dirichlet[:, -1, :, 2] = -1  # dirichlet z displacement of -1 on y +ve face\n",
    "# puma.Workspace.show_orientation(bc)\n",
    "\n",
    "# Plot the boundary conditions array inside the ElasticityBC object\n",
    "dir_copy = bc.dirichlet.copy()\n",
    "# the unset DOF are usually set to Inf, but for plotting purposes we set them to NaN\n",
    "dir_copy[np.isinf(dir_copy)] = np.NaN\n",
    "p = pv.Plotter(shape=(1, 3))\n",
    "p.subplot(0, 0)\n",
    "p.add_text(\"Dirichlet displacement in x\")\n",
    "puma.render_volume(dir_copy[:,:,:,0], notebook=True, add_to_plot=p, plot_directly=False, cmap='jet')\n",
    "p.subplot(0, 1)\n",
    "p.add_text(\"Dirichlet displacement in y\")\n",
    "puma.render_volume(dir_copy[:,:,:,1], notebook=True, add_to_plot=p, plot_directly=False, cmap='jet')\n",
    "p.subplot(0, 2)\n",
    "p.add_text(\"Dirichlet displacement in z\")\n",
    "puma.render_volume(dir_copy[:,:,:,2], notebook=True, add_to_plot=p, plot_directly=False, cmap='jet')\n",
    "p.show()"
   ]
  },
  {
   "cell_type": "code",
   "execution_count": null,
   "metadata": {},
   "outputs": [],
   "source": [
    "u, s, t = puma.compute_stress_analysis(ws, elast_map, bc, side_bc='f', solver_type=\"direct\")"
   ]
  },
  {
   "cell_type": "code",
   "execution_count": null,
   "metadata": {},
   "outputs": [],
   "source": [
    "results = puma.Workspace()\n",
    "results.orientation = u[:X//2]\n",
    "scale_factor = 10\n",
    "\n",
    "p = pv.Plotter(shape=(2, 3))\n",
    "p.subplot(0, 0)\n",
    "p.add_text(\"Colored by sigma_xx\")\n",
    "results.matrix = s[:X//2, :, :, 0]  # assign direct stresses to matrix\n",
    "puma.render_warp(results, color_by='matrix', scale_factor=scale_factor, style='edges', notebook=True, add_to_plot=p, plot_directly=False)\n",
    "p.subplot(0, 1)\n",
    "p.add_text(\"Colored by sigma_yy\")\n",
    "results.matrix = s[:X//2, :, :, 1]\n",
    "puma.render_warp(results, color_by='matrix', scale_factor=scale_factor, style='edges', notebook=True, add_to_plot=p, plot_directly=False)\n",
    "p.subplot(0, 2)\n",
    "p.add_text(\"Colored by sigma_zz\")\n",
    "results.matrix = s[:X//2, :, :, 2]\n",
    "puma.render_warp(results, color_by='matrix', scale_factor=scale_factor, style='edges', notebook=True, add_to_plot=p, plot_directly=False)\n",
    "p.subplot(1, 0)\n",
    "p.add_text(\"Colored by tau_yz\")\n",
    "results.matrix = t[:X//2, :, :, 0]  # assign shear stresses to matrix\n",
    "puma.render_warp(results, color_by='matrix', scale_factor=scale_factor, style='edges', notebook=True, add_to_plot=p, plot_directly=False)\n",
    "p.subplot(1, 1)\n",
    "p.add_text(\"Colored by tau_xz\")\n",
    "results.matrix = t[:X//2, :, :, 1]\n",
    "puma.render_warp(results, color_by='matrix', scale_factor=scale_factor, style='edges', notebook=True, add_to_plot=p, plot_directly=False)\n",
    "p.subplot(1, 2)\n",
    "p.add_text(\"Colored by tau_yz\")\n",
    "results.matrix = t[:X//2, :, :, 2]\n",
    "puma.render_warp(results, color_by='matrix', scale_factor=scale_factor, style='edges', notebook=True, add_to_plot=p, plot_directly=False)\n",
    "p.show()"
   ]
  },
  {
   "cell_type": "code",
   "execution_count": null,
   "metadata": {},
   "outputs": [],
   "source": [
    "puma.export_vti(os.path.join(export_path, export_name), {\"ws\": ws, \"disp\": u, \"sigma\": s, \"tau\": t})"
   ]
  },
  {
   "cell_type": "markdown",
   "metadata": {},
   "source": [
    "### Example 3: plate with a hole\n",
    "\n",
    "In this example, we model a plate with a hole in the middle pulled in the x direction by a certain displacement."
   ]
  },
  {
   "cell_type": "code",
   "execution_count": null,
   "metadata": {},
   "outputs": [],
   "source": [
    "export_name = 'platehole'\n",
    "X = 50\n",
    "Y = 50\n",
    "Z = 3\n",
    "ws = puma.Workspace.from_shape_value((X, Y, Z), 1)\n",
    "ws.voxel_length = 1\n",
    "\n",
    "# creating circular hole\n",
    "mask = np.ones((X, Y, Z), dtype=bool)\n",
    "mask[X//2, Y//2] = 0\n",
    "distance_mask = nd.morphology.distance_transform_edt(mask)\n",
    "max_distance = np.max(distance_mask)\n",
    "distance_mask_display = (distance_mask*255./max_distance).astype(dtype=np.uint8)\n",
    "in_range = distance_mask <= 17  # this sets how big is the hole with a threshold\n",
    "ws[in_range] = 0\n",
    "\n",
    "# setting material\n",
    "elast_map = puma.ElasticityMap()\n",
    "elast_map.add_isotropic_material((1, 1), 200, 0.3)\n",
    "\n",
    "# setting dirichlet boundary conditions\n",
    "bc = puma.ElasticityBC(ws)\n",
    "bc.dirichlet[0, :, :, 0] = 0\n",
    "bc.dirichlet[-1, :, :, 0] = 1\n",
    "\n",
    "u, s, t = puma.compute_stress_analysis(ws, elast_map, bc, side_bc='f', solver_type=\"direct\")"
   ]
  },
  {
   "cell_type": "code",
   "execution_count": null,
   "metadata": {},
   "outputs": [],
   "source": [
    "results = puma.Workspace()\n",
    "u[ws.matrix == 0] = np.NAN  # set air displacement to NAN to avoid plotting it\n",
    "results.orientation = u[:, :, :Z//2]\n",
    "scale_factor = 10\n",
    "\n",
    "p = pv.Plotter(shape=(2, 3))\n",
    "p.subplot(0, 0)\n",
    "p.add_text(\"Colored by sigma_xx\")\n",
    "results.matrix = s[:, :, :Z//2, 0]  # assign direct stresses to matrix\n",
    "puma.render_warp(results, color_by='matrix', scale_factor=scale_factor, style='edges', notebook=True, add_to_plot=p, plot_directly=False)\n",
    "p.subplot(0, 1)\n",
    "p.add_text(\"Colored by sigma_yy\")\n",
    "results.matrix = s[:, :, :Z//2, 1]\n",
    "puma.render_warp(results, color_by='matrix', scale_factor=scale_factor, style='edges', notebook=True, add_to_plot=p, plot_directly=False)\n",
    "p.subplot(0, 2)\n",
    "p.add_text(\"Colored by sigma_zz\")\n",
    "results.matrix = s[:, :, :Z//2, 2]\n",
    "puma.render_warp(results, color_by='matrix', scale_factor=scale_factor, style='edges', notebook=True, add_to_plot=p, plot_directly=False)\n",
    "p.subplot(1, 0)\n",
    "p.add_text(\"Colored by tau_yz\")\n",
    "results.matrix = t[:, :, :Z//2, 0]  # assign shear stresses to matrix\n",
    "puma.render_warp(results, color_by='matrix', scale_factor=scale_factor, style='edges', notebook=True, add_to_plot=p, plot_directly=False)\n",
    "p.subplot(1, 1)\n",
    "p.add_text(\"Colored by tau_xz\")\n",
    "results.matrix = t[:, :, :Z//2, 1]\n",
    "puma.render_warp(results, color_by='matrix', scale_factor=scale_factor, style='edges', notebook=True, add_to_plot=p, plot_directly=False)\n",
    "p.subplot(1, 2)\n",
    "p.add_text(\"Colored by tau_yz\")\n",
    "results.matrix = t[:, :, :Z//2, 2]\n",
    "puma.render_warp(results, color_by='matrix', scale_factor=scale_factor, style='edges', notebook=True, add_to_plot=p, plot_directly=False)\n",
    "p.show(cpos=\"xy\")"
   ]
  },
  {
   "cell_type": "code",
   "execution_count": null,
   "metadata": {},
   "outputs": [],
   "source": [
    "puma.export_vti(os.path.join(export_path, export_name), {\"ws\": ws, \"disp\": u, \"sigma\": s, \"tau\": t})"
   ]
  },
  {
   "cell_type": "markdown",
   "metadata": {},
   "source": [
    "### Example 4: cracked plate\n",
    "\n",
    "In this final example, we model a plate with a single row of voxels removed, mimicking a crack. "
   ]
  },
  {
   "cell_type": "code",
   "execution_count": null,
   "metadata": {},
   "outputs": [],
   "source": [
    "export_name = 'crackedplate'\n",
    "X = 25\n",
    "Y = 100\n",
    "Z = 3\n",
    "ws = puma.Workspace.from_shape_value((X, Y, Z), 1)\n",
    "ws.voxel_length = 1\n",
    "\n",
    "ws[:10, Y//2-1:Y//2+1] = 0\n",
    "\n",
    "elast_map = puma.ElasticityMap()\n",
    "elast_map.add_isotropic_material((1, 1), 200, 0.3)\n",
    "\n",
    "bc = puma.ElasticityBC(ws)\n",
    "bc.dirichlet[:, 0, :, 1] = 0\n",
    "bc.dirichlet[:, -1, :, 1] = 1\n",
    "\n",
    "u, s, t = puma.compute_stress_analysis(ws, elast_map, bc, side_bc='f', solver_type=\"direct\")"
   ]
  },
  {
   "cell_type": "code",
   "execution_count": null,
   "metadata": {},
   "outputs": [],
   "source": [
    "results = puma.Workspace()\n",
    "u[ws.matrix == 0] = np.NAN  # set air displacement to NAN to avoid plotting it\n",
    "results.orientation = u[:, :, :Z//2]\n",
    "scale_factor = 10\n",
    "\n",
    "p = pv.Plotter(shape=(2, 3))\n",
    "p.subplot(0, 0)\n",
    "p.add_text(\"Colored by sigma_xx\")\n",
    "results.matrix = s[:, :, :Z//2, 0]  # assign direct stresses to matrix\n",
    "puma.render_warp(results, color_by='matrix', scale_factor=scale_factor, style='edges', notebook=True, add_to_plot=p, plot_directly=False)\n",
    "p.subplot(0, 1)\n",
    "p.add_text(\"Colored by sigma_yy\")\n",
    "results.matrix = s[:, :, :Z//2, 1]\n",
    "puma.render_warp(results, color_by='matrix', scale_factor=scale_factor, style='edges', notebook=True, add_to_plot=p, plot_directly=False)\n",
    "p.subplot(0, 2)\n",
    "p.add_text(\"Colored by sigma_zz\")\n",
    "results.matrix = s[:, :, :Z//2, 2]\n",
    "puma.render_warp(results, color_by='matrix', scale_factor=scale_factor, style='edges', notebook=True, add_to_plot=p, plot_directly=False)\n",
    "p.subplot(1, 0)\n",
    "p.add_text(\"Colored by tau_yz\")\n",
    "results.matrix = t[:, :, :Z//2, 0]  # assign shear stresses to matrix\n",
    "puma.render_warp(results, color_by='matrix', scale_factor=scale_factor, style='edges', notebook=True, add_to_plot=p, plot_directly=False)\n",
    "p.subplot(1, 1)\n",
    "p.add_text(\"Colored by tau_xz\")\n",
    "results.matrix = t[:, :, :Z//2, 1]\n",
    "puma.render_warp(results, color_by='matrix', scale_factor=scale_factor, style='edges', notebook=True, add_to_plot=p, plot_directly=False)\n",
    "p.subplot(1, 2)\n",
    "p.add_text(\"Colored by tau_yz\")\n",
    "results.matrix = t[:, :, :Z//2, 2]\n",
    "puma.render_warp(results, color_by='matrix', scale_factor=scale_factor, style='edges', notebook=True, add_to_plot=p, plot_directly=False)\n",
    "p.show(cpos=\"xy\")"
   ]
  },
  {
   "cell_type": "code",
   "execution_count": null,
   "metadata": {},
   "outputs": [],
   "source": [
    "puma.export_vti(os.path.join(export_path, export_name), {\"ws\": ws, \"disp\": u, \"sigma\": s, \"tau\": t})"
   ]
  },
  {
   "cell_type": "markdown",
   "metadata": {
    "pycharm": {
     "name": "#%% md\n"
    }
   },
   "source": [
    "## Tutorial: Multi-phase material\n",
    "Although all of the required information for performing simulations on a multi-phase material are already present in the other tutorials, this tutorial is designed to help understand how to perform basic visualizations and simulations on a material with more than one solid phase. \n",
    "\n",
    "For the example here, we are using an artifically generated material with three phases: Random fibers, a binding material between the fibers, and randomly populated spheres "
   ]
  },
  {
   "cell_type": "markdown",
   "metadata": {},
   "source": [
    "### Material Generation\n",
    "\n",
    "First, we will generate a material with 2 different types of fibers, and one type of sphere. \n",
    "\n",
    "The two fibers will be stored with material ID 1, and 2, and the sphere will be stored with material ID 3. \n",
    "\n",
    "Specify the output directory for the files to be generated:"
   ]
  },
  {
   "cell_type": "code",
   "execution_count": null,
   "metadata": {},
   "outputs": [],
   "source": [
    "export_path = \"out\"\n",
    "\n",
    "if not os.path.exists(export_path):\n",
    "    os.makedirs(export_path)"
   ]
  },
  {
   "cell_type": "code",
   "execution_count": null,
   "metadata": {
    "pycharm": {
     "name": "#%%\n"
    },
    "tags": []
   },
   "outputs": [],
   "source": [
    "size = (200, 200, 200)  # size of the domain, in voxels. \n",
    "radius = 8  # radius of the fibers to be generated, in voxels\n",
    "nFibers = None # Can specify either the number of fibers or the porosity\n",
    "porosity = 0.9  # porosity of the overall structure\n",
    "phi = 90 # A value between 0 and 90 that controls the amount that the fibers lie *out of* the XY plane,\n",
    "         # with 0 meaning all fibers lie in the XY plane, and 90 meaning that cylinders are randomly oriented out of the\n",
    "         # plane by as much as +/- 90 degrees.\n",
    "theta = 90 # A value between 0 and 90 that controls the amount of rotation *in the* XY plane,\n",
    "           # with 0 meaning all fibers point in the X-direction, and 90 meaning they are randomly rotated about the\n",
    "           # Z axis by as much as +/- 90 degrees.\n",
    "length = 200 # Length of the fibers to be generated\n",
    "\n",
    "ws_fibers1 = puma.generate_random_fibers(size, radius, nFibers, porosity, phi, theta, length)\n",
    "ws_fibers1.binarize((1))  # turn all the fibers into ID=1\n",
    "\n",
    "radius = 5  # creating smaller fibers for material #2\n",
    "length = 50\n",
    "\n",
    "ws_fibers2 = puma.generate_random_fibers(size, radius, nFibers, porosity, phi, theta, length)\n",
    "ws_fibers2.set_material_id((1, ws_fibers2.max()), 2)  # turn all the fibers into ID=2\n",
    "\n",
    "# combining fibers #1 and fibers #2 into a single domain, and setting the overlap to default to fibers #1\n",
    "ws_fibers1.matrix = ws_fibers1.matrix + ws_fibers2.matrix\n",
    "ws_fibers1.set_material_id((3, 3), 1) # setting the overlap, which would be 3, equal to 1\n",
    "\n",
    "\n",
    "# Generating the spheres\n",
    "diameter = 20  # diameter of the spheres to be generated, in voxels\n",
    "porosity = 0.8  # porosity of the overall structure\n",
    "allow_intersections = True # flag on whether to allow intersections between spheres. \n",
    "# Note: If allow_intersections is set to false, it will be significantly slower to generate,\n",
    "#.      and will usually require a fairly high porosity value to be generated\n",
    "\n",
    "ws_spheres = puma.generate_random_spheres(size, diameter, porosity, allow_intersections, segmented=False)\n",
    "ws_spheres.set_material_id((0, 127), 0)\n",
    "ws_spheres.set_material_id((128, 255), 3)\n",
    "\n",
    "# combining all three materials, with overlap defaulting to the sphere material\n",
    "ws_fibers1.matrix = ws_fibers1.matrix + ws_spheres.matrix\n",
    "ws_fibers1.set_material_id((4, 5), 3) # setting the overlap, which would be either 4 or 5, equal to 3\n",
    "\n",
    "puma.export_3Dtiff(os.path.join(export_path, \"multiphase.tif\"), ws_fibers1)\n",
    "\n",
    "ws_multiphase = ws_fibers1"
   ]
  },
  {
   "cell_type": "markdown",
   "metadata": {
    "tags": []
   },
   "source": [
    "### Material Visualization\n",
    "\n",
    "Now we will plot a slice of the material and visualize each of the three phases:"
   ]
  },
  {
   "cell_type": "code",
   "execution_count": null,
   "metadata": {},
   "outputs": [],
   "source": [
    "slices = puma.plot_slices(ws_multiphase, index=100)"
   ]
  },
  {
   "cell_type": "code",
   "execution_count": null,
   "metadata": {},
   "outputs": [],
   "source": [
    "puma.render_contour(ws_multiphase, cutoff=(1, 1), notebook=True)"
   ]
  },
  {
   "cell_type": "code",
   "execution_count": null,
   "metadata": {},
   "outputs": [],
   "source": [
    "puma.render_contour(ws_multiphase, cutoff=(2, 2), notebook=True)"
   ]
  },
  {
   "cell_type": "code",
   "execution_count": null,
   "metadata": {},
   "outputs": [],
   "source": [
    "puma.render_contour(ws_multiphase, cutoff=(3, 3), notebook=True)"
   ]
  },
  {
   "cell_type": "markdown",
   "metadata": {},
   "source": [
    "We can also visualize the three-phase material using either the volume_render for showing a voxel representation or the puma.render_contour_multiphase function for a smooth triangulated surface representation: "
   ]
  },
  {
   "cell_type": "code",
   "execution_count": null,
   "metadata": {},
   "outputs": [],
   "source": [
    "puma.render_volume(ws_multiphase, cutoff=(1, 3), solid_color=None, notebook=True, cmap='gray')"
   ]
  },
  {
   "cell_type": "code",
   "execution_count": null,
   "metadata": {},
   "outputs": [],
   "source": [
    "cutoffs = [(1, 1)]  # material phase 1\n",
    "cutoffs.append((2, 2)) # material phase 2\n",
    "cutoffs.append((3, 3)) # material phase 3\n",
    "\n",
    "# if solid_colors is not provided, the color of the phases is randomized\n",
    "puma.render_contour_multiphase(ws_multiphase, cutoffs, notebook=True, \n",
    "                               solid_colors=((0., 0., 0.), (0.5, 0.5, 0.5), (1., 1., 1.)))"
   ]
  },
  {
   "cell_type": "markdown",
   "metadata": {},
   "source": [
    "### Volume Fractions\n",
    "\n",
    "To calculate the volume fractions of each material phase, we will use the puma.compute_volume_fraction function and specify the grayscale range of each material: "
   ]
  },
  {
   "cell_type": "code",
   "execution_count": null,
   "metadata": {},
   "outputs": [],
   "source": [
    "vf_void = puma.compute_volume_fraction(ws_multiphase, (0,0))\n",
    "vf_phase1 = puma.compute_volume_fraction(ws_multiphase, (1,1))\n",
    "vf_phase2 = puma.compute_volume_fraction(ws_multiphase, (2,2))\n",
    "vf_phase3 = puma.compute_volume_fraction(ws_multiphase, (3,3))\n",
    "vf_solid = puma.compute_volume_fraction(ws_multiphase, (1,3))\n",
    "\n",
    "print(\"Volume Fraction of Void (Porosity):\", vf_void)\n",
    "print(\"Volume Fraction of Phase 1:\", vf_phase1)\n",
    "print(\"Volume Fraction of Phase 2:\", vf_phase2)\n",
    "print(\"Volume Fraction of Phase 3:\", vf_phase3)\n",
    "print(\"Volume Fraction of All Three Phases:\", vf_solid)"
   ]
  },
  {
   "cell_type": "markdown",
   "metadata": {},
   "source": [
    "### Surface Area\n",
    "\n",
    "To calculate the total surface area of the entire material phase, we can use the puma.compute_surface_area function with the material cutoff of (1,3) which includes all 3 material phases"
   ]
  },
  {
   "cell_type": "code",
   "execution_count": null,
   "metadata": {},
   "outputs": [],
   "source": [
    "area, specific_area = puma.compute_surface_area(ws_multiphase, (1, 3))\n",
    "print(\"Areas:\", area, specific_area)"
   ]
  },
  {
   "cell_type": "markdown",
   "metadata": {},
   "source": [
    "Computing the surface area of each individual phase is a little bit more tricky. To demonstrate, refer to the simple 2D schematic below of a 2-phase material.\n",
    "\n",
    "![image info](https://github.com/nasa/puma/raw/main/tutorial/pictures/multiphase.png)\n",
    "\n",
    "The materials are each labeled, 1, and 2, and the edge lengths are labeled a, b, and c. The total surface area of both materials is defined as A<sub>total</sub> = a + b. Assuming that your materials are stored with grayscale values 1 and 2, this total surface area is calculated as before in the 3-material example: \n",
    "\n",
    "    puma.compute_surface_area(ws_multiphase, (1,2))\n",
    "\n",
    "However, if you want to know the surface area of an individual phase, there are two options. You can compute the total surface area of the individual phase, including the surface area contact with other material phases, or you can compute only the exposed surface area to the void phase. The latter would be the relevant quantity when computing, for example, the effective reactive surface area for chemical reactions. In the first case, the surface area can be calculated as\n",
    "\n",
    "Area = A<sub>1</sub> = a + c = puma.compute_surface_area(ws_multiphase, (1,2))\n",
    "\n",
    "Area = 0.5 ( A<sub>1</sub> + A<sub>1-2</sub> - A<sub>2</sub> ) = 0.5 * (a + b + a + c - b - c) = a\n",
    "\n",
    "which, written in puma commands, becomes:\n",
    "\n",
    "    Area = puma.compute_surface_area(ws_multiphase, (1,1)) + puma.compute_surface_area(ws_multiphase, (1,2)) - puma.compute_surface_area(ws_multiphase, (2,2))\n",
    "\n",
    "For our 3-phase material, it is quite similar:\n",
    "\n",
    "To compute the surface area of material 1 exposed to the void, \n",
    "\n",
    "Area = 0.5 ( A<sub>1</sub> + A<sub>1-2-3</sub> - A<sub>2-3</sub> ) = 0.5 * (a + d + f + a + b + c - d - b - c - f) = a\n",
    "\n",
    "    "
   ]
  },
  {
   "cell_type": "markdown",
   "metadata": {},
   "source": [
    "Below, we compute the exposed to void surface area of each of the three phases: note that computing the surface area of the union between 1 and 3 requires extra steps, since using the surface area calculation on the domain with cutoffs (1,3) would include phase 2. Instead we copy the domain, set material 3 to an ID of 1, and then compute the surface area of material 1, which now includes material 3"
   ]
  },
  {
   "cell_type": "code",
   "execution_count": null,
   "metadata": {},
   "outputs": [],
   "source": [
    "# Raw and specific surface area calculations\n",
    "Area_1, SSA_1 = puma.compute_surface_area(ws_multiphase, (1,1))  # a + d + f\n",
    "Area_2, SSA_2 = puma.compute_surface_area(ws_multiphase, (2,2))  # d + b + e\n",
    "Area_3, SSA_3 = puma.compute_surface_area(ws_multiphase, (3,3))  # f + e + c\n",
    "\n",
    "Area_12, SSA_12 = puma.compute_surface_area(ws_multiphase, (1,2))  # a + b + e + f\n",
    "Area_23, SSA_23 = puma.compute_surface_area(ws_multiphase, (2,3))  # d + b + c + f\n",
    "Area_123, SSA_123 = puma.compute_surface_area(ws_multiphase, (1,3)) # a \n",
    "\n",
    "ws_copy = ws_multiphase.copy()\n",
    "ws_copy.set_material_id((3,3),1)  # setting all of phase 3 to be equal to ID 1\n",
    "Area_13, SSA_13 = puma.compute_surface_area(ws_copy, (1,1))  # a + d + e + c\n",
    "\n",
    "# Now to compute the exposed surface areas for each phase: \n",
    "Exposed_Area_1 = 0.5 * (Area_1 + Area_123 - Area_23)\n",
    "Exposed_SSA_1 = 0.5 * (SSA_1 + SSA_123 - SSA_23)\n",
    "\n",
    "Exposed_Area_2 = 0.5 * (Area_2 + Area_123 - Area_13)\n",
    "Exposed_SSA_2 = 0.5 * (SSA_2 + SSA_123 - SSA_13)\n",
    "\n",
    "Exposed_Area_3 = 0.5 * (Area_3 + Area_123 - Area_12)\n",
    "Exposed_SSA_3 = 0.5 * (SSA_3 + SSA_123 - SSA_12)\n",
    "\n",
    "print(\"Exposed Areas for Phase 1:\", Exposed_Area_1, Exposed_SSA_1)\n",
    "print(\"Exposed Areas for Phase 2:\", Exposed_Area_2, Exposed_SSA_2)\n",
    "print(\"Exposed Areas for Phase 3:\", Exposed_Area_3, Exposed_SSA_3)"
   ]
  },
  {
   "cell_type": "markdown",
   "metadata": {},
   "source": [
    "As a check, we will test to make sure that the total exposed areas of each phase sum up to the total surface area of all of the material phases: "
   ]
  },
  {
   "cell_type": "code",
   "execution_count": null,
   "metadata": {},
   "outputs": [],
   "source": [
    "print(\"Sum of Exposed Phase Area:\", Exposed_SSA_1 + Exposed_SSA_2 + Exposed_SSA_3)\n",
    "print(\"Total Area:\", SSA_123)\n",
    "print(\"Percent Error: \", np.abs((Exposed_SSA_1 + Exposed_SSA_2 + Exposed_SSA_3 - SSA_123)) / SSA_123 * 100.)"
   ]
  },
  {
   "cell_type": "markdown",
   "metadata": {},
   "source": [
    "We can see that the two values are very close but not exactly the same. This slight difference is simply numerical error from the triangulations and accounts for a 0.28% error in this case, which should not be too significant. "
   ]
  },
  {
   "cell_type": "markdown",
   "metadata": {},
   "source": [
    "### Tortuosity Factors\n",
    "\n",
    "Computing the tortuosity factors for a multi-phase material is not different than for a single phase material, since it is only the void phase that is specified for the calculation. \n",
    "\n",
    "To speed up the simulation, we will take a 100<sup>3</sup> subsection of the domain in order to perform the tortuosity simulation. Please note that this domain size is almost certainly not a representative volume, and a far larger size should be used when performing production simulations"
   ]
  },
  {
   "cell_type": "code",
   "execution_count": null,
   "metadata": {},
   "outputs": [],
   "source": [
    "# The tortuosity calculation needs to be run for each of the three simulation directions. \n",
    "# For each simulation, a concentration gradient is forced in the simulation direction, and converged to steady state\n",
    "\n",
    "# Simulation inputs: \n",
    "#.  1. workspace - the computational domain for the simulation, containing your material microstructure\n",
    "#.  2. cutoff - the grayscale values for the void phase. [0,0] for this sample\n",
    "#.  3. direction - the simulation direction, 'x', 'y', or 'z'\n",
    "#.  4. side_bc - boundary condition in the non-simulation direction. Can be 'p' - periodic, 's' - symmetric, 'd' - dirichlet\n",
    "#.  5. tolerance - accuracy of the numerical solver, defaults to 1e-4. \n",
    "#.  6. maxiter - maximum number of iterations, defaults to 10,000\n",
    "#.  7. solver_type - the iterative solver used. Can be 'bicgstab', 'cg', 'gmres', or 'direct'. Defaults to 'bicgstab'\n",
    "\n",
    "ws_cropped = ws_multiphase.copy()  # creating a copy of the workspace to crop\n",
    "ws_cropped.matrix = ws_cropped.matrix[50:150,50:150,50:150]  # cropping the sample to 100^3\n",
    "\n",
    "n_eff_x, Deff_x, poro, C_x = puma.compute_continuum_tortuosity(ws_cropped, (0,0), 'x', side_bc='s', tolerance=1e-3, solver_type='cg')\n",
    "n_eff_y, Deff_y, poro, C_y = puma.compute_continuum_tortuosity(ws_cropped, (0,0), 'y', side_bc='s', tolerance=1e-3, solver_type='cg')\n",
    "n_eff_z, Deff_z, poro, C_z = puma.compute_continuum_tortuosity(ws_cropped, (0,0), 'z', side_bc='s', tolerance=1e-3, solver_type='cg')\n",
    "\n",
    "print(\"Effective tortuosity factors:\")\n",
    "print(n_eff_x)\n",
    "print(n_eff_y)\n",
    "print(n_eff_z)\n",
    "\n",
    "print(\"Porosity of the material:\", poro)"
   ]
  },
  {
   "cell_type": "code",
   "execution_count": null,
   "metadata": {},
   "outputs": [],
   "source": [
    "# Visualizing the Concentration field for the simulation along the x-axis:  \n",
    "puma.render_volume(C_x, solid_color=None, notebook=True, cmap='jet')"
   ]
  },
  {
   "cell_type": "markdown",
   "metadata": {},
   "source": [
    "### Effective Thermal Conductivity\n",
    "\n",
    "Computing the effective thermal conductivity is also very similar to in a single-phase case. The only difference is that rather than two materials being specified (void and solid) in the conductivity map, an entry must be made for each material phase, and the corresponding constituent thermal conductivity must be set. "
   ]
  },
  {
   "cell_type": "code",
   "execution_count": null,
   "metadata": {},
   "outputs": [],
   "source": [
    "# Generating a conductivity map. This stores the conductivity values for each phase of the material\n",
    "cond_map = puma.IsotropicConductivityMap()\n",
    "# First, we set the conductivity of the void phase to be 0.0257 (air at STP)\n",
    "cond_map.add_material((0, 0), 0.0257)\n",
    "# Next we set the conductivity of each of the three material phases\n",
    "cond_map.add_material((1, 1), 10)\n",
    "cond_map.add_material((2, 2), 20)\n",
    "cond_map.add_material((3, 3), 100)\n",
    "\n",
    "# The thermal conductivity calculation needs to be run for each of the three simulation directions. \n",
    "# For each simulation, a temperature gradient is forced in the simulation direction, and converged to steady state\n",
    "\n",
    "# Simulation inputs: \n",
    "#.  1. workspace - the computational domain for the simulation, containing your material microstructure\n",
    "#.  2. cond_map - the conductivity values for each material phase\n",
    "#.  3. direction - the simulation direction, 'x', 'y', or 'z'\n",
    "#.  4. side_bc - boundary condition in the non-simulation direction. Can be 'p' - periodic, 's' - symmetric, 'd' - dirichlet\n",
    "#.  5. tolerance - accuracy of the numerical solver, defaults to 1e-4. \n",
    "#.  6. maxiter - maximum number of iterations, defaults to 10,000\n",
    "#.  7. solver_type - the iterative solver used. Can be 'bicgstab', 'cg', 'gmres', or 'direct'. Defaults to 'bicgstab'\n",
    "\n",
    "k_eff_x, T_x, q_x = puma.compute_thermal_conductivity(ws_cropped,cond_map, 'x', 's', tolerance=1e-3, solver_type='bicgstab')\n",
    "k_eff_y, T_y, q_y = puma.compute_thermal_conductivity(ws_cropped,cond_map, 'y', 's', tolerance=1e-3, solver_type='bicgstab')\n",
    "k_eff_z, T_z, q_z = puma.compute_thermal_conductivity(ws_cropped,cond_map, 'z', 's', tolerance=1e-3, solver_type='bicgstab')\n",
    "\n",
    "print(\"Effective thermal conductivity tensor:\")\n",
    "print(k_eff_x)\n",
    "print(k_eff_y)\n",
    "print(k_eff_z)"
   ]
  },
  {
   "cell_type": "code",
   "execution_count": null,
   "metadata": {},
   "outputs": [],
   "source": [
    "# Visualizing the temperature field for the simulation along the y-axis: \n",
    "puma.render_volume(T_y, solid_color=None, notebook=True, cmap='jet')"
   ]
  },
  {
   "cell_type": "markdown",
   "metadata": {},
   "source": [
    "## Tutorial: Permeability\n",
    "\n",
    "In this tutorial we introduce pumapy's permeability module. The numerical method behind the permeability homogenization function relies on a Finite Element method, which approximates both the velocity and pressure fields with first-order elements (i.e. Q1-Q1) and imposing a unit body force in each Cartesian direction. More details about the specifics of this method can be found in [this publication](https://www.mdpi.com/2311-5521/5/1/16), which was the starting point of the PuMA implementation.\n",
    "\n",
    "In this section of the tutorials, we will run two different cases: the first one simulates the flow through a square array of cylinders, for which the permeability can be computed analytically; the second one solves the Stokes equation for the flow around artificial fibers domains, whose fiber orientation is varied."
   ]
  },
  {
   "cell_type": "markdown",
   "metadata": {},
   "source": [
    "### Transverse flow through a square array of cylinders\n",
    "\n",
    "The analytical solution for this case can be found in section 11 of [this paper](https://www.sciencedirect.com/science/article/abs/pii/030193228490079X) (equation 29). It describes the homogenized permeability of a square domain containing cylinders. In our case, we will consider a domain with equal unit sides, discretized with 300 voxels in each direction, and with cylinders with 0.1 radius:"
   ]
  },
  {
   "cell_type": "code",
   "execution_count": null,
   "metadata": {},
   "outputs": [],
   "source": [
    "r = 0.1  # cylinder radius\n",
    "vf = 2. * np.pi * (r ** 2.)  # solid volume fraction"
   ]
  },
  {
   "cell_type": "markdown",
   "metadata": {},
   "source": [
    "The analytical solution can now be computed as: "
   ]
  },
  {
   "cell_type": "code",
   "execution_count": null,
   "metadata": {},
   "outputs": [],
   "source": [
    "keff_analytical = ((r ** 2) / (8 * vf)) * (-np.log(vf) - 1.47633597 + 2 * vf - 1.77428264 * vf ** 2 + 4.07770444 * vf ** 3 - 4.84227402 * vf ** 4)\n",
    "print(f\"Analytical diagonal permeability: {keff_analytical}\")"
   ]
  },
  {
   "cell_type": "markdown",
   "metadata": {},
   "source": [
    "We can create the square array of cylinders by running the following cell:"
   ]
  },
  {
   "cell_type": "code",
   "execution_count": null,
   "metadata": {},
   "outputs": [],
   "source": [
    "ws = puma.generate_cylinder_square_array(100, 1. - vf)  # 100x100x1 domain with porosity = 1 - vf\n",
    "ws.voxel_length = 1./ws.matrix.shape[0]  # i.e. side length = 1\n",
    "print(f\"Domain solid VF: {puma.compute_volume_fraction(ws, (1, 1))}\")\n",
    "\n",
    "puma.render_volume(ws, (1, 1), notebook=True)"
   ]
  },
  {
   "cell_type": "markdown",
   "metadata": {},
   "source": [
    "Finally, we can compute the exact numerical permeability in the three directions using a sparse direct solver by running:"
   ]
  },
  {
   "cell_type": "code",
   "execution_count": null,
   "metadata": {},
   "outputs": [],
   "source": [
    "keff, u_x, p_x, u_y, p_y, u_z, p_z = puma.compute_permeability(ws, (1, 1), solver_type='direct')\n",
    "\n",
    "print(f\"\\nNumerical diagonal permeability: {keff[0, 0]}\\n\")                                            "
   ]
  },
  {
   "cell_type": "markdown",
   "metadata": {},
   "source": [
    "We can also visualize the output velocity fields as:"
   ]
  },
  {
   "cell_type": "code",
   "execution_count": null,
   "metadata": {},
   "outputs": [],
   "source": [
    "arrows_scale_factor = 250\n",
    "u_x[::2] = 0  # lower sampling for plotting arrows\n",
    "u_x[:, ::2] = 0\n",
    "u_y[::2] = 0\n",
    "u_y[:, ::2] = 0\n",
    "p_x[ws.matrix == 1] = np.NAN\n",
    "p_y[ws.matrix == 1] = np.NAN\n",
    "p = pv.Plotter(shape=(2, 2))\n",
    "p.subplot(0, 0)\n",
    "p.add_text(\"Body force in x, velocity\")\n",
    "puma.render_orientation(u_x, scale_factor=arrows_scale_factor, solid_color=None, add_to_plot=p, plot_directly=False, notebook=True)\n",
    "puma.render_volume(ws, (1, 1), solid_color=(1,1,1), style='surface', add_to_plot=p, plot_directly=False, notebook=True)\n",
    "p.subplot(0, 1)\n",
    "p.add_text(\"Body force in y, velocity\")\n",
    "puma.render_orientation(u_y, scale_factor=arrows_scale_factor, solid_color=None, add_to_plot=p, plot_directly=False, notebook=True)\n",
    "puma.render_volume(ws, (1, 1), solid_color=(1,1,1), style='surface', add_to_plot=p, plot_directly=False, notebook=True)\n",
    "\n",
    "p.subplot(1, 0)\n",
    "p.add_text(\"pressure\")\n",
    "puma.render_volume(p_x, solid_color=None, add_to_plot=p, plot_directly=False, cmap='jet', notebook=True)\n",
    "p.subplot(1, 1)\n",
    "p.add_text(\"pressure\")\n",
    "puma.render_volume(p_y, solid_color=None, add_to_plot=p, plot_directly=False, cmap='jet', notebook=True)\n",
    "p.show()"
   ]
  },
  {
   "cell_type": "markdown",
   "metadata": {},
   "source": [
    "### Flow through artificial fibers with variable orientation\n",
    "\n",
    "In this section, we are going to showcase how to compute the permeability of a couple of artificial fiber samples. We set the orientation of the first one to be completely random, whereas we align the fibers of the second one with the XZ plane.\n",
    "\n",
    "This is how we can generate them:"
   ]
  },
  {
   "cell_type": "code",
   "execution_count": null,
   "metadata": {},
   "outputs": [],
   "source": [
    "ws1 = puma.generate_random_fibers(shape=(100, 100, 100), radius=3, porosity=0.7, phi=90, theta=90, length=200, max_iter=6)\n",
    "ws2 = puma.generate_random_fibers(shape=(100, 100, 100), radius=3, porosity=0.7, phi=0, theta=90, length=200, max_iter=6)\n",
    "\n",
    "p = pv.Plotter(shape=(1, 2))\n",
    "p.subplot(0, 0)\n",
    "p.add_text(\"Random orientation\")\n",
    "puma.render_volume(ws1, (1, ws1.max()), solid_color=None, cmap='jet', style='surface', add_to_plot=p, plot_directly=False, notebook=True)\n",
    "p.subplot(0, 1)\n",
    "p.add_text(\"Preferentially aligned with XZ plane\")\n",
    "puma.render_volume(ws2, (1, ws2.max()), solid_color=None, cmap='jet', style='surface', add_to_plot=p, plot_directly=False, notebook=True)\n",
    "p.show()"
   ]
  },
  {
   "cell_type": "markdown",
   "metadata": {},
   "source": [
    "Now, we compute their permeabilities using the minres iterative solver (due to the significantly larger sparse system to solve):"
   ]
  },
  {
   "cell_type": "code",
   "execution_count": null,
   "metadata": {},
   "outputs": [],
   "source": [
    "keff1, u_x1, p_x1, u_y1, p_y1, u_z1, p_z1 = puma.compute_permeability(ws1, (1, ws1.max()), tol=1e-7, maxiter=10000, solver_type='minres')\n",
    "keff2, u_x2, p_x2, u_y2, p_y2, u_z2, p_z2 = puma.compute_permeability(ws2, (1, ws2.max()), tol=1e-7, maxiter=10000, solver_type='minres')"
   ]
  },
  {
   "cell_type": "markdown",
   "metadata": {
    "tags": []
   },
   "source": [
    "As you can see, the diagonal permeabilities in the first case are similar to each other, whereas the permeability in z direction for the second sample is significatly lower than in the other two directions, which is a direct cause of the fiber orientation. \n",
    "\n",
    "We can now visualize their output velocity fields in Z as:"
   ]
  },
  {
   "cell_type": "code",
   "execution_count": null,
   "metadata": {},
   "outputs": [],
   "source": [
    "arrows_scale_factor = 5e11\n",
    "u_z1[::2] = 0  # lower sampling for plotting arrows\n",
    "u_z1[:, ::2] = 0\n",
    "u_z2[::2] = 0  # lower sampling for plotting arrows\n",
    "u_z2[:, ::2] = 0\n",
    "p_z1[ws1.matrix > 0] = np.NAN\n",
    "p_z2[ws2.matrix > 0] = np.NAN\n",
    "p = pv.Plotter(shape=(2, 2))\n",
    "p.subplot(0, 0)\n",
    "p.add_text(\"Z velocity for fibers with random orientation\")\n",
    "puma.render_orientation(u_z1, scale_factor=arrows_scale_factor, solid_color=None, add_to_plot=p, plot_directly=False, notebook=True)\n",
    "puma.render_volume(ws1, (1, ws1.max()), solid_color=(1,1,1), style='surface', add_to_plot=p, plot_directly=False, notebook=True)\n",
    "p.subplot(0, 1)\n",
    "p.add_text(\"Z velocity for fibers with preferential orientation on XZ plane\")\n",
    "puma.render_orientation(u_z2, scale_factor=arrows_scale_factor, solid_color=None, add_to_plot=p, plot_directly=False, notebook=True)\n",
    "puma.render_volume(ws2, (1, ws2.max()), solid_color=(1,1,1), style='surface', add_to_plot=p, plot_directly=False, notebook=True)\n",
    "p.subplot(1, 0)\n",
    "p.add_text(\"pressure\")\n",
    "puma.render_volume(p_z1, solid_color=None, add_to_plot=p, plot_directly=False, cmap='jet', notebook=True)\n",
    "p.subplot(1, 1)\n",
    "p.add_text(\"pressure\")\n",
    "puma.render_volume(p_z2, solid_color=None, add_to_plot=p, plot_directly=False, cmap='jet', notebook=True)\n",
    "p.show()"
   ]
  },
  {
   "cell_type": "markdown",
   "metadata": {},
   "source": [
    "## Tutorial: Segmentation\n",
    "\n",
    "In this tutorial we introduce pumapy's segmentation capabilities. "
   ]
  },
  {
   "cell_type": "markdown",
   "metadata": {},
   "source": [
    "### Porespace identification\n",
    "\n",
    "When dealing with porous materials, it is often useful to distinguish between closed and open porosity. This is particularly relevant when particle or ray casting simulations need to be performed. In these cases, closed porosity throughout a domain becomes a problem, because particles get trapped inside these pockets, inevitably altering the output of a simulation. For this reason, a method to identify and fill the closed porosity was implemented in both C++ PuMA and pumapy.\n",
    "Let's first create a 50% dense sample full of hollowed out spheres and visualize it:"
   ]
  },
  {
   "cell_type": "code",
   "execution_count": null,
   "metadata": {},
   "outputs": [],
   "source": [
    "ws = puma.generate_random_spheres((200, 200, 200), diameter=20, porosity=0.5, allow_intersect=True, segmented=False)\n",
    "\n",
    "# void is 0, solid is 255, but the material does not jump from 0-255, it gradually does so\n",
    "# we therefore use this gradient to select the shell of each sphere\n",
    "ws.binarize_range((1, 254))\n",
    "\n",
    "puma.render_volume(ws, cutoff=(1, 1), solid_color=(1,1,1), notebook=True)"
   ]
  },
  {
   "cell_type": "markdown",
   "metadata": {},
   "source": [
    "Now we can run the pore filling algorithm, which runs a connected component analysis. The fill_closed_pores function needs to be given the solid range (in this case only 1 since we have already binarized the workspace) and the ID value to fill the closed porosity throughout the workspace (in this case we set 2)."
   ]
  },
  {
   "cell_type": "code",
   "execution_count": null,
   "metadata": {},
   "outputs": [],
   "source": [
    "filled_ws, pores = puma.fill_closed_pores(ws, (1, 1), 2, return_pores=True)"
   ]
  },
  {
   "cell_type": "markdown",
   "metadata": {},
   "source": [
    "When the return_pores flag is True, then it returns both the already filled workspace and a Numpy array of pores with IDs: solid == 0, largest pore (likely open porosity) == 1, smaller pores (likely closed porosity) == 2 - N. We can visualize both these outputs as:"
   ]
  },
  {
   "cell_type": "code",
   "execution_count": null,
   "metadata": {
    "scrolled": true
   },
   "outputs": [],
   "source": [
    "puma.render_volume(pores[:pores.shape[0]//2], cutoff=(1, 10), solid_color=None, notebook=True, cmap='jet')"
   ]
  },
  {
   "cell_type": "code",
   "execution_count": null,
   "metadata": {},
   "outputs": [],
   "source": [
    "puma.render_volume(filled_ws, notebook=True, cmap='jet')"
   ]
  },
  {
   "cell_type": "markdown",
   "metadata": {},
   "source": [
    "Note that the identify_porespace function performs the same operation as the fill_closed_pores, except that it does not fill the closed pores throughout the workspace, it only returns the labelled pores identified. "
   ]
  },
  {
   "cell_type": "markdown",
   "metadata": {
    "tags": []
   },
   "source": [
    "# C++ examples\n",
    "\n",
    "In order to run this tutorial on Colab, make sure to setup the environment correctly, as explained in the \"Installation setup and imports\" section.\n",
    "\n",
    "In this section we outline the examples related to the PuMA C++ library. In order to run them, we need to first create a couple of files necessary to compile and run our C++ code, namely CMakeLists.txt and MakeAll.sh. We then create a function that automatically calls them."
   ]
  },
  {
   "cell_type": "code",
   "execution_count": null,
   "metadata": {},
   "outputs": [],
   "source": [
    "CMakeLists_txt = \"\"\"\n",
    "cmake_minimum_required(VERSION 3.0)\n",
    "set(CMAKE_CXX_STANDARD 14)\n",
    "\n",
    "project(example)\n",
    "\n",
    "set(CMAKE_INSTALL_RPATH \"${CMAKE_INSTALL_PREFIX}/lib\")\n",
    "set(CMAKE_INSTALL_RPATH_USE_LINK_PATH TRUE)\n",
    "set(CMAKE_MACOSX_RPATH TRUE)\n",
    "\n",
    "if(APPLE)\n",
    "    set(CMAKE_CXX_FLAGS \"${CMAKE_CXX_FLAGS} -Xpreprocessor -fopenmp --std=c++0x -Wno-format -Wno-literal-conversion -Wno-deprecated-register -Wno-return-type\")\n",
    "elseif(UNIX)\n",
    "    set(CMAKE_CXX_FLAGS \"${CMAKE_CXX_FLAGS} -fopenmp --std=c++0x\")\n",
    "endif()\n",
    "\n",
    "include_directories(${CONDA_PREFIX}/include)\n",
    "include_directories(${CONDA_PREFIX}/include/eigen3/Eigen)\n",
    "\n",
    "SET(DEP_LIBS \"-ldl -L${CONDA_PREFIX}/lib -lPuMA -ltiff -lfftw3_threads -lfftw3\")\n",
    "if(APPLE)\n",
    "    SET(DEP_LIBS \"${DEP_LIBS} -lomp\")\n",
    "endif()\n",
    "\n",
    "add_executable(example example.cpp)\n",
    "target_link_libraries(example ${DEP_LIBS})\n",
    "install(TARGETS example DESTINATION ${CMAKE_INSTALL_PREFIX}/bin)\n",
    "\"\"\"\n",
    "if not os.path.exists('out'):\n",
    "    os.makedirs('out')\n",
    "with open('out/CMakeLists.txt', 'w') as file:\n",
    "    file.write(CMakeLists_txt)\n",
    "\n",
    "\n",
    "makeAll_sh = \"\"\"\n",
    "cd \"${0%/*}\" || exit 1    # Run from this directory\n",
    "set -e  # exit when any command fails\n",
    "\"\"\"\n",
    "if not ('google.colab' in str(get_ipython())):\n",
    "    makeAll_sh += \"\"\"\n",
    "    eval \"$(conda shell.bash hook)\"  # this is required for conda\n",
    "    conda activate puma\n",
    "    \"\"\"\n",
    "makeAll_sh += \"\"\"\n",
    "mkdir -p build\n",
    "cd build\n",
    "cmake -D CONDA_PREFIX=$CONDA_PREFIX -D CMAKE_INSTALL_PREFIX=$CONDA_PREFIX ..\n",
    "make -j\n",
    "make install\n",
    "\"\"\"\n",
    "with open('out/makeAll.sh', 'w') as file:\n",
    "    file.write(makeAll_sh)\n",
    "!chmod +x out/makeAll.sh    \n",
    "\n",
    "\n",
    "def write_compile_run_example(puma_commands):\n",
    "    \n",
    "    with open('out/example.cpp', 'w') as file:\n",
    "        file.write('''\n",
    "#include <iostream>\n",
    "#include \"puma.h\"\n",
    "using namespace std;\n",
    "int main (int argc, char **argv){''' + puma_commands + \"return 0;\\n}\\n\")\n",
    "    \n",
    "    !./out/makeAll.sh && example"
   ]
  },
  {
   "cell_type": "markdown",
   "metadata": {},
   "source": [
    "For your reference, you can now check out the two files that have been created, as well as the example.cpp that gets written every time we run one of the examples below."
   ]
  },
  {
   "cell_type": "markdown",
   "metadata": {},
   "source": [
    "## Example: Primitives"
   ]
  },
  {
   "cell_type": "code",
   "execution_count": null,
   "metadata": {},
   "outputs": [],
   "source": [
    "write_compile_run_example('''\n",
    "\n",
    "// primitives: Matrix\n",
    "cout << endl << \"Creating a matrix with user input size and printing a slice of it:\"<< endl;\n",
    "\n",
    "puma::Matrix<double> mat(10,10,10, 3.5); // sets all the elements to 3.5\n",
    "// N.B. note that if a value is not specified, matrix just allocates the memory, does not set the matrix to zeros\n",
    "\n",
    "mat.set(0,-1, 4,4, 4,4, 1); // creating a central solid fiber\n",
    "// N.B. -1 specifies until the end of domain mat.X()-1\n",
    "\n",
    "mat.printRange(0,-1, 0,-1, 4,5);\n",
    "\n",
    "''')"
   ]
  },
  {
   "cell_type": "code",
   "execution_count": null,
   "metadata": {},
   "outputs": [],
   "source": [
    "write_compile_run_example('''\n",
    "\n",
    "// primitives: Workspace\n",
    "cout << endl << \"Creating a grayscale workspace:\"<< endl;\n",
    "\n",
    "puma::Workspace grayWS(10,10,10,1e-6, false); // automatically initializes it to zeros\n",
    "// false prevents it from writing the log, unnecessary for these tutorials\n",
    "\n",
    "grayWS.matrix.set(0,-1, 4,4, 4,4, 255); // creating a central solid fiber\n",
    "\n",
    "grayWS.matrix.printRange(0,-1, 0,-1, 4,5);\n",
    "\n",
    "\n",
    "cout << endl << \"Segmenting it into a segmented workspace:\"<< endl;\n",
    "\n",
    "puma::Cutoff cutoff(0,89); // calling puma::Cutoff is equivalent to calling pair<int,int>\n",
    "grayWS.setMaterialID(cutoff,0);   // mask the segmented ws with the grayscale one, thresholding by assigning 0 to the range 0-89\n",
    "\n",
    "grayWS.setMaterialID(puma::Cutoff(90,255),1); // assigning 1 to the range 90-255, with the direct cutoff pair\n",
    "\n",
    "grayWS.matrix.printRange(0,-1, 0,-1, 4,5);\n",
    "\n",
    "''')"
   ]
  },
  {
   "cell_type": "code",
   "execution_count": null,
   "metadata": {},
   "outputs": [],
   "source": [
    "write_compile_run_example('''\n",
    "\n",
    "// primitives: Vec3\n",
    "cout << endl << \"Creating a vector with three components:\"<< endl;\n",
    "\n",
    "puma::Vec3<double> vector(60,5,1);\n",
    "vector.x = 1; // reassign one of the components\n",
    "\n",
    "cout << \"Computing magnitude of original vector: \" << vector.magnitude() << endl; // compute the magnitude\n",
    "cout << \"Computing magnitude of normalized vector: \" << (vector.norm()).magnitude() << endl; // compute the magnitude\n",
    "\n",
    "puma::Vec3<double> vector2(50,0,0);\n",
    "vector.dot(vector2);   // dot product\n",
    "vector.cross(vector2); // cross product\n",
    "\n",
    "''')"
   ]
  },
  {
   "cell_type": "code",
   "execution_count": null,
   "metadata": {},
   "outputs": [],
   "source": [
    "write_compile_run_example('''\n",
    "\n",
    "// primitives: Vec4\n",
    "cout << endl << \"Creating a vector with three components and a time value\" << endl;\n",
    "\n",
    "puma::Vec4<float> vec1(1.2, -3.4, 5.6);\n",
    "puma::Vec4<float> vec2(1.2, -3.4, 5.6, 1);\n",
    "\n",
    "''')"
   ]
  },
  {
   "cell_type": "code",
   "execution_count": null,
   "metadata": {},
   "outputs": [],
   "source": [
    "write_compile_run_example('''\n",
    "\n",
    "// primitives: MatVec3\n",
    "cout << endl << \"Creating a direction matrix for a single fiber running along x:\" << endl;\n",
    "\n",
    "puma::MatVec3<double> directions(10,10,10); // initializes it to Vec3(0,0,0)\n",
    "directions.set(0,-1, 4,4, 4,4, puma::Vec3<double>(1,0,0));\n",
    "\n",
    "directions.printRange(0,-1, 0,-1, 4,5);\n",
    "\n",
    "''')"
   ]
  },
  {
   "cell_type": "markdown",
   "metadata": {},
   "source": [
    "## Example: import/export"
   ]
  },
  {
   "cell_type": "code",
   "execution_count": null,
   "metadata": {},
   "outputs": [],
   "source": [
    "write_compile_run_example('''\n",
    "\n",
    "// export3dtiff\n",
    "cout << endl << \"Exporting a puma matrix to a tiff file:\"<< endl;\n",
    "\n",
    "puma::Matrix<int> mat(10,10,10, 0);\n",
    "mat.set(0,-1, 4,4, 4,4, 150); // -1 specifies until the end of domain\n",
    "\n",
    "puma::export_3DTiff(&mat, \"out/matrix_example_notnorm\", false); // not normalized\n",
    "puma::export_3DTiff(&mat, \"out/matrix_example_norm\", true); // normalized --> 150 becomes 255 since highest value\n",
    "\n",
    "\n",
    "cout<< endl << \"Exporting a workspace to a tiff file:\"<< endl;\n",
    "\n",
    "puma::Workspace grayWS(10,10,10,1e-6, false);\n",
    "grayWS.matrix.set(0,-1, 4,4, 4,4, 255);\n",
    "\n",
    "puma::export_3DTiff(&grayWS, \"out/workspace_example_notnorm\", false);\n",
    "\n",
    "''')"
   ]
  },
  {
   "cell_type": "code",
   "execution_count": null,
   "metadata": {},
   "outputs": [],
   "source": [
    "write_compile_run_example('''\n",
    "\n",
    "// exportbin\n",
    "cout << endl << \"Exporting a puma matrix to a binary file:\"<< endl;\n",
    "\n",
    "puma::Matrix<int> mat(10,10,10, 0);\n",
    "mat.set(0,-1, 4,4, 4,4, 150); // -1 specifies until the end of domain\n",
    "\n",
    "puma::export_bin(&mat, \"out/mat_example\"); // to specify numThreads, add one more int to the inputs at the end\n",
    "\n",
    "\n",
    "cout<< endl << \"Exporting a workspace to a binary file:\"<< endl;\n",
    "\n",
    "puma::Workspace grayWS(10,10,10,1e-6, false);\n",
    "grayWS.matrix.set(0,-1, 4,4, 4,4, 255);\n",
    "\n",
    "puma::export_bin(&grayWS, \"out/workspace_example\");\n",
    "\n",
    "''')"
   ]
  },
  {
   "cell_type": "code",
   "execution_count": null,
   "metadata": {},
   "outputs": [],
   "source": [
    "write_compile_run_example('''\n",
    "\n",
    "// exportvtk\n",
    "cout << endl << \"Exporting a puma matrix to a vtk file:\"<< endl;\n",
    "\n",
    "puma::Matrix<int> mat(10,10,10, 0);\n",
    "mat.set(0,-1, 4,4, 4,4, 150); // -1 specifies until the end of domain\n",
    "\n",
    "puma::export_vtk(&mat, \"out/mat_example\"); // to specify numThreads, add one more int to the inputs at the end\n",
    "puma::export_vtk(&mat, \"out/mat_example_ASCII\", 'a'); // export vtk it in ASCII instead of BINARY\n",
    "puma::export_vtk(&mat, \"out/mat_example_ASCII_unstructured\", 'a', true); // export vtk to an unstructured grid (for import in code Aster)\n",
    "\n",
    "\n",
    "cout<< endl << \"Exporting a workspace to a vtk file:\"<< endl;\n",
    "\n",
    "puma::Workspace grayWS(10,10,10,1e-6, false);\n",
    "grayWS.matrix.set(0,-1, 4,4, 4,4, 255);\n",
    "\n",
    "puma::export_vtk(&grayWS, \"out/workspace_example\");\n",
    "\n",
    "''')"
   ]
  },
  {
   "cell_type": "code",
   "execution_count": null,
   "metadata": {},
   "outputs": [],
   "source": [
    "write_compile_run_example('''\n",
    "\n",
    "// exportstl\n",
    "cout << endl << \"Running the Marching Cubes as the previous example and exporting the triangles created to an stl file:\"<< endl;\n",
    "\n",
    "puma::Workspace grayWS(1e-6, false);\n",
    "puma::import_3DTiff(&grayWS,puma::path_to_example_file(\"200_fiberform.tif\"),0);\n",
    "\n",
    "// 1. Exporting the STL Directly\n",
    "puma::export_STL(&grayWS, puma::Cutoff(90,255), false,\"out/triangles1\");\n",
    "\n",
    "// 2. Computing the Triangles separately via the marching cubes algorithm, then exporting the STL\n",
    "vector< puma::Triangle<float> > tris;\n",
    "puma::isosurface_MarchingCubes(&tris, &grayWS, puma::Cutoff(90,255), true,1,false,0);\n",
    "cout << endl << \"Number of triangles generated: \" << tris.size()<< endl;\n",
    "puma::export_STL(&tris,false,\"out/triangles2\");\n",
    "\n",
    "// 3. Segmenting the Workspace, then computing the Triangles separately via the marching cubes algorithm, then exporting the STL\n",
    "grayWS.setMaterialID(puma::Cutoff(0,89),0);\n",
    "grayWS.setMaterialID(puma::Cutoff(90,255),1);\n",
    "puma::isosurface_MarchingCubes(&tris, &grayWS, puma::Cutoff(1,1), true,1,false,0);\n",
    "cout << endl << \"Number of triangles generated: \" << tris.size()<< endl;\n",
    "puma::export_STL(&tris,false,\"out/triangles3\");\n",
    "\n",
    "''')"
   ]
  },
  {
   "cell_type": "code",
   "execution_count": null,
   "metadata": {},
   "outputs": [],
   "source": [
    "write_compile_run_example('''\n",
    "\n",
    "// exporttextfile\n",
    "cout << endl << \"Exporting a puma matrix to a text file:\"<< endl;\n",
    "\n",
    "puma::Matrix<int> mat(10,10,10, 0);\n",
    "mat.set(0,-1, 4,4, 4,4, 150); // -1 specifies until the end of domain\n",
    "\n",
    "puma::export_Textfile(&mat, \"out/mat_example\"); // to specify numThreads, add one more int to the inputs at the end\n",
    "\n",
    "\n",
    "cout<< endl << \"Exporting a workspace to a text file:\"<< endl;\n",
    "\n",
    "puma::Workspace grayWS(10,10,10,1e-6, false);\n",
    "grayWS.matrix.set(0,-1, 4,4, 4,4, 255);\n",
    "\n",
    "puma::export_Textfile(&grayWS, \"out/workspace_example\");\n",
    "\n",
    "''')"
   ]
  },
  {
   "cell_type": "code",
   "execution_count": null,
   "metadata": {},
   "outputs": [],
   "source": [
    "write_compile_run_example('''\n",
    "\n",
    "// import3dtiff\n",
    "cout << endl << \"Importing a grayscale workspace of FiberForm and printing a subset of it:\" << endl;\n",
    "\n",
    "puma::Workspace grayWS(1e-6, false); // no need to specify the size since the import function takes care of it\n",
    "puma::import_3DTiff(&grayWS, puma::path_to_example_file(\"200_fiberform.tif\"),0); // note that .tif is required\n",
    "\n",
    "grayWS.matrix.printRange(150,(int)grayWS.X()-1, 150, (int)grayWS.Y()-1, 100,101);\n",
    "\n",
    "\n",
    "cout << \"Importing the same segmented workspace and printing the same subset of it:\" << endl;\n",
    "\n",
    "puma::Workspace segWS(1e-6, false); // no need to specify the size since the import function takes care of it\n",
    "puma::import_3DTiff(&segWS, puma::path_to_example_file(\"200_fiberform_segmented.tif\"), 0);\n",
    "\n",
    "segWS.matrix.printRange(150,(int)segWS.X()-1, 150, (int)segWS.Y()-1, 100,101);\n",
    "\n",
    "''')"
   ]
  },
  {
   "cell_type": "code",
   "execution_count": null,
   "metadata": {},
   "outputs": [],
   "source": [
    "write_compile_run_example('''\n",
    "\n",
    "// importbin\n",
    "cout << endl << \"Importing a puma matrix to a binary file:\"<< endl;\n",
    "\n",
    "// *** Note: Run first ExportBin_Example to generate the data imported in this example ***\n",
    "\n",
    "puma::Matrix<int> mat(10,10,10, 0);\n",
    "mat.set(0,-1, 4,4, 4,4, 150); // -1 specifies until the end of domain\n",
    "\n",
    "puma::import_bin(&mat, \"out/mat_example.puma\"); // note that .puma is required\n",
    "// to specify the number of processors used to read file (i.e. numThreads), add one more int to the inputs at the end\n",
    "\n",
    "mat.printRange(0,-1, 0,-1, 4,5);\n",
    "\n",
    "\n",
    "cout<< endl << \"Importing a workspace to a binary file:\"<< endl;\n",
    "\n",
    "puma::Workspace grayWS(10,10,10,1e-6, false);\n",
    "grayWS.matrix.set(0,-1, 4,4, 4,4, 255);\n",
    "\n",
    "puma::import_bin(&grayWS, \"out/workspace_example.puma\");\n",
    "\n",
    "grayWS.matrix.printRange(0,-1, 0,-1, 4,5);\n",
    "\n",
    "''')"
   ]
  },
  {
   "cell_type": "markdown",
   "metadata": {},
   "source": [
    "## Example: volume fraction, isosurface and surface area"
   ]
  },
  {
   "cell_type": "code",
   "execution_count": null,
   "metadata": {},
   "outputs": [],
   "source": [
    "write_compile_run_example('''\n",
    "\n",
    "// volumefraction\n",
    "cout << endl << \"Computing Porosity and Volume Fraction of a segmented Fiberform sample:\"<< endl;\n",
    "\n",
    "puma::Workspace workspace(1.3, false);\n",
    "puma::import_3DTiff(&workspace, puma::path_to_example_file(\"200_fiberform_segmented.tif\"),0);\n",
    "\n",
    "cout << endl << \"Porosity: \" << puma::compute_VolumeFraction(&workspace,0,0) << endl;\n",
    "cout << \"Fiber Volume Fraction: \" << puma::compute_VolumeFraction(&workspace,1,0) << endl;\n",
    "\n",
    "''')"
   ]
  },
  {
   "cell_type": "code",
   "execution_count": null,
   "metadata": {},
   "outputs": [],
   "source": [
    "write_compile_run_example('''\n",
    "\n",
    "// isosurface\n",
    "cout << endl << \"Running the Marching Cubes on a grayscale FiberForm sample, with closed edges and factor of 2:\"<< endl;\n",
    "\n",
    "puma::Workspace grayWS(1e-6, false);\n",
    "puma::import_3DTiff(&grayWS,puma::path_to_example_file(\"200_fiberform.tif\"),0);\n",
    "\n",
    "// 1. Computing the Triangles via the Marching Cubes Algorithm. Faster, but there can be small holes in the mesh. Good for visualizations, bad for simulations\n",
    "vector< puma::Triangle<float> > tris;\n",
    "puma::isosurface_MarchingCubes(&tris, &grayWS,puma::Cutoff(90,255), true,1,false,0);\n",
    "cout << endl << \"Number of triangles generated - Maching Cubes Regular: \" << tris.size()<< endl;\n",
    "\n",
    "\n",
    "// 2. Computing the Triangles via the Lewiner Marching Cubes Algorithm. Slower, more triangles, but gaurantees topologically correct surface\n",
    "puma::isosurface_LewinerMarchingCubes(&tris, &grayWS,puma::Cutoff(90,255), true,1,false,0);\n",
    "cout << endl << \"Number of triangles generated - Maching Cubes Lewiner: \" << tris.size()<< endl;\n",
    "\n",
    "\n",
    "// 3. Segmenting the Workspace, then computing the Triangles separately via the marching cubes algorithm, then exporting the STL\n",
    "grayWS.setMaterialID(puma::Cutoff(0,89),0);\n",
    "grayWS.setMaterialID(puma::Cutoff(90,255),1);\n",
    "puma::isosurface_MarchingCubes(&tris,&grayWS,puma::Cutoff(90,255),true,1,false,0);\n",
    "cout << endl << \"Number of triangles generated - Segmented: \" << tris.size()<< endl;\n",
    "\n",
    "''')"
   ]
  },
  {
   "cell_type": "code",
   "execution_count": null,
   "metadata": {},
   "outputs": [],
   "source": [
    "write_compile_run_example('''\n",
    "\n",
    "// surfacearea\n",
    "cout << endl << \"Computing the surface area of a sample of FiberForm:\"<< endl;\n",
    "\n",
    "puma::Workspace grayWS(1e-6, false);\n",
    "puma::import_3DTiff(&grayWS,puma::path_to_example_file(\"200_fiberform.tif\"),0);\n",
    "\n",
    "pair<double, double> sa = compute_SurfaceAreaMarchingCubes(&grayWS, puma::Cutoff(128, 255), true, 0);\n",
    "\n",
    "cout << endl << \"Raw Surface Area: \" << sa.first << \" m^2\" << endl;\n",
    "cout << \"Specific Surface Area: \" << sa.first << \" 1/m\" << endl;\n",
    "\n",
    "''')"
   ]
  },
  {
   "cell_type": "markdown",
   "metadata": {},
   "source": [
    "## Example: image filters"
   ]
  },
  {
   "cell_type": "code",
   "execution_count": null,
   "metadata": {},
   "outputs": [],
   "source": [
    "write_compile_run_example('''\n",
    "\n",
    "// medianfilter3d\n",
    "cout << endl << \"Applying a Median filter to a FiberForm sample and printing a slice of it:\"<< endl;\n",
    "\n",
    "puma::Workspace grayWS(1e-6, false);\n",
    "\n",
    "puma::import_3DTiff(&grayWS, puma::path_to_example_file(\"200_fiberform_segmented.tif\"),0);\n",
    "\n",
    "cout << \"Before Median filter:\"<< endl;\n",
    "grayWS.matrix.printRange(50,-1, 50, -1, 50,51);\n",
    "\n",
    "//in this case, the return should be true since all values are valid\n",
    "puma::filter_Median3D(&grayWS,3);\n",
    "\n",
    "cout << endl << \"After Median filter:\"<< endl;\n",
    "grayWS.matrix.printRange(50,-1, 50, -1, 50,51);\n",
    "\n",
    "''')"
   ]
  },
  {
   "cell_type": "code",
   "execution_count": null,
   "metadata": {},
   "outputs": [],
   "source": [
    "write_compile_run_example('''\n",
    "\n",
    "// meanfilter3d\n",
    "cout << endl << \"Applying a Mean filter to a FiberForm sample and printing a slice of it:\"<< endl;\n",
    "\n",
    "puma::Workspace grayWS(1e-6, false);\n",
    "\n",
    "puma::import_3DTiff(&grayWS, puma::path_to_example_file(\"200_fiberform_segmented.tif\"),0);\n",
    "\n",
    "cout << \"Before Mean filter:\"<< endl;\n",
    "grayWS.matrix.printRange(50,-1, 50, -1, 50,51);\n",
    "\n",
    "//in this case, the return should be true since all values are valid\n",
    "puma::filter_Mean3D(&grayWS,3);\n",
    "\n",
    "cout << endl << \"After Mean filter:\"<< endl;\n",
    "grayWS.matrix.printRange(50,-1, 50, -1, 50,51);\n",
    "\n",
    "''')"
   ]
  },
  {
   "cell_type": "code",
   "execution_count": null,
   "metadata": {},
   "outputs": [],
   "source": [
    "write_compile_run_example('''\n",
    "\n",
    "// bilateralfilter \n",
    "cout << endl << \"Applying a Bilateral filter to a FiberForm sample and printing a slice of it:\"<< endl;\n",
    "\n",
    "puma::Workspace grayWS(1e-6, false);\n",
    "\n",
    "puma::import_3DTiff(&grayWS, puma::path_to_example_file(\"200_fiberform_segmented.tif\"),0);\n",
    "\n",
    "cout << \"Before Bilateral filter:\"<< endl;\n",
    "grayWS.matrix.printRange(50,-1, 50, -1, 50,51);\n",
    "\n",
    "//in this case, the return should be true since all values are valid\n",
    "puma::filter_Bilateral(&grayWS,4,4,50);\n",
    "\n",
    "cout << endl << \"After Bilateral filter:\"<< endl;\n",
    "grayWS.matrix.printRange(50,-1, 50, -1, 50,51);\n",
    "\n",
    "''')"
   ]
  },
  {
   "cell_type": "markdown",
   "metadata": {},
   "source": [
    "## Example: generate random fibers"
   ]
  },
  {
   "cell_type": "code",
   "execution_count": null,
   "metadata": {},
   "outputs": [],
   "source": [
    "write_compile_run_example('''\n",
    "\n",
    "// generaterandomfibers: straightCircle\n",
    "cout << endl << \"Creating a 200^3 domain with non-intersecting random fibers having a circular cross section, slight preference for angle in XY:\"<< endl;\n",
    "\n",
    "// Creates an empty workspace\n",
    "puma::Workspace grayWS(1e-6, false);\n",
    "\n",
    "// Preparing inputs for fibers generation\n",
    "RandomFibersInput input;\n",
    "input.straightCircle(200,200,200,5,0,200,0,90,90,15,false,0.9,100);\n",
    "input.print = true; // printing option can be turned off like this, ON as a default\n",
    "\n",
    "// Generating fibers\n",
    "puma::generateRandomFibers(&grayWS, input);\n",
    "\n",
    "// Export to 3D tiff\n",
    "puma::export_3DTiff(&grayWS,\"out/RandomFibers_straightCircle_example.tiff\",false);\n",
    "\n",
    "''')"
   ]
  },
  {
   "cell_type": "code",
   "execution_count": null,
   "metadata": {},
   "outputs": [],
   "source": [
    "write_compile_run_example('''\n",
    "\n",
    "// generaterandomfibers: curvedCircle\n",
    "puma::Workspace grayWS(1e-6, false);\n",
    "\n",
    "RandomFibersInput input;\n",
    "input.curvedCircle(100,100,100,5,0,50,0,90,90,15,false,0.95,100,150,0,1e-3);\n",
    "\n",
    "puma::generateRandomFibers(&grayWS, input);\n",
    "\n",
    "\n",
    "puma::Workspace grayWS2(1e-6, false);\n",
    "\n",
    "RandomFibersInput input2;\n",
    "input2.curvedCircle(100,100,100,5,0,50,0,90,90,15,true,0.9,100,150,0,1e-3);\n",
    "\n",
    "puma::generateRandomFibers(&grayWS2, input2);\n",
    "\n",
    "''')"
   ]
  },
  {
   "cell_type": "code",
   "execution_count": null,
   "metadata": {},
   "outputs": [],
   "source": [
    "write_compile_run_example('''\n",
    "\n",
    "// generaterandomfibers: straightFlower\n",
    "puma::Workspace grayWS(1e-6, false);\n",
    "\n",
    "RandomFibersInput input;\n",
    "input.straightFlower(200,200,200,5,0,200,0,90,90,15,false,0.90,100,4,1,5,2,0);\n",
    "\n",
    "puma::generateRandomFibers(&grayWS, input);\n",
    "\n",
    "\n",
    "puma::Workspace grayWS2(1e-6, false);\n",
    "\n",
    "RandomFibersInput input2;\n",
    "input2.straightFlower(200,200,200,5,0,200,0,90,90,15,true,0.90,100,4,1,5,2,0);\n",
    "\n",
    "puma::generateRandomFibers(&grayWS2, input2);\n",
    "\n",
    "''')"
   ]
  },
  {
   "cell_type": "code",
   "execution_count": null,
   "metadata": {},
   "outputs": [],
   "source": [
    "write_compile_run_example('''\n",
    "\n",
    "// generaterandomfibers: straightFlower_Hollow\n",
    "puma::Workspace grayWS(1e-6, false);\n",
    "\n",
    "RandomFibersInput input;\n",
    "input.straightFlower_Hollow(200,200,200,5,0,200,0,90,90,15,false,0.90,100,4,1,5,2,0,1,2.5,0);\n",
    "\n",
    "puma::generateRandomFibers(&grayWS, input);\n",
    "\n",
    "\n",
    "puma::Workspace grayWS2(1e-6, false);\n",
    "\n",
    "RandomFibersInput input2;\n",
    "input2.straightFlower_Hollow(200,200,200,5,0,200,0,90,90,15,true,0.90,100,4,1,5,2,0,1,2.5,0);\n",
    "\n",
    "puma::generateRandomFibers(&grayWS2, input2);\n",
    "\n",
    "''')"
   ]
  },
  {
   "cell_type": "code",
   "execution_count": null,
   "metadata": {},
   "outputs": [],
   "source": [
    "write_compile_run_example('''\n",
    "\n",
    "// generaterandomfibers: curvedFlower\n",
    "puma::Workspace grayWS(1e-6, false);\n",
    "\n",
    "RandomFibersInput input;\n",
    "input.curvedFlower(100,100,100,5,0,100,0,90,90,15,false,0.95,100,120,0,1e-3,4,1,5,2,0);\n",
    "\n",
    "puma::generateRandomFibers(&grayWS, input);\n",
    "\n",
    "\n",
    "puma::Workspace grayWS2(1e-6, false);\n",
    "\n",
    "RandomFibersInput input2;\n",
    "input2.curvedFlower(100,100,100,5,0,100,0,90,90,15,true,0.95,100,120,0,1e-3,4,1,5,2,0);\n",
    "\n",
    "puma::generateRandomFibers(&grayWS2, input2);\n",
    "\n",
    "''')"
   ]
  },
  {
   "cell_type": "code",
   "execution_count": null,
   "metadata": {},
   "outputs": [],
   "source": [
    "write_compile_run_example('''\n",
    "\n",
    "// generaterandomfibers: curvedFlower_Hollow\n",
    "puma::Workspace grayWS(1e-6, false);\n",
    "\n",
    "RandomFibersInput input;\n",
    "input.curvedFlower_Hollow(100,100,100,5,0,100,0,90,90,15,false,0.95,100,120,0,1e-3,4,1,5,2,0,1,2.5,0);\n",
    "\n",
    "puma::generateRandomFibers(&grayWS, input);\n",
    "\n",
    "\n",
    "puma::Workspace grayWS2(1e-6, false);\n",
    "\n",
    "RandomFibersInput input2;\n",
    "input2.curvedFlower_Hollow(100,100,100,5,0,100,0,90,90,15,true,0.95,100,120,0,1e-3,4,1,5,2,0,1,2.5,0);\n",
    "\n",
    "puma::generateRandomFibers(&grayWS2, input2);\n",
    "\n",
    "''')"
   ]
  },
  {
   "cell_type": "markdown",
   "metadata": {},
   "source": [
    "## Example: generate random spheres"
   ]
  },
  {
   "cell_type": "code",
   "execution_count": null,
   "metadata": {},
   "outputs": [],
   "source": [
    "write_compile_run_example('''\n",
    "\n",
    "// generaterandomspheres: non-intersecting large spheres\n",
    "cout << endl << \"Creating a 200^3 domain with non-intersecting spheres:\"<< endl;\n",
    "\n",
    "puma::Timer t;\n",
    "\n",
    "// Creates an empty workspace\n",
    "puma::Workspace sphereWS(1e-6, false);\n",
    "\n",
    "// Preparing inputs for spheres generation\n",
    "RandomSpheresInput input(200,200,200,80.0,3.0,false,0.99,100);\n",
    "\n",
    "// Generating spheres\n",
    "puma::generateRandomSpheres(&sphereWS, input);\n",
    "\n",
    "// Printing the elapsed time\n",
    "cout << \"Time: \" << t.elapsed() << endl;\n",
    "\n",
    "// Export to 3D tiff\n",
    "puma::export_3DTiff(&sphereWS,\"out/Generate_RandomSpheres_nonintersecting\",false);\n",
    "\n",
    "// Creating triangulated isosurface\n",
    "vector<puma::Triangle<float> > Triangles;\n",
    "puma::isosurface_MarchingCubes(&Triangles,&sphereWS,puma::Cutoff(128,255),true,1,false,40);\n",
    "\n",
    "// Exporting to stl file\n",
    "Export_STL test(&Triangles,false,\"out/Generate_RandomSpheres_nonintersecting\");\n",
    "\n",
    "''')"
   ]
  },
  {
   "cell_type": "code",
   "execution_count": null,
   "metadata": {},
   "outputs": [],
   "source": [
    "write_compile_run_example('''\n",
    "\n",
    "// generaterandomspheres: intersecting large spheres\n",
    "cout << endl << \"Creating a 200^3 domain with intersecting spheres:\"<< endl;\n",
    "\n",
    "puma::Workspace sphereWS(1e-6, false);\n",
    "\n",
    "RandomSpheresInput input(200,200,200,10.0,3.0,true,0.99,100);\n",
    "puma::generateRandomSpheres(&sphereWS, input);\n",
    "\n",
    "puma::export_3DTiff(&sphereWS,\"out/Generate_RandomSpheres_intersecting.tif\",false);\n",
    "\n",
    "vector<puma::Triangle<float> > Triangles;\n",
    "puma::isosurface_MarchingCubes(&Triangles,&sphereWS,puma::Cutoff(128,255),true,1,false);\n",
    "\n",
    "Export_STL test(&Triangles,false,\"out/Generate_RandomSpheres_intersecting.stl\");\n",
    "\n",
    "''')"
   ]
  },
  {
   "cell_type": "markdown",
   "metadata": {},
   "source": [
    "## Example: generate tpms"
   ]
  },
  {
   "cell_type": "code",
   "execution_count": null,
   "metadata": {},
   "outputs": [],
   "source": [
    "write_compile_run_example('''\n",
    "\n",
    "double diameter = 20; // in mm\n",
    "double height = 38.1; // in mm\n",
    "double p = 4.72;\n",
    "double q = 0.5045;\n",
    "bool circle = true;\n",
    "bool exportSTL = false;\n",
    "bool binaryTiff = true;\n",
    "bool continuousTiff = true;\n",
    "int equationNumber = 0; // equation 0, 1 or 2\n",
    "\n",
    "std::string outputFolder = \"out/\";\n",
    "std::string outputLabel = \"equation1\";\n",
    "\n",
    "\n",
    "int scale = 10; // keep between 5-20\n",
    "\n",
    "\n",
    "int voxelsX = diameter * scale;\n",
    "int voxelsY = diameter * scale;\n",
    "int voxelsZ = height * scale;\n",
    "\n",
    "double radius = diameter * scale / 2.0;\n",
    "double p_scaled = p / scale;\n",
    "\n",
    "puma::Workspace ws(1e-6,false);\n",
    "\n",
    "//  triply periodic minimal surface (TPMS)\n",
    "TPMSInput input(voxelsX,voxelsY,voxelsZ,p_scaled,p_scaled,q,q, equationNumber);\n",
    "bool success = puma::generateTPMS(&ws, input);\n",
    "\n",
    "/// Comment out this section to keep rectangular\n",
    "if(circle){\n",
    "    for(int i=0;i<ws.X();i++){\n",
    "        for(int j=0;j<ws.Y();j++){\n",
    "            for(int k=0;k<ws.Z();k++){\n",
    "                if(std::sqrt((i-ws.X()/2.0)*(i-ws.X()/2.0) + (j-ws.Y()/2.0)*(j-ws.Y()/2.0)) > radius ){\n",
    "                    ws.matrix(i,j,k) = 0;\n",
    "                }\n",
    "            }\n",
    "        }\n",
    "    }\n",
    "}\n",
    "\n",
    "if (success) {\n",
    "    if(exportSTL){\n",
    "        puma::export_STL(&ws, puma::Cutoff(128, 255), false, outputFolder + outputLabel +\"_tpms_test.stl\");\n",
    "    }\n",
    "    \n",
    "    if(continuousTiff) {\n",
    "        puma::export_3DTiff(&ws, outputFolder + outputLabel + \"_tpms_test.tif\", false);\n",
    "    }\n",
    "    \n",
    "    if(binaryTiff) {\n",
    "        ws.setMaterialID(puma::Cutoff(0,127),0);\n",
    "        ws.setMaterialID(puma::Cutoff(128,255),255);\n",
    "        puma::export_3DTiff(&ws, outputFolder + outputLabel + \"_tpms_test_binary.tif\", false);\n",
    "    }\n",
    "    \n",
    "}\n",
    "\n",
    "''')"
   ]
  },
  {
   "cell_type": "markdown",
   "metadata": {},
   "source": [
    "## Example: porespace"
   ]
  },
  {
   "cell_type": "code",
   "execution_count": null,
   "metadata": {},
   "outputs": [],
   "source": [
    "write_compile_run_example('''\n",
    "\n",
    "puma::Workspace grayWS;\n",
    "\n",
    "RandomFibersInput input;\n",
    "input.straightFlower_Hollow(200,200,1, 30, 0, 1, 0, 0, 0, 90, true, 0.6, 2, 1, 0, 0, 0, 0, 1, 20, 0);\n",
    "generateRandomFibers(&grayWS,input);\n",
    "\n",
    "puma::Matrix<long> poreMatrix;\n",
    "puma::identifyPoreSpace(&grayWS,&poreMatrix,puma::Cutoff(0,127));\n",
    "\n",
    "double average =  poreMatrix.average();\n",
    "\n",
    "cout << \"Average porespace: \" << average << endl;\n",
    "\n",
    "''')"
   ]
  },
  {
   "cell_type": "code",
   "execution_count": null,
   "metadata": {},
   "outputs": [],
   "source": [
    "write_compile_run_example('''\n",
    "\n",
    "puma::Workspace grayWS;\n",
    "\n",
    "RandomFibersInput input;\n",
    "input.straightFlower_Hollow(200, 200, 1, 30, 0, 1, 0, 0, 0, 90, true, 0.6, 2, 1, 0, 0, 0, 0, 1, 20, 0);\n",
    "generateRandomFibers(&grayWS, input);\n",
    "\n",
    "puma::fillClosedPores(&grayWS, puma::Cutoff(0, 127), 255);\n",
    "\n",
    "grayWS.setMaterialID(puma::Cutoff(0, 127), 0);\n",
    "grayWS.setMaterialID(puma::Cutoff(128, 256), 1);\n",
    "\n",
    "double average = grayWS.matrix.average();\n",
    "\n",
    "cout << \"Average porespace: \" << average << endl;\n",
    "\n",
    "''')"
   ]
  },
  {
   "cell_type": "markdown",
   "metadata": {},
   "source": [
    "## Example: mean intercept length"
   ]
  },
  {
   "cell_type": "code",
   "execution_count": null,
   "metadata": {},
   "outputs": [],
   "source": [
    "write_compile_run_example('''\n",
    "\n",
    "cout << endl << \"Finding the mean intercept length of a FiberForm 200^3 sample:\"<< endl;\n",
    "\n",
    "// Creating empty workspace\n",
    "puma::Workspace segWS(1e-6, false);\n",
    "\n",
    "// Importing FiberForm 200^3 tiff, selecting only subsection of it\n",
    "puma::import_3DTiff(&segWS,puma::path_to_example_file(\"200_fiberform_segmented.tif\"));\n",
    "\n",
    "// Computing the Mean Intercept Length\n",
    "puma::Vec3<double> mil = puma::compute_MeanInterceptLength(&segWS,puma::Cutoff(0,0));\n",
    "\n",
    "cout << \"Mean Intercept Length: \" << mil.x << ' ' << mil.y << ' ' << mil.z << endl;\n",
    "\n",
    "''')"
   ]
  },
  {
   "cell_type": "markdown",
   "metadata": {},
   "source": [
    "## Example: orientation"
   ]
  },
  {
   "cell_type": "code",
   "execution_count": null,
   "metadata": {},
   "outputs": [],
   "source": [
    "write_compile_run_example('''\n",
    "\n",
    "// orientation: Ray Casting on Generated Random Fibers\n",
    "\n",
    "cout << endl << \"Creating a random fiber domain and computing the Orientation via the ray casting method:\"<< endl;\n",
    "\n",
    "// Generating random fiber sample (see generateRandomFibers example for step-by-step description)\n",
    "int scale = 50;\n",
    "puma::Workspace grayWS(1e-5, false);\n",
    "puma::MatVec3<double> tangents;\n",
    "RandomFibersInput input;\n",
    "input.straightCircle(scale,scale,scale,2,0,scale,0,90,90,90,false,0.9,1);\n",
    "input.print = false; puma::generateRandomFibers(&grayWS,&tangents,input);\n",
    "\n",
    "// Segmenting sample\n",
    "puma::Workspace segWS(grayWS.shape(), false);\n",
    "segWS.setMaterialID(&grayWS, puma::Cutoff(0,127),0);\n",
    "segWS.setMaterialID(&grayWS, puma::Cutoff(128,255),1);\n",
    "\n",
    "// Initializing orientation matrix\n",
    "puma::MatVec3<double> dirs;\n",
    "\n",
    "// Computing orientation using Cay Casting (RC)\n",
    "puma::compute_orientationRC(&segWS, puma::Cutoff(1, 1), 15,5, &dirs, false);\n",
    "\n",
    "// Initializing orientation error matrix\n",
    "puma::Matrix<double> error;\n",
    "\n",
    "// Computing orientation error between the estimated orientation (dirs) and the true orientation (tangents)\n",
    "pair <double, double> MeanSD = puma::compute_orientationComparison(&segWS, &dirs, &tangents, &error, puma::Cutoff(1,1));\n",
    "\n",
    "cout << \"Mean: \" << MeanSD.first << endl;\n",
    "cout << \"Standard Deviation: \" << MeanSD.second << endl;\n",
    "\n",
    "''')"
   ]
  },
  {
   "cell_type": "code",
   "execution_count": null,
   "metadata": {},
   "outputs": [],
   "source": [
    "write_compile_run_example('''\n",
    "\n",
    "// orientation: Artificial Flux on Generated Random Fibers\n",
    "\n",
    "cout << endl << \"Creating a random fiber domain and computing the Orientation via the artificial flux method:\"<< endl;\n",
    "\n",
    "// Generating random fiber sample (see generateRandomFibers example for step-by-step description)\n",
    "int scale = 50;\n",
    "puma::Workspace grayWS(1e-5, false);\n",
    "puma::MatVec3<double> tangents;\n",
    "RandomFibersInput input;\n",
    "input.straightCircle(scale,scale,scale,2,0,scale,0,90,90,90,false,0.9,1);\n",
    "input.print = false; puma::generateRandomFibers(&grayWS,&tangents,input);\n",
    "\n",
    "puma::Workspace segWS(grayWS.shape(), false);\n",
    "segWS.setMaterialID(&grayWS,puma::Cutoff(0,127),0);\n",
    "segWS.setMaterialID(&grayWS,puma::Cutoff(128,255),1);\n",
    "\n",
    "puma::MatVec3<double> dirs;\n",
    "\n",
    "// Computing orientation using Artificial Flux (AF)\n",
    "puma::compute_orientationAF(&segWS, &dirs, puma::Cutoff(1, 1), 1e-5, 10000,false);\n",
    "\n",
    "puma::Matrix<double> error;\n",
    "pair <double, double> MeanSD = puma::compute_orientationComparison(&segWS, &dirs, &tangents, &error, puma::Cutoff(1,1));\n",
    "\n",
    "cout << \"Mean: \" << MeanSD.first << endl;\n",
    "cout << \"Standard Deviation: \" << MeanSD.second << endl;\n",
    "\n",
    "''')"
   ]
  },
  {
   "cell_type": "code",
   "execution_count": null,
   "metadata": {},
   "outputs": [],
   "source": [
    "write_compile_run_example('''\n",
    "\n",
    "// orientation: Structure Tensor on Generated Random Fibers\n",
    "\n",
    "cout << endl << \"Creating a random fiber domain and computing the Orientation via the structure tensor method:\"<< endl;\n",
    "\n",
    "// Generating random fiber sample (see generateRandomFibers example for step-by-step description)\n",
    "int scale = 50;\n",
    "puma::Workspace grayWS(1e-5, false);\n",
    "puma::MatVec3<double> tangents;\n",
    "RandomFibersInput input;\n",
    "input.straightCircle(scale,scale,scale,2,0,scale,0,90,90,90,false,0.9,1);\n",
    "input.print = false; puma::generateRandomFibers(&grayWS,&tangents,input);\n",
    "\n",
    "puma::Workspace segWS(grayWS.shape(), false);\n",
    "segWS.setMaterialID(&grayWS, puma::Cutoff(0,127),0);\n",
    "segWS.setMaterialID(&grayWS, puma::Cutoff(128,255),1);\n",
    "\n",
    "puma::MatVec3<double> dirs;\n",
    "\n",
    "// Computing orientation using Structure Tensor (ST)\n",
    "puma::compute_orientationST(&segWS, 0.7, 1.1, puma::Cutoff(1, 1), &dirs,false);\n",
    "\n",
    "puma::Matrix<double> error;\n",
    "pair <double, double> MeanSD = puma::compute_orientationComparison(&segWS, &dirs, &tangents, &error, puma::Cutoff(1,1));\n",
    "\n",
    "cout << \"Mean: \" << MeanSD.first << endl;\n",
    "cout << \"Standard Deviation: \" << MeanSD.second << endl;\n",
    "\n",
    "''')"
   ]
  },
  {
   "cell_type": "markdown",
   "metadata": {},
   "source": [
    "## Example: conductivity"
   ]
  },
  {
   "cell_type": "code",
   "execution_count": null,
   "metadata": {},
   "outputs": [],
   "source": [
    "write_compile_run_example('''\n",
    "\n",
    "// fvthermalconductivity: Multiple materials in series\n",
    "cout << endl << \"Computing the thermal conductivity using finite volume considering a locally isotropic sample having several materials in series:\"<< endl;\n",
    "\n",
    "// Initializing Workspace\n",
    "puma::Workspace segWS(100,57,62,0,1e-6, false);\n",
    "\n",
    "// Setting the workspace values of the materials in series\n",
    "segWS.matrix.set(10,19,0,56,0,61,1);\n",
    "segWS.matrix.set(20,29,0,56,0,61,2);\n",
    "segWS.matrix.set(30,39,0,56,0,61,3);\n",
    "segWS.matrix.set(40,49,0,56,0,61,4);\n",
    "segWS.matrix.set(50,59,0,56,0,61,5);\n",
    "segWS.matrix.set(60,69,0,56,0,61,6);\n",
    "segWS.matrix.set(70,79,0,56,0,61,7);\n",
    "segWS.matrix.set(80,89,0,56,0,61,8);\n",
    "segWS.matrix.set(90,99,0,56,0,61,9);\n",
    "\n",
    "// Initializing Temperature field\n",
    "puma::Matrix<double> T;\n",
    "\n",
    "// Initializing material conductivity\n",
    "map<int, double> matCond;\n",
    "matCond[0] = 1;\n",
    "matCond[1] = 2;\n",
    "matCond[2] = 3;\n",
    "matCond[3] = 4;\n",
    "matCond[4] = 5;\n",
    "matCond[5] = 6;\n",
    "matCond[6] = 7;\n",
    "matCond[7] = 8;\n",
    "matCond[8] = 9;\n",
    "matCond[9] = 10;\n",
    "\n",
    "// Running simulation\n",
    "puma::Vec3<double> k = puma::compute_FVThermalConductivity(&segWS, &T, matCond,\"periodic\",\"bicgstab\",'z',1e-3,10000,true);\n",
    "\n",
    "cout << endl << \"Conductivity: \" << endl;\n",
    "cout << \"kxx \" << k.x << \" kxy \" << k.y << \" kxz \" << k.z << endl;\n",
    "\n",
    "''')"
   ]
  },
  {
   "cell_type": "code",
   "execution_count": null,
   "metadata": {},
   "outputs": [],
   "source": [
    "write_compile_run_example('''\n",
    "\n",
    "// fvthermalconductivity: FiberForm 100^3\n",
    "cout << endl << \"Computing the thermal conductivity using finite volume considering a locally isotropic FiberForm 100^3 sample:\"<< endl;\n",
    "\n",
    "// Initializing Workspace\n",
    "puma::Workspace ws(1e-6, false);\n",
    "\n",
    "// Importing 3D tiff\n",
    "puma::import_3DTiff(&ws,puma::path_to_example_file(\"100_fiberform.tif\"));\n",
    "\n",
    "// Segmenting workspace by thresholding\n",
    "ws.setMaterialID(&ws,puma::Cutoff(0,89),0);\n",
    "ws.setMaterialID(&ws,puma::Cutoff(90,255),1);\n",
    "\n",
    "// Initializing Temperature field and material conductivity\n",
    "puma::Matrix<double> T;\n",
    "map<int, double> matCond;\n",
    "matCond[0] = 0.0257; // air conductivity\n",
    "matCond[1] = 12; // approximation to fiber conductivity\n",
    "\n",
    "// Running simulation in three directions\n",
    "puma::Vec3<double> kx = puma::compute_FVThermalConductivity(&ws, &T, matCond,\"symmetric\",\"cg\",'x',1e-3,10000,true);\n",
    "puma::Vec3<double> ky = puma::compute_FVThermalConductivity(&ws, &T, matCond,\"symmetric\",\"cg\",'y',1e-3,10000,true);\n",
    "puma::Vec3<double> kz = puma::compute_FVThermalConductivity(&ws, &T, matCond,\"symmetric\",\"cg\",'z',1e-3,10000,true);\n",
    "\n",
    "cout << endl << \"Conductivity: \" << endl;\n",
    "cout << \"kxx \" << kx.x << \" kxy \" << kx.y << \" kxz \" << kx.z << endl;\n",
    "cout << \"kyx \" << ky.x << \" kyy \" << ky.y << \" kyz \" << ky.z << endl;\n",
    "cout << \"kzx \" << kz.x << \" kzy \" << kz.y << \" kzz \" << kz.z << endl;\n",
    "\n",
    "''')"
   ]
  },
  {
   "cell_type": "code",
   "execution_count": null,
   "metadata": {},
   "outputs": [],
   "source": [
    "write_compile_run_example('''\n",
    "\n",
    "// ejthermalconductivity: Multiple materials in series\n",
    "cout << endl << \"Computing the thermal conductivity using explicit jump considering a locally isotropic sample having several materials in series:\"<< endl;\n",
    "\n",
    "// Initializing Workspace\n",
    "puma::Workspace segWS(100,57,62,0,1e-6, false);\n",
    "\n",
    "// Setting the workspace values of the materials in series\n",
    "segWS.matrix.set(10,19,0,56,0,61,1);\n",
    "segWS.matrix.set(20,29,0,56,0,61,2);\n",
    "segWS.matrix.set(30,39,0,56,0,61,3);\n",
    "segWS.matrix.set(40,49,0,56,0,61,4);\n",
    "segWS.matrix.set(50,59,0,56,0,61,5);\n",
    "segWS.matrix.set(60,69,0,56,0,61,6);\n",
    "segWS.matrix.set(70,79,0,56,0,61,7);\n",
    "segWS.matrix.set(80,89,0,56,0,61,8);\n",
    "segWS.matrix.set(90,99,0,56,0,61,9);\n",
    "\n",
    "// Initializing Temperature field\n",
    "puma::Matrix<double> T;\n",
    "\n",
    "// Initializing material conductivity\n",
    "map<int, double> matCond;\n",
    "matCond[0] = 1;\n",
    "matCond[1] = 2;\n",
    "matCond[2] = 3;\n",
    "matCond[3] = 4;\n",
    "matCond[4] = 5;\n",
    "matCond[5] = 6;\n",
    "matCond[6] = 7;\n",
    "matCond[7] = 8;\n",
    "matCond[8] = 9;\n",
    "matCond[9] = 10;\n",
    "\n",
    "// Running simulation\n",
    "puma::Vec3<double> k = compute_EJThermalConductivity(&segWS, &T, matCond,'x',1e-3,10000,true);\n",
    "\n",
    "cout << endl << \"Conductivity: \" << endl;\n",
    "cout << \"kxx \" << k.x << \" kxy \" << k.y << \" kxz \" << k.z << endl;\n",
    "\n",
    "''')"
   ]
  },
  {
   "cell_type": "code",
   "execution_count": null,
   "metadata": {},
   "outputs": [],
   "source": [
    "write_compile_run_example('''\n",
    "\n",
    "// ejthermalconductivity: FiberForm 100^3\n",
    "cout << endl << \"Computing the thermal conductivity using explicit jump considering a locally isotropic FiberForm 100^3 sample:\"<< endl;\n",
    "\n",
    "// Initializing Workspace\n",
    "puma::Workspace ws(1e-6, false);\n",
    "\n",
    "// Importing 3D tiff\n",
    "puma::import_3DTiff(&ws,puma::path_to_example_file(\"100_fiberform.tif\"));\n",
    "\n",
    "// Segmenting workspace by thresholding\n",
    "ws.setMaterialID(&ws,puma::Cutoff(0,89),0);\n",
    "ws.setMaterialID(&ws,puma::Cutoff(90,255),1);\n",
    "\n",
    "// Initializing Temperature field and material conductivity\n",
    "puma::Matrix<double> T;\n",
    "map<int, double> matCond;\n",
    "matCond[0] = 0.0257; // air conductivity\n",
    "matCond[1] = 12; // approximation to fiber conductivity\n",
    "\n",
    "// Running simulation in three directions\n",
    "puma::Vec3<double> kx = compute_EJThermalConductivity(&ws, &T, matCond,'x',1e-3,10000,true);\n",
    "puma::Vec3<double> ky = compute_EJThermalConductivity(&ws, &T, matCond,'y',1e-3,10000,true);\n",
    "puma::Vec3<double> kz = compute_EJThermalConductivity(&ws, &T, matCond,'z',1e-3,10000,true);\n",
    "\n",
    "cout << endl << \"Conductivity: \" << endl;\n",
    "cout << \"kxx \" << kx.x << \" kxy \" << kx.y << \" kxz \" << kx.z << endl;\n",
    "cout << \"kyx \" << ky.x << \" kyy \" << ky.y << \" kyz \" << ky.z << endl;\n",
    "cout << \"kzx \" << kz.x << \" kzy \" << kz.y << \" kzz \" << kz.z << endl;\n",
    "\n",
    "''')"
   ]
  },
  {
   "cell_type": "code",
   "execution_count": null,
   "metadata": {},
   "outputs": [],
   "source": [
    "write_compile_run_example('''\n",
    "\n",
    "// fvanisotropicthermalconductivity: Multiple materials in series\n",
    "cout << endl << \"Computing the thermal conductivity using finite volume considering a locally anisotropic sample having several materials in series:\"<< endl;\n",
    "\n",
    "// Initializing Workspace\n",
    "puma::Workspace segWS(100,57,62,0,1e-6, false);\n",
    "\n",
    "// Setting the workspace values of the materials in series\n",
    "segWS.matrix.set(10,19,0,56,0,61,1);\n",
    "segWS.matrix.set(20,29,0,56,0,61,2);\n",
    "segWS.matrix.set(30,39,0,56,0,61,3);\n",
    "segWS.matrix.set(40,49,0,56,0,61,4);\n",
    "segWS.matrix.set(50,59,0,56,0,61,5);\n",
    "segWS.matrix.set(60,69,0,56,0,61,6);\n",
    "segWS.matrix.set(70,79,0,56,0,61,7);\n",
    "segWS.matrix.set(80,89,0,56,0,61,8);\n",
    "segWS.matrix.set(90,99,0,56,0,61,9);\n",
    "\n",
    "// Initializing Temperature and Flux field\n",
    "puma::Matrix<double> T;\n",
    "puma::MatVec3<double> q;\n",
    "\n",
    "// Initializing material conductivity\n",
    "map<int, vector<double>> matCond;\n",
    "matCond[0] = {1,1,1,0,0,0};\n",
    "matCond[1] = {2,2,2,0,0,0};\n",
    "matCond[2] = {3,3,3,0,0,0};\n",
    "matCond[3] = {4,4,4,0,0,0};\n",
    "matCond[4] = {5,5,5,0,0,0};\n",
    "matCond[5] = {6,6,6,0,0,0};\n",
    "matCond[6] = {7,7,7,0,0,0};\n",
    "matCond[7] = {8,8,8,0,0,0};\n",
    "matCond[8] = {9,9,9,0,0,0};\n",
    "matCond[9] = {10,10,10,0,0,0};\n",
    "\n",
    "// Running simulation\n",
    "puma::Vec3<double> k = puma::compute_FVanisotropicThermalConductivity(&segWS, &T, &q, matCond, \"mpfa\", \"symmetric\",\"bicgstab\",'x',1e-3,10000,true);\n",
    "\n",
    "cout << endl << \"Conductivity: \" << endl;\n",
    "cout << \"kxx \" << k.x << \" kxy \" << k.y << \" kxz \" << k.z << endl;\n",
    "\n",
    "''')"
   ]
  },
  {
   "cell_type": "code",
   "execution_count": null,
   "metadata": {},
   "outputs": [],
   "source": [
    "write_compile_run_example('''\n",
    "\n",
    "// fvanisotropicthermalconductivity: FiberForm 100^3\n",
    "cout << endl << \"Computing the thermal conductivity using finite volume considering a locally anisotropic FiberForm 100^3 sample:\"<< endl;\n",
    "\n",
    "// Initializing Workspace\n",
    "puma::Workspace ws(1e-6, false);\n",
    "\n",
    "// Importing 3D tiff\n",
    "puma::import_3DTiff(&ws,puma::path_to_example_file(\"100_fiberform.tif\"));\n",
    "\n",
    "// Computing orientations using Structure Tensor (ST) method\n",
    "puma::MatVec3< double> tangents;\n",
    "puma::compute_orientationST(&ws, 0.7, 0.7, puma::Cutoff(89,255), &tangents);\n",
    "\n",
    "// Initializing Temperature, flux field and material conductivity\n",
    "puma::Matrix<double> T;\n",
    "puma::MatVec3<double> q;\n",
    "map<int, vector<double>> matCond;\n",
    "matCond[89] = {0.0257}; // air conductivity\n",
    "matCond[255] = {15, 8}; // approximation to fiber conductivity, here considered isotropic as an example\n",
    "\n",
    "// Running simulation in three directions\n",
    "puma::Vec3<double> kx = puma::compute_FVanisotropicThermalConductivity(&ws, &T, &q, matCond, &tangents, \"mpfa\", \"symmetric\",\"bicgstab\",'x',0.1,10000,true);\n",
    "\n",
    "cout << endl << \"Conductivity: \" << endl;\n",
    "cout << \"kxx \" << kx.x << \" kxy \" << kx.y << \" kxz \" << kx.z << endl;\n",
    "\n",
    "''')"
   ]
  },
  {
   "cell_type": "code",
   "execution_count": null,
   "metadata": {},
   "outputs": [],
   "source": [
    "write_compile_run_example('''\n",
    "\n",
    "// fvanisotropicthermalconductivity: homogeneous analytical solution\n",
    "cout << endl << \"Computing the thermal conductivity of an anisotropic slab with a prescribed boundary temperature:\"<< endl;\n",
    "\n",
    "// Domain size\n",
    "int X = 22, Y = 102, Z = 3;\n",
    "\n",
    "// Initializing datastructures\n",
    "puma::Workspace segWS(X, Y, Z, 0, 1e-6, false);\n",
    "puma::Matrix<double> T;\n",
    "puma::MatVec3<double> q;\n",
    "std::map<int, std::vector<double>> matCond;\n",
    "\n",
    "// Assigning conductivity\n",
    "matCond[0] = {1, 1, 1, 0.75, 0.75, 0.75}; // kxx,kyy,kzz,kxy,kxz,kyz\n",
    "\n",
    "// Initialize prescribed boundary temperature\n",
    "puma::Matrix<double> prescribedBC(2, Y, Z, 0);\n",
    "\n",
    "// Assigning point temperature in the middle of the top surface\n",
    "for (int k = 0; k < Z; k++) {\n",
    "    for (int j = Y/2-1; j < Y/2+1; j++) {\n",
    "        prescribedBC.at(0, j, k) = 1;\n",
    "    }\n",
    "}\n",
    "\n",
    "// Running anisotropic conductivity solver\n",
    "puma::Vec3<double> kx = compute_FVanisotropicThermalConductivity(&segWS, &T, &q, matCond, \"empfa\", \"symmetric\", &prescribedBC,\"bicgstab\", 'x', 1e-8, 10000, false);\n",
    "\n",
    "// Printing slice of the temperature field\n",
    "T.printSlice('z', 2, 12);\n",
    "\n",
    "''')"
   ]
  },
  {
   "cell_type": "code",
   "execution_count": null,
   "metadata": {},
   "outputs": [],
   "source": [
    "write_compile_run_example('''\n",
    "\n",
    "// fvelectricalconductivity: Multiple materials in series\n",
    "cout << endl << \"Computing the electrical conductivity using finite volume considering a locally isotropic sample having several materials in series:\"<< endl;\n",
    "\n",
    "// Initializing Workspace\n",
    "puma::Workspace segWS(100,57,62,0,1e-6, false);\n",
    "\n",
    "// Setting the workspace values of the materials in series\n",
    "segWS.matrix.set(10,19,0,56,0,61,1);\n",
    "segWS.matrix.set(20,29,0,56,0,61,2);\n",
    "segWS.matrix.set(30,39,0,56,0,61,3);\n",
    "segWS.matrix.set(40,49,0,56,0,61,4);\n",
    "segWS.matrix.set(50,59,0,56,0,61,5);\n",
    "segWS.matrix.set(60,69,0,56,0,61,6);\n",
    "segWS.matrix.set(70,79,0,56,0,61,7);\n",
    "segWS.matrix.set(80,89,0,56,0,61,8);\n",
    "segWS.matrix.set(90,99,0,56,0,61,9);\n",
    "\n",
    "// Initializing Temperature field\n",
    "puma::Matrix<double> T;\n",
    "\n",
    "// Initializing material conductivity\n",
    "map<int, double> matCond;\n",
    "matCond[0] = 1;\n",
    "matCond[1] = 2;\n",
    "matCond[2] = 3;\n",
    "matCond[3] = 4;\n",
    "matCond[4] = 5;\n",
    "matCond[5] = 6;\n",
    "matCond[6] = 7;\n",
    "matCond[7] = 8;\n",
    "matCond[8] = 9;\n",
    "matCond[9] = 10;\n",
    "\n",
    "// Running simulation\n",
    "puma::Vec3<double> k = puma::compute_FVElectricalConductivity(&segWS, &T, matCond,\"periodic\",\"bicgstab\",'z',1e-3,10000,true);\n",
    "\n",
    "cout << endl << \"Conductivity: \" << endl;\n",
    "cout << \"kxx \" << k.x << \" kxy \" << k.y << \" kxz \" << k.z << endl;\n",
    "\n",
    "''')"
   ]
  },
  {
   "cell_type": "code",
   "execution_count": null,
   "metadata": {},
   "outputs": [],
   "source": [
    "write_compile_run_example('''\n",
    "\n",
    "// fvelectricalconductivity: FiberForm 100^3\n",
    "cout << endl << \"Computing the electrical conductivity using finite volume considering a locally isotropic FiberForm 100^3 sample:\"<< endl;\n",
    "\n",
    "// Initializing Workspace\n",
    "puma::Workspace ws(1e-6, false);\n",
    "\n",
    "// Importing 3D tiff\n",
    "puma::import_3DTiff(&ws,puma::path_to_example_file(\"200_fiberform_segmented.tif\"));\n",
    "\n",
    "// Segmenting workspace by thresholding\n",
    "ws.setMaterialID(&ws,puma::Cutoff(0,89),0);\n",
    "ws.setMaterialID(&ws,puma::Cutoff(90,255),1);\n",
    "\n",
    "// Initializing Temperature field and material conductivity\n",
    "puma::Matrix<double> T;\n",
    "map<int, double> matCond;\n",
    "matCond[0] = 0.0257; // air conductivity\n",
    "matCond[1] = 12; // approximation to fiber conductivity\n",
    "\n",
    "// Running simulation in three directions\n",
    "puma::Vec3<double> kx = puma::compute_FVElectricalConductivity(&ws, &T, matCond,\"symmetric\",\"cg\",'x',1e-3,10000,true);\n",
    "puma::Vec3<double> ky = puma::compute_FVElectricalConductivity(&ws, &T, matCond,\"symmetric\",\"cg\",'y',1e-3,10000,true);\n",
    "puma::Vec3<double> kz = puma::compute_FVElectricalConductivity(&ws, &T, matCond,\"symmetric\",\"cg\",'z',1e-3,10000,true);\n",
    "\n",
    "cout << endl << \"Conductivity: \" << endl;\n",
    "cout << \"kxx \" << kx.x << \" kxy \" << kx.y << \" kxz \" << kx.z << endl;\n",
    "cout << \"kyx \" << ky.x << \" kyy \" << ky.y << \" kyz \" << ky.z << endl;\n",
    "cout << \"kzx \" << kz.x << \" kzy \" << kz.y << \" kzz \" << kz.z << endl;\n",
    "\n",
    "''')"
   ]
  },
  {
   "cell_type": "code",
   "execution_count": null,
   "metadata": {},
   "outputs": [],
   "source": [
    "write_compile_run_example('''\n",
    "\n",
    "// ejelectricalconductivity: Multiple materials in series\n",
    "cout << endl << \"Computing the electrical conductivity using explicit jump considering a locally isotropic sample having several materials in series:\"<< endl;\n",
    "\n",
    "// Initializing Workspace\n",
    "puma::Workspace segWS(100,57,62,0,1e-6, false);\n",
    "\n",
    "// Setting the workspace values of the materials in series\n",
    "segWS.matrix.set(10,19,0,56,0,61,1);\n",
    "segWS.matrix.set(20,29,0,56,0,61,2);\n",
    "segWS.matrix.set(30,39,0,56,0,61,3);\n",
    "segWS.matrix.set(40,49,0,56,0,61,4);\n",
    "segWS.matrix.set(50,59,0,56,0,61,5);\n",
    "segWS.matrix.set(60,69,0,56,0,61,6);\n",
    "segWS.matrix.set(70,79,0,56,0,61,7);\n",
    "segWS.matrix.set(80,89,0,56,0,61,8);\n",
    "segWS.matrix.set(90,99,0,56,0,61,9);\n",
    "\n",
    "// Initializing Temperature field\n",
    "puma::Matrix<double> T;\n",
    "\n",
    "// Initializing material conductivity\n",
    "map<int, double> matCond;\n",
    "matCond[0] = 1;\n",
    "matCond[1] = 2;\n",
    "matCond[2] = 3;\n",
    "matCond[3] = 4;\n",
    "matCond[4] = 5;\n",
    "matCond[5] = 6;\n",
    "matCond[6] = 7;\n",
    "matCond[7] = 8;\n",
    "matCond[8] = 9;\n",
    "matCond[9] = 10;\n",
    "\n",
    "// Running simulation\n",
    "puma::Vec3<double> k = compute_EJElectricalConductivity(&segWS, &T, matCond,'x',1e-3,10000,true);\n",
    "\n",
    "cout << endl << \"Conductivity: \" << endl;\n",
    "cout << \"kxx \" << k.x << \" kxy \" << k.y << \" kxz \" << k.z << endl;\n",
    "\n",
    "''')"
   ]
  },
  {
   "cell_type": "code",
   "execution_count": null,
   "metadata": {},
   "outputs": [],
   "source": [
    "write_compile_run_example('''\n",
    "\n",
    "// ejelectricalconductivity: FiberForm 100^3\n",
    "cout << endl << \"Computing the electrical conductivity using explicit jump considering a locally isotropic FiberForm 100^3 sample:\"<< endl;\n",
    "\n",
    "// Initializing Workspace\n",
    "puma::Workspace ws(1e-6, false);\n",
    "\n",
    "// Importing 3D tiff\n",
    "puma::import_3DTiff(&ws,puma::path_to_example_file(\"200_fiberform_segmented.tif\"));\n",
    "\n",
    "// Segmenting workspace by thresholding\n",
    "ws.setMaterialID(&ws,puma::Cutoff(0,89),0);\n",
    "ws.setMaterialID(&ws,puma::Cutoff(90,255),1);\n",
    "\n",
    "// Initializing Temperature field and material conductivity\n",
    "puma::Matrix<double> T;\n",
    "map<int, double> matCond;\n",
    "matCond[0] = 0.0257; // air conductivity\n",
    "matCond[1] = 12; // approximation to fiber conductivity\n",
    "\n",
    "// Running simulation in three directions\n",
    "puma::Vec3<double> kx = compute_EJElectricalConductivity(&ws, &T, matCond,'x',1e-3,10000,true);\n",
    "puma::Vec3<double> ky = compute_EJElectricalConductivity(&ws, &T, matCond,'y',1e-3,10000,true);\n",
    "puma::Vec3<double> kz = compute_EJElectricalConductivity(&ws, &T, matCond,'z',1e-3,10000,true);\n",
    "\n",
    "cout << endl << \"Conductivity: \" << endl;\n",
    "cout << \"kxx \" << kx.x << \" kxy \" << kx.y << \" kxz \" << kx.z << endl;\n",
    "cout << \"kyx \" << ky.x << \" kyy \" << ky.y << \" kyz \" << ky.z << endl;\n",
    "cout << \"kzx \" << kz.x << \" kzy \" << kz.y << \" kzz \" << kz.z << endl;\n",
    "\n",
    "''')"
   ]
  },
  {
   "cell_type": "markdown",
   "metadata": {},
   "source": [
    "## Example: tortuosity"
   ]
  },
  {
   "cell_type": "code",
   "execution_count": null,
   "metadata": {},
   "outputs": [],
   "source": [
    "write_compile_run_example('''\n",
    "\n",
    "// tortuosity: compute_EJTortuosity\n",
    "RandomFibersInput input;\n",
    "input.straightCircle(200,200,200,5,0,200,0,90,90,90,true,0.6,1);\n",
    "\n",
    "puma::Workspace grayWS;\n",
    "generateRandomFibers(&grayWS,input);\n",
    "\n",
    "puma::Matrix<double> C;\n",
    "puma::Vec3<double> t = compute_EJTortuosity(&grayWS, &C, puma::Cutoff(0,127), 'x', 1e-3, 10000, true, 0);\n",
    "\n",
    "cout << \"tx: \" << t.x << ' ' << t.y << ' ' << t.z << endl;\n",
    "\n",
    "''')"
   ]
  },
  {
   "cell_type": "code",
   "execution_count": null,
   "metadata": {},
   "outputs": [],
   "source": [
    "write_compile_run_example('''\n",
    "\n",
    "// tortuosity: compute_FVTortuosity\n",
    "RandomFibersInput input;\n",
    "input.straightCircle(200,200,200,5,0,200,0,90,90,90,true,0.6,1);\n",
    "\n",
    "puma::Workspace grayWS;\n",
    "generateRandomFibers(&grayWS,input);\n",
    "\n",
    "puma::Matrix<double> C;\n",
    "puma::Vec3<double> t = compute_FVTortuosity(&grayWS, &C, puma::Cutoff(0,127), \"symmetric\", \"bicgstab\", 'x', 1e-3, 10000, true, 0);\n",
    "\n",
    "cout << \"tx: \" << t.x << ' ' << t.y << ' ' << t.z << endl;\n",
    "\n",
    "''')"
   ]
  },
  {
   "cell_type": "code",
   "execution_count": null,
   "metadata": {},
   "outputs": [],
   "source": [
    "write_compile_run_example('''\n",
    "\n",
    "// tortuosity: compute_particle_cuberille_Tortuosity\n",
    "RandomFibersInput input;\n",
    "input.straightCircle(200,200,200,5,0,200,0,90,90,90,true,0.6,1);\n",
    "\n",
    "puma::Workspace grayWS;\n",
    "generateRandomFibers(&grayWS,input);\n",
    "\n",
    "puma::TortuosityReturn tortReturn = compute_particle_cuberille_Tortuosity(&grayWS,puma::Cutoff(0,127),20000,20000,500,1,10000,0);\n",
    "\n",
    "cout << \"Tortuosity: \" << tortReturn.tortuosity.toString() << endl;\n",
    "cout << \"Mean Intercept Length: \" << tortReturn.meanInterceptLength << endl;\n",
    "cout << \"Diffusion Coefficient: \" << tortReturn.diffusionCoefficient.toString() << endl;\n",
    "\n",
    "''')"
   ]
  },
  {
   "cell_type": "code",
   "execution_count": null,
   "metadata": {},
   "outputs": [],
   "source": [
    "write_compile_run_example('''\n",
    "\n",
    "// tortuosity: compute_particle_isosurface_Tortuosity\n",
    "char dir = 'x';\n",
    "\n",
    "RandomFibersInput input;\n",
    "input.straightCircle(200,200,200,5,0,200,0,90,90,90,true,0.6,1);\n",
    "\n",
    "puma::Workspace grayWS;\n",
    "generateRandomFibers(&grayWS,input);\n",
    "\n",
    "puma::TortuosityReturn tortReturn = compute_particle_isosurface_Tortuosity(&grayWS,puma::Cutoff(0,127),20000,20000,500,1,10000,0);\n",
    "\n",
    "cout << \"Tortuosity: \" << tortReturn.tortuosity.toString() << endl;\n",
    "cout << \"Mean Intercept Length: \" << tortReturn.meanInterceptLength << endl;\n",
    "cout << \"Diffusion Coefficient: \" << tortReturn.diffusionCoefficient.toString() << endl;\n",
    "\n",
    "''')"
   ]
  }
 ],
 "metadata": {
  "kernelspec": {
   "display_name": "Python 3 (ipykernel)",
   "language": "python",
   "name": "python3"
  },
  "language_info": {
   "codemirror_mode": {
    "name": "ipython",
    "version": 3
   },
   "file_extension": ".py",
   "mimetype": "text/x-python",
   "name": "python",
   "nbconvert_exporter": "python",
   "pygments_lexer": "ipython3",
   "version": "3.9.7"
  },
  "toc-autonumbering": true
 },
 "nbformat": 4,
 "nbformat_minor": 4
}