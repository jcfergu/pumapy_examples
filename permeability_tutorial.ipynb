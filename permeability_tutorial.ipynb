{
 "cells": [
  {
   "cell_type": "markdown",
   "metadata": {},
   "source": [
    "![puma logo](https://github.com/nasa/puma/raw/main/doc/source/puma_logo.png)\n",
    "# Welcome to the PuMA tutorial"
   ]
  },
  {
   "cell_type": "markdown",
   "metadata": {},
   "source": [
    "The objective of this notebook is to familiarize new users with the main datastructures that stand at the basis of the PuMA project, and outline the functions to compute material properties (please refer to [this paper](https://www.sciencedirect.com/science/article/pii/S235271102100090X) for more details on the software)."
   ]
  },
  {
   "cell_type": "markdown",
   "metadata": {
    "pycharm": {
     "name": "#%% md\n"
    }
   },
   "source": [
    "# Installation setup and imports"
   ]
  },
  {
   "cell_type": "markdown",
   "metadata": {},
   "source": [
    "If you are running this jupyter notebook locally on your machine, then you don't need to run any setup, granted that you installed PuMA using the installer.sh script. \n",
    "\n",
    "If you are running this notebook online on Google Colab and you only need to run the python tutorials (except for the one about Weaves), the following command is enough to setup the environment:"
   ]
  },
  {
   "cell_type": "code",
   "execution_count": null,
   "metadata": {},
   "outputs": [],
   "source": [
    "if 'google.colab' in str(get_ipython()):\n",
    "    !pip install 'git+https://github.com/nasa/puma'\n",
    "    !pip install -q piglet pyvirtualdisplay\n",
    "    !apt-get -qq install xvfb"
   ]
  },
  {
   "cell_type": "markdown",
   "metadata": {},
   "source": [
    "# Python tutorials\n",
    "\n",
    "In this section, we introduce how to use the pumapy python package. We start by importing the necessary packages:"
   ]
  },
  {
   "cell_type": "code",
   "execution_count": null,
   "metadata": {},
   "outputs": [],
   "source": [
    "import numpy as np\n",
    "import pumapy as puma\n",
    "import pyvista as pv\n",
    "import scipy.ndimage as nd\n",
    "import os\n",
    "import sys\n",
    "if 'google.colab' in str(get_ipython()):\n",
    "    from pyvirtualdisplay import Display\n",
    "    display = Display(visible=0, size=(600, 400))\n",
    "    display.start()  # necessary for pyvista interactive plots\n",
    "    \n",
    "else:  # NORMAL JUPYTER NOTEBOOK\n",
    "    # for interactive slicer (only static allowed on Colab)\n",
    "    %matplotlib widget"
   ]
  },
  {
   "cell_type": "markdown",
   "metadata": {},
   "source": [
    "## Tutorial: Permeability\n",
    "\n",
    "In this tutorial we introduce pumapy's permeability module. The numerical method behind the permeability homogenization function relies on a Finite Element method, which approximates both the velocity and pressure fields with first-order elements (i.e. Q1-Q1) and imposing a unit body force in each Cartesian direction. More details about the specifics of this method can be found in [this publication](https://www.mdpi.com/2311-5521/5/1/16), which was the starting point of the PuMA implementation.\n",
    "\n",
    "The case below is used for Problem 2 of the PSet. More advanced examples of permeability calculations on real materials can be found in the google colab link on pgae 1 of the problem set"
   ]
  },
  {
   "cell_type": "code",
   "execution_count": null,
   "metadata": {},
   "outputs": [],
   "source": [
    "ws = puma.Workspace.from_shape((10,102,3))\n",
    "ws.matrix[:,0,:]=1\n",
    "ws.matrix[:,-1,:]=1\n",
    "ws.voxel_length = 0.01"
   ]
  },
  {
   "cell_type": "code",
   "execution_count": null,
   "metadata": {},
   "outputs": [],
   "source": [
    "keff, u_x, p_x, u_y, p_y, u_z, p_z = puma.compute_permeability(ws, (1, 1), solver_type='direct')\n",
    "\n",
    "print(f\"\\nNumerical diagonal permeability: {keff[0, 0]}\\n\")                                            "
   ]
  },
  {
   "cell_type": "code",
   "execution_count": null,
   "metadata": {},
   "outputs": [],
   "source": [
    "puma.render_volume(u_x[:,1:,:,0], solid_color=None, style='surface', cmap='jet', notebook=True)\n",
    "# puma.render_volume(ws, solid_color=None, style='surface', cmap='jet', notebook=True)\n",
    "\n",
    "import matplotlib.pyplot as plt \n",
    "plt.close()\n",
    "\n",
    "x = np.arange(101) \n",
    "y = u_x[5,1:,1,0]\n",
    "plt.plot(x, y, label='numerical') \n",
    "plt.xlabel('y-poxition') \n",
    "plt.ylabel('velocity')\n",
    "\n",
    "\n",
    "plt.legend()\n",
    "plt.show() \n"
   ]
  }
 ],
 "metadata": {
  "kernelspec": {
   "display_name": "Python 3 (ipykernel)",
   "language": "python",
   "name": "python3"
  },
  "language_info": {
   "codemirror_mode": {
    "name": "ipython",
    "version": 3
   },
   "file_extension": ".py",
   "mimetype": "text/x-python",
   "name": "python",
   "nbconvert_exporter": "python",
   "pygments_lexer": "ipython3",
   "version": "3.7.4"
  },
  "toc-autonumbering": true
 },
 "nbformat": 4,
 "nbformat_minor": 4
}
